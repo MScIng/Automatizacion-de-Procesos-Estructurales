{
 "cells": [
  {
   "cell_type": "code",
   "execution_count": 34,
   "metadata": {},
   "outputs": [],
   "source": [
    "import os\n",
    "import sys\n",
    "import comtypes.client\n",
    "import pandas as pd\n",
    "import numpy as np\n",
    "import matplotlib.pyplot as plt"
   ]
  },
  {
   "cell_type": "code",
   "execution_count": 35,
   "metadata": {},
   "outputs": [],
   "source": [
    "# True: Trabajará con el programa ETBAS que esté abierto\n",
    "# False: Se abrirá el programa de manera Automaticade \n",
    "AttachToInstance = False\n",
    "\n",
    "\n",
    "# True: para especificar manualmente la ruta a ETABS.exe\n",
    "# False: se usará la última versión instalada de ETABS\n",
    "SpecifyPath = True\n",
    "\n",
    "# si el indicador anterior está en True, especifique la ruta a ETABS a continuación\n",
    "ProgramPath = \"C:\\Program Files\\Computers and Structures\\ETABS 20\\ETABS.exe\"\n",
    "\n",
    "# ruta completa del modelo \n",
    "# ajústelo a la ruta deseada de su modelo\n",
    "APIPath = 'C:\\CSi_ETABS_API_Example'\n",
    "if not os.path.exists(APIPath):\n",
    "    try:\n",
    "        os.makedirs(APIPath)\n",
    "    except OSError:\n",
    "        pass\n",
    "ModelPath = APIPath + os.sep + 'API_1-001.edb'\n",
    "\n",
    "# crear objeto API helper\n",
    "helper = comtypes.client.CreateObject('ETABSv1.Helper')\n",
    "helper = helper.QueryInterface(comtypes.gen.ETABSv1.cHelper)\n",
    "\n",
    "if AttachToInstance:\n",
    "    try:\n",
    "        # obtener el objeto ETABS activo\n",
    "        myETABSObject = helper.GetObject(\"CSI.ETABS.API.ETABSObject\") \n",
    "    except (OSError, comtypes.COMError):\n",
    "        print(\"No running instance of the program found or failed to attach.\")\n",
    "        sys.exit(-1)\n",
    "else:\n",
    "    if SpecifyPath:\n",
    "        try:\n",
    "            # crear una instancia del objeto ETABS a partir de la ruta especificada\n",
    "            myETABSObject = helper.CreateObject(ProgramPath)\n",
    "        except (OSError, comtypes.COMError):\n",
    "            print(\"Cannot start a new instance of the program from \" + ProgramPath)\n",
    "            sys.exit(-1)\n",
    "    else:\n",
    "        try: \n",
    "            # crear una instancia del objeto ETABS a partir del último ETABS instalado\n",
    "            myETABSObject = helper.CreateObjectProgID(\"CSI.ETABS.API.ETABSObject\") \n",
    "        except (OSError, comtypes.COMError):\n",
    "            print(\"Cannot start a new instance of the program.\")\n",
    "            sys.exit(-1)\n",
    "\n",
    "    # Comenzar la aplicacion de ETABS\n",
    "    myETABSObject.ApplicationStart()\n",
    "\n",
    "# Crear un objeto SapModel\n",
    "ret = SapModel = myETABSObject.SapModel\n",
    "\n",
    "# Iniciar Modelo\n",
    "ret = SapModel.InitializeNewModel()"
   ]
  },
  {
   "cell_type": "code",
   "execution_count": 36,
   "metadata": {},
   "outputs": [],
   "source": [
    "#crear nuevo modelo en blanco\n",
    "ret = SapModel.File.NewBlank()"
   ]
  },
  {
   "cell_type": "code",
   "execution_count": 37,
   "metadata": {},
   "outputs": [],
   "source": [
    "#cambiar a unidades ton_m\n",
    "Tonf_m_C = 12\n",
    "ret = SapModel.SetPresentUnits(Tonf_m_C)"
   ]
  },
  {
   "cell_type": "code",
   "execution_count": 38,
   "metadata": {},
   "outputs": [],
   "source": [
    "# Definicion de material Concreto\n",
    "fc = 280\n",
    "material_type = 2\n",
    "material_name = \"fc=\" + str(fc) + \"kg/cm2\"    # fc=280kg/cm2\n",
    "ret = SapModel.PropMaterial.SetMaterial(material_name, material_type)\n",
    "# definir las propiedades mecanicas del material\n",
    "E = 150000*fc**0.5          \n",
    "v = 0.2\n",
    "CT = 0.0000055\n",
    "ret = SapModel.PropMaterial.SetMPIsotropic(material_name, E, v, CT)"
   ]
  },
  {
   "cell_type": "code",
   "execution_count": 39,
   "metadata": {},
   "outputs": [],
   "source": [
    "# crear seccion de viga y columna\n",
    "# Viga\n",
    "b_v = 0.3\n",
    "h_v = 0.6\n",
    "nombre_viga = \"V \" + str(b_v) + \"x\" + str(h_v)          # V 0.3x0.6\n",
    "ret = SapModel.PropFrame.SetRectangle(nombre_viga, material_name, h_v , b_v)\n",
    "\n",
    "\n",
    "# Columna\n",
    "b_c = 0.45\n",
    "h_c = 0.45\n",
    "nombre_columna = \"C \" + str(b_c) + \"x\" + str(h_c)       # C 0.45x0.45\n",
    "ret = SapModel.PropFrame.SetRectangle(nombre_columna, material_name, h_c , b_c)"
   ]
  },
  {
   "cell_type": "code",
   "execution_count": 40,
   "metadata": {},
   "outputs": [],
   "source": [
    "h = 5       # m  Altura de las columnas\n",
    "L1 = 2      # m  Longitud del primer paño\n",
    "paños = 18   #    Numero de paños"
   ]
  },
  {
   "cell_type": "code",
   "execution_count": 41,
   "metadata": {},
   "outputs": [],
   "source": [
    "# columnas\n",
    "for i in range(paños+1):\n",
    "    FrameName = ' '\n",
    "    [FrameName, ret] = SapModel.FrameObj.AddByCoord(i*L1,0,0,i*L1,0,h, FrameName, nombre_columna, '', 'Global')\n",
    "\n",
    "# vigas\n",
    "for i in range(paños):\n",
    "    FrameName = ' '\n",
    "    [FrameName, ret] = SapModel.FrameObj.AddByCoord(i*L1,0,h,(i+1)*L1,0,h, FrameName, nombre_viga, '', 'Global')\n",
    "\n",
    "# Muro\n",
    "name_wall = \" \"\n",
    "x = [0, L1, L1, 0]\n",
    "y = [0, 0, 0, 0]\n",
    "z = [0, 0, h, h]\n",
    "ret = SapModel.AreaObj.AddByCoord(4, x, y, z, name_wall)\n",
    "\n",
    "name_wall = \" \"\n",
    "x1 = [(paños-1)*L1, paños*L1, paños*L1, (paños-1)*L1]\n",
    "y1 = [0, 0, 0, 0]\n",
    "z1 = [0, 0, h, h]\n",
    "ret = SapModel.AreaObj.AddByCoord(4, x1, y1, z1, name_wall)"
   ]
  },
  {
   "cell_type": "code",
   "execution_count": 42,
   "metadata": {},
   "outputs": [],
   "source": [
    "#actualizar vista, actualizar (inicializar) zoom\n",
    "ret = SapModel.View.RefreshView(0, False)"
   ]
  },
  {
   "cell_type": "code",
   "execution_count": 43,
   "metadata": {},
   "outputs": [],
   "source": [
    "# asignar resitrcciones\n",
    "Restraint = [True, True, True, True, True, True]        # empotramiento\n",
    "NR = paños +1\n",
    "for i in range(NR):\n",
    "    PointNamei, PointNamej = ' ', ' '\n",
    "    [PointNamei ,PointNamej, ret] = SapModel.FrameObj.GetPoints(str(i+1), PointNamei, PointNamej)\n",
    "    ret = SapModel.PointObj.SetRestraint(PointNamei, Restraint)\n",
    "\n",
    "#actualizar vista, actualizar (inicializar) zoom\n",
    "ret = SapModel.View.RefreshView(0, False)"
   ]
  },
  {
   "cell_type": "code",
   "execution_count": 44,
   "metadata": {},
   "outputs": [],
   "source": [
    "# asignar cargas\n",
    "# crear un Load Pattern\n",
    "ret = SapModel.LoadPatterns.Add(\"FH\", 8, 0, True)\n",
    "\n",
    "# Asignar carga distribuida Dead y Live\n",
    "## Asignando cargas a la primera viga\n",
    "for i in range(paños):\n",
    "    ret = SapModel.FrameObj.SetLoadDistributed(str(paños+2+i), \"Dead\", 1, 2, 0, 1, -0.4, -0.4, \"Local\")\n",
    "    ret = SapModel.FrameObj.SetLoadDistributed(str(paños+2+i), \"Live\", 1, 2, 0, 1, -0.25, -0.25, \"Local\")"
   ]
  },
  {
   "cell_type": "code",
   "execution_count": 46,
   "metadata": {},
   "outputs": [],
   "source": [
    "# Asignar carga puntual\n",
    "## extremo izquierdo - primera columna\n",
    "PointName1 = ' '\n",
    "PointName2 = ' '\n",
    "[PointName1, PointName2, ret] = SapModel.FrameObj.GetPoints(\"1\", PointName1, PointName2)\n",
    "PointLoadValue = [1,0,0,0,0,0]\n",
    "ret = SapModel.PointObj.SetLoadForce(PointName2, 'FH', PointLoadValue)"
   ]
  }
 ],
 "metadata": {
  "kernelspec": {
   "display_name": "Python 3",
   "language": "python",
   "name": "python3"
  },
  "language_info": {
   "codemirror_mode": {
    "name": "ipython",
    "version": 3
   },
   "file_extension": ".py",
   "mimetype": "text/x-python",
   "name": "python",
   "nbconvert_exporter": "python",
   "pygments_lexer": "ipython3",
   "version": "3.9.13"
  },
  "orig_nbformat": 4
 },
 "nbformat": 4,
 "nbformat_minor": 2
}
