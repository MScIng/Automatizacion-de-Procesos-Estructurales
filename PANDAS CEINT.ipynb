{
  "cells": [
    {
      "cell_type": "markdown",
      "metadata": {},
      "source": [
        "**¿Qué es Pandas?**\n",
        "\n",
        "Pandas es una muy popular librería de código abierto dentro de los desarrolladores de Python, y sobre todo dentro del ámbito de Data Science y Machine Learning, ya que ofrece unas estructuras muy poderosas y flexibles que facilitan la manipulación y tratamiento de datos.\n",
        "\n",
        "Pandas surgió como necesidad de aunar en una única librería todo lo necesario para que un analista de datos pudiese tener en una misma herramienta todas las funcionalidades que necesitaba en su día a día, como son: cargar datos, modelar, analizar, manipular y prepararlos."
      ]
    },
    {
      "cell_type": "markdown",
      "metadata": {
        "id": "oRm92QuMzLgP"
      },
      "source": [
        "## Introducción\n",
        "\n",
        "Las dos estructuras de datos principales dentro del paquete Pandas son:\n",
        "\n",
        "- **Series:** array unidimensional etiquetado capaz de almacenar cualquier tipo de dato.\n",
        "\n",
        "- **DataFrame:** estructura bidimensional con columnas que pueden ser también de cualquier tipo. Estas columnas son a su vez Series.\n",
        "\n",
        "\n"
      ]
    },
    {
      "cell_type": "markdown",
      "metadata": {},
      "source": [
        "En `Python`, para definir un dataframe, en primer lugar necesitamos importar el módulo `pandas`."
      ]
    },
    {
      "cell_type": "code",
      "execution_count": 1,
      "metadata": {
        "id": "vkv8i5UWzObk"
      },
      "outputs": [],
      "source": [
        "import pandas as pd"
      ]
    },
    {
      "cell_type": "markdown",
      "metadata": {
        "id": "AvNvzjXMFvZj"
      },
      "source": [
        "\n",
        "---\n",
        "\n",
        "A continuación, si queremos un dataframe de 5 filas y 2 columnas, podemos hacerlo a partir de un diccionario, una lista de listas, una lista de diccionarios, etc.\n",
        "\n",
        "\n",
        "#### Ejemplo 1\n",
        "\n",
        "Vamos a crear un dataframe de 5 filas y 2 columnas a partir de un diccionario.\n",
        "\n",
        "Para ello, primero creamos un diccionario donde las claves serán los nombres de las columnas y los valores serán listas, con tantos elementos como número de filas queramos.\n",
        "\n",
        "Finalmente, convertimos ese diccionario a dataframe con la función `DataFrame()` de `pandas`:"
      ]
    },
    {
      "cell_type": "code",
      "execution_count": 2,
      "metadata": {
        "colab": {
          "base_uri": "https://localhost:8080/"
        },
        "id": "m_EKIBvn0VJY",
        "outputId": "0792d451-1cf2-485f-bb8c-2593db1ec78d"
      },
      "outputs": [
        {
          "name": "stdout",
          "output_type": "stream",
          "text": [
            "   x   y\n",
            "0  1   2\n",
            "1  2   4\n",
            "2  3   6\n",
            "3  4   8\n",
            "4  5  10\n"
          ]
        }
      ],
      "source": [
        "data = {\"x\": [1, 2, 3, 4, 5], \n",
        "        \"y\": [2, 4, 6, 8, 10]}\n",
        "df1 = pd.DataFrame(data = data)\n",
        "print(df1)"
      ]
    },
    {
      "cell_type": "code",
      "execution_count": 3,
      "metadata": {},
      "outputs": [
        {
          "data": {
            "text/html": [
              "<div>\n",
              "<style scoped>\n",
              "    .dataframe tbody tr th:only-of-type {\n",
              "        vertical-align: middle;\n",
              "    }\n",
              "\n",
              "    .dataframe tbody tr th {\n",
              "        vertical-align: top;\n",
              "    }\n",
              "\n",
              "    .dataframe thead th {\n",
              "        text-align: right;\n",
              "    }\n",
              "</style>\n",
              "<table border=\"1\" class=\"dataframe\">\n",
              "  <thead>\n",
              "    <tr style=\"text-align: right;\">\n",
              "      <th></th>\n",
              "      <th>x</th>\n",
              "      <th>y</th>\n",
              "    </tr>\n",
              "  </thead>\n",
              "  <tbody>\n",
              "    <tr>\n",
              "      <th>0</th>\n",
              "      <td>1</td>\n",
              "      <td>2</td>\n",
              "    </tr>\n",
              "    <tr>\n",
              "      <th>1</th>\n",
              "      <td>2</td>\n",
              "      <td>4</td>\n",
              "    </tr>\n",
              "    <tr>\n",
              "      <th>2</th>\n",
              "      <td>3</td>\n",
              "      <td>6</td>\n",
              "    </tr>\n",
              "    <tr>\n",
              "      <th>3</th>\n",
              "      <td>4</td>\n",
              "      <td>8</td>\n",
              "    </tr>\n",
              "    <tr>\n",
              "      <th>4</th>\n",
              "      <td>5</td>\n",
              "      <td>10</td>\n",
              "    </tr>\n",
              "  </tbody>\n",
              "</table>\n",
              "</div>"
            ],
            "text/plain": [
              "   x   y\n",
              "0  1   2\n",
              "1  2   4\n",
              "2  3   6\n",
              "3  4   8\n",
              "4  5  10"
            ]
          },
          "metadata": {},
          "output_type": "display_data"
        }
      ],
      "source": [
        "display(df1)"
      ]
    },
    {
      "cell_type": "markdown",
      "metadata": {
        "id": "vDgNHv-x0v_f"
      },
      "source": [
        "Como habíamos dicho, hemos creado un dataframe de 5 filas y dos columnas, llamadas `x` e `y` respectivamente.\n",
        "\n",
        "**Observación.** Como resultado del `print()`, no solamente hemos obtenido las 5 filas y 2 columnas, sino que hay una columna adicional de 5 números ordenados verticalmete del 0 al 4. Se trata simplemente del nombre de cada fila, que por defecto es el índice de cada fila. El 0 indica la primera fila; el 1, la segunda; y así, sucesivamente."
      ]
    },
    {
      "cell_type": "markdown",
      "metadata": {
        "id": "HybHvVmgFyqR"
      },
      "source": [
        "---\n",
        "\n",
        "#### Ejemplo 2\n",
        "\n",
        "Vamos a crear el mismo dataframe de 5 filas y 2 columnas, con la diferencia de que vamos a modificar el nombre de las filas.\n",
        "\n",
        "Lo haremos a partir del diccionario `data` y utilizaremos el parámetro `index` de la función `DataFrame()` de `pandas`"
      ]
    },
    {
      "cell_type": "code",
      "execution_count": 4,
      "metadata": {
        "colab": {
          "base_uri": "https://localhost:8080/"
        },
        "id": "I3oxHYOYGlrp",
        "outputId": "9b50acb3-e41a-41af-ea76-0a9b35f748df"
      },
      "outputs": [
        {
          "name": "stdout",
          "output_type": "stream",
          "text": [
            "      x   y\n",
            "obs1  1   2\n",
            "obs2  2   4\n",
            "obs3  3   6\n",
            "obs4  4   8\n",
            "obs5  5  10\n"
          ]
        }
      ],
      "source": [
        "df3 = pd.DataFrame(data = data, index = [\"obs1\", \"obs2\", \"obs3\", \"obs4\", \"obs5\"])\n",
        "print(df3)"
      ]
    },
    {
      "cell_type": "markdown",
      "metadata": {
        "id": "d9xyInznHI1z"
      },
      "source": [
        "En este caso, al parámetro `index` le hemos pasado una lista con 5 strings.\n",
        "\n",
        "**¡Cuidado!.** Al construir un dataframe a partir de un diccionario (o cualquier objeto de `Python` que contenga algún diccionario), los nombres de las columnas son las claves del diccionario. Si quisiésemos cambiarlos con el parámetro `columns` directamente, nos pasaría lo siguiente:"
      ]
    },
    {
      "cell_type": "code",
      "execution_count": 7,
      "metadata": {
        "colab": {
          "base_uri": "https://localhost:8080/"
        },
        "id": "6R5KdedOhKl7",
        "outputId": "59205ac8-e56b-4755-96a3-0f447c3c1378"
      },
      "outputs": [
        {
          "data": {
            "text/html": [
              "<div>\n",
              "<style scoped>\n",
              "    .dataframe tbody tr th:only-of-type {\n",
              "        vertical-align: middle;\n",
              "    }\n",
              "\n",
              "    .dataframe tbody tr th {\n",
              "        vertical-align: top;\n",
              "    }\n",
              "\n",
              "    .dataframe thead th {\n",
              "        text-align: right;\n",
              "    }\n",
              "</style>\n",
              "<table border=\"1\" class=\"dataframe\">\n",
              "  <thead>\n",
              "    <tr style=\"text-align: right;\">\n",
              "      <th></th>\n",
              "      <th>a</th>\n",
              "      <th>b</th>\n",
              "      <th>c</th>\n",
              "    </tr>\n",
              "  </thead>\n",
              "  <tbody>\n",
              "    <tr>\n",
              "      <th>0</th>\n",
              "      <td>1</td>\n",
              "      <td>4</td>\n",
              "      <td>NaN</td>\n",
              "    </tr>\n",
              "    <tr>\n",
              "      <th>1</th>\n",
              "      <td>2</td>\n",
              "      <td>5</td>\n",
              "      <td>NaN</td>\n",
              "    </tr>\n",
              "    <tr>\n",
              "      <th>2</th>\n",
              "      <td>3</td>\n",
              "      <td>6</td>\n",
              "      <td>NaN</td>\n",
              "    </tr>\n",
              "  </tbody>\n",
              "</table>\n",
              "</div>"
            ],
            "text/plain": [
              "   a  b    c\n",
              "0  1  4  NaN\n",
              "1  2  5  NaN\n",
              "2  3  6  NaN"
            ]
          },
          "metadata": {},
          "output_type": "display_data"
        }
      ],
      "source": [
        "d = {\"a\": [1, 2, 3],\n",
        "     \"b\": [4, 5, 6],\n",
        "     \"b1\": [7, 8, 9]}\n",
        "\n",
        "df = pd.DataFrame(d, columns = [\"a\", \"b\", \"c\"])\n",
        "display(df)"
      ]
    },
    {
      "cell_type": "markdown",
      "metadata": {
        "id": "6DnwlUzv_A_W"
      },
      "source": [
        "## Subdataframes\n",
        "\n",
        "**Subdataframe.** Dado un dataframe, un subdataframe no es más que la selección de unas filas y columnas en particular.\n",
        "\n",
        "\n"
      ]
    },
    {
      "cell_type": "markdown",
      "metadata": {
        "id": "IpLxwABND5ck"
      },
      "source": [
        "### Columnas\n",
        "\n",
        "Dado un dataframe, podemos seleccionar una columna en particular de diversas formas:\n",
        "\n",
        "- Indicando el nombre de la columna entre claudators, `[]`\n",
        "- Con el método `.columns[]`\n",
        "- Con el método `.loc[]` (por nombre o etiqueta)\n",
        "- Con el método `.iloc[]` (por posición)"
      ]
    },
    {
      "cell_type": "code",
      "execution_count": null,
      "metadata": {
        "id": "pAbva67f5l8x"
      },
      "outputs": [],
      "source": [
        "fdata = {\"Name\": [\"Alicia\", \"Bill\", \"Carlos\", \"Diana\"],\n",
        "        \"Age\": [22, 28, 19, 34],\n",
        "        \"Pet\": [True, False, False, True],\n",
        "        \"Height\": [157, 190, 175, 164],\n",
        "        \"Birthday\": [\"Mayo\", \"Junio\", \"Agosto\", \"Diciembre\"]}\n",
        "\n",
        "df = pd.DataFrame(data = fdata, index = [\"obs1\", \"obs2\", \"obs3\", \"obs4\"])"
      ]
    },
    {
      "cell_type": "code",
      "execution_count": null,
      "metadata": {
        "colab": {
          "base_uri": "https://localhost:8080/",
          "height": 173
        },
        "id": "JcS8AClbttzJ",
        "outputId": "b8ce28bd-4d3b-4f34-b6aa-780ceae2b3ff"
      },
      "outputs": [
        {
          "data": {
            "text/html": [
              "<div>\n",
              "<style scoped>\n",
              "    .dataframe tbody tr th:only-of-type {\n",
              "        vertical-align: middle;\n",
              "    }\n",
              "\n",
              "    .dataframe tbody tr th {\n",
              "        vertical-align: top;\n",
              "    }\n",
              "\n",
              "    .dataframe thead th {\n",
              "        text-align: right;\n",
              "    }\n",
              "</style>\n",
              "<table border=\"1\" class=\"dataframe\">\n",
              "  <thead>\n",
              "    <tr style=\"text-align: right;\">\n",
              "      <th></th>\n",
              "      <th>Name</th>\n",
              "      <th>Age</th>\n",
              "      <th>Pet</th>\n",
              "      <th>Height</th>\n",
              "      <th>Birthday</th>\n",
              "    </tr>\n",
              "  </thead>\n",
              "  <tbody>\n",
              "    <tr>\n",
              "      <th>obs1</th>\n",
              "      <td>Alicia</td>\n",
              "      <td>22</td>\n",
              "      <td>True</td>\n",
              "      <td>157</td>\n",
              "      <td>Mayo</td>\n",
              "    </tr>\n",
              "    <tr>\n",
              "      <th>obs2</th>\n",
              "      <td>Bill</td>\n",
              "      <td>28</td>\n",
              "      <td>False</td>\n",
              "      <td>190</td>\n",
              "      <td>Junio</td>\n",
              "    </tr>\n",
              "    <tr>\n",
              "      <th>obs3</th>\n",
              "      <td>Carlos</td>\n",
              "      <td>19</td>\n",
              "      <td>False</td>\n",
              "      <td>175</td>\n",
              "      <td>Agosto</td>\n",
              "    </tr>\n",
              "    <tr>\n",
              "      <th>obs4</th>\n",
              "      <td>Diana</td>\n",
              "      <td>34</td>\n",
              "      <td>True</td>\n",
              "      <td>164</td>\n",
              "      <td>Diciembre</td>\n",
              "    </tr>\n",
              "  </tbody>\n",
              "</table>\n",
              "</div>"
            ],
            "text/plain": [
              "        Name  Age    Pet  Height   Birthday\n",
              "obs1  Alicia   22   True     157       Mayo\n",
              "obs2    Bill   28  False     190      Junio\n",
              "obs3  Carlos   19  False     175     Agosto\n",
              "obs4   Diana   34   True     164  Diciembre"
            ]
          },
          "execution_count": 29,
          "metadata": {
            "tags": []
          },
          "output_type": "execute_result"
        }
      ],
      "source": [
        "df"
      ]
    },
    {
      "cell_type": "code",
      "execution_count": null,
      "metadata": {
        "colab": {
          "base_uri": "https://localhost:8080/"
        },
        "id": "Qr9shpSqBnwl",
        "outputId": "ffe81104-9a59-4807-d2ec-88e6e713b8c3"
      },
      "outputs": [
        {
          "name": "stdout",
          "output_type": "stream",
          "text": [
            "obs1         Mayo\n",
            "obs2        Junio\n",
            "obs3       Agosto\n",
            "obs4    Diciembre\n",
            "Name: Birthday, dtype: object\n"
          ]
        }
      ],
      "source": [
        "# Seleccionamos la columna Birthday por nombre\n",
        "print(df[\"Birthday\"])"
      ]
    },
    {
      "cell_type": "code",
      "execution_count": null,
      "metadata": {
        "colab": {
          "base_uri": "https://localhost:8080/"
        },
        "id": "V5MuhltaiUhI",
        "outputId": "e7d05db4-3eb0-4b84-f1ae-6c479b447250"
      },
      "outputs": [
        {
          "name": "stdout",
          "output_type": "stream",
          "text": [
            "obs1         Mayo\n",
            "obs2        Junio\n",
            "obs3       Agosto\n",
            "obs4    Diciembre\n",
            "Name: Birthday, dtype: object\n"
          ]
        }
      ],
      "source": [
        "# Seleccionamos la columna Birthday con el método .columns[]\n",
        "print(df[df.columns[4]])"
      ]
    },
    {
      "cell_type": "code",
      "execution_count": null,
      "metadata": {
        "colab": {
          "base_uri": "https://localhost:8080/"
        },
        "id": "kdxXwOdhin38",
        "outputId": "e6b6fce2-22dd-43dc-c77b-8f6cfdd865f2"
      },
      "outputs": [
        {
          "name": "stdout",
          "output_type": "stream",
          "text": [
            "obs1         Mayo\n",
            "obs2        Junio\n",
            "obs3       Agosto\n",
            "obs4    Diciembre\n",
            "Name: Birthday, dtype: object\n"
          ]
        }
      ],
      "source": [
        "# Seleccionamos la columna Birthday con el método .loc[]\n",
        "print(df.loc[:, \"Birthday\"])"
      ]
    },
    {
      "cell_type": "markdown",
      "metadata": {
        "id": "kVE4Fzt6i0tc"
      },
      "source": [
        "**Observación.** Al método `.loc[]` le hemos indicado que tome todas las filas con `:` en la primera posición y la columna `\"Birthday\"` directamente indicando su nombre en la segunda posición."
      ]
    },
    {
      "cell_type": "code",
      "execution_count": null,
      "metadata": {
        "colab": {
          "base_uri": "https://localhost:8080/"
        },
        "id": "b_eJaoFTjcLe",
        "outputId": "5337c42f-e380-443d-8dc9-730c766477f3"
      },
      "outputs": [
        {
          "name": "stdout",
          "output_type": "stream",
          "text": [
            "0         Mayo\n",
            "1        Junio\n",
            "2       Agosto\n",
            "3    Diciembre\n",
            "Name: Birthday, dtype: object\n"
          ]
        }
      ],
      "source": [
        "# Seleccionamos la columna Birthday con el método .iloc[]\n",
        "print(df.iloc[:, 4])"
      ]
    },
    {
      "cell_type": "markdown",
      "metadata": {
        "id": "2zwhzm14juKv"
      },
      "source": [
        "**Observación.** Al método `.iloc[]` le hemos indicado que tome todas las filas con `:` en la primera posición y la columna `\"Birthday\"` indicando el índice que ocupa como columna."
      ]
    },
    {
      "cell_type": "markdown",
      "metadata": {
        "id": "W3lMDNFZCjJp"
      },
      "source": [
        "Si quisiésemos seleccionar más de una columna, podríamos hacerlo con todas las opciones enumeradas anteriormente, con ligeras modificaciones en algunos casos:"
      ]
    },
    {
      "cell_type": "code",
      "execution_count": null,
      "metadata": {
        "colab": {
          "base_uri": "https://localhost:8080/"
        },
        "id": "-9TEHYAb__2L",
        "outputId": "99c9d6d6-f525-4281-b615-1a68ecaaa7b7"
      },
      "outputs": [
        {
          "name": "stdout",
          "output_type": "stream",
          "text": [
            "        Name  Age\n",
            "obs1  Alicia   22\n",
            "obs2    Bill   28\n",
            "obs3  Carlos   19\n",
            "obs4   Diana   34\n"
          ]
        }
      ],
      "source": [
        "# Seleccionamos las columnas Name y Age por nombre\n",
        "print(df[[\"Name\", \"Age\"]])"
      ]
    },
    {
      "cell_type": "code",
      "execution_count": null,
      "metadata": {
        "colab": {
          "base_uri": "https://localhost:8080/"
        },
        "id": "ySYYe4Q1kq_c",
        "outputId": "726b24ab-cf13-4481-81f0-2434a68639a4"
      },
      "outputs": [
        {
          "name": "stdout",
          "output_type": "stream",
          "text": [
            "        Name  Age\n",
            "obs1  Alicia   22\n",
            "obs2    Bill   28\n",
            "obs3  Carlos   19\n",
            "obs4   Diana   34\n"
          ]
        }
      ],
      "source": [
        "# Seleccionamos las columnas Name y Age con el método .columns[]\n",
        "print(df[df.columns[[0, 1]]])"
      ]
    },
    {
      "cell_type": "markdown",
      "metadata": {
        "id": "Cgh2YNKx8S86"
      },
      "source": [
        "**Observación.** Además, como estas dos columnas están seguidas en nuestro dataframe, podríamos también usar la sintaxis siguiente no solo en esta opción, sino también en el resto de opciones que hemos visto."
      ]
    },
    {
      "cell_type": "code",
      "execution_count": null,
      "metadata": {
        "colab": {
          "base_uri": "https://localhost:8080/"
        },
        "id": "WyTEhpVD87UC",
        "outputId": "43644168-88b8-48bf-b402-e0155e20e6a6"
      },
      "outputs": [
        {
          "name": "stdout",
          "output_type": "stream",
          "text": [
            "        Name  Age\n",
            "obs1  Alicia   22\n",
            "obs2    Bill   28\n",
            "obs3  Carlos   19\n",
            "obs4   Diana   34\n"
          ]
        }
      ],
      "source": [
        "print(df[df.columns[0:2]])"
      ]
    },
    {
      "cell_type": "code",
      "execution_count": null,
      "metadata": {
        "colab": {
          "base_uri": "https://localhost:8080/"
        },
        "id": "HNgNTg3xk3Dm",
        "outputId": "183d23c6-bcdd-4d8a-e37f-8ce1ffe557c4"
      },
      "outputs": [
        {
          "name": "stdout",
          "output_type": "stream",
          "text": [
            "        Name  Age\n",
            "obs1  Alicia   22\n",
            "obs2    Bill   28\n",
            "obs3  Carlos   19\n",
            "obs4   Diana   34\n"
          ]
        }
      ],
      "source": [
        "# Seleccionamos las columnas Name y Age con el método .loc[]\n",
        "print(df.loc[:, [\"Name\", \"Age\"]])"
      ]
    },
    {
      "cell_type": "code",
      "execution_count": null,
      "metadata": {
        "colab": {
          "base_uri": "https://localhost:8080/"
        },
        "id": "avF57fxC9Eow",
        "outputId": "69b5a4b1-3d30-4924-a001-34d3327752c6"
      },
      "outputs": [
        {
          "name": "stdout",
          "output_type": "stream",
          "text": [
            "        Name  Age\n",
            "obs1  Alicia   22\n",
            "obs2    Bill   28\n",
            "obs3  Carlos   19\n",
            "obs4   Diana   34\n"
          ]
        }
      ],
      "source": [
        "print(df.loc[:, \"Name\":\"Age\"])"
      ]
    },
    {
      "cell_type": "markdown",
      "metadata": {
        "id": "WCb8qdq29Ro0"
      },
      "source": [
        "**¡Cuidado!** Como podemos ver, al usar `:` con strings, el indicado a la derecha sí que es incluido."
      ]
    },
    {
      "cell_type": "code",
      "execution_count": null,
      "metadata": {
        "colab": {
          "base_uri": "https://localhost:8080/"
        },
        "id": "GZVT0OVJk7oh",
        "outputId": "6f4b5ef9-2968-44d1-c6de-ee7c372f7b86"
      },
      "outputs": [
        {
          "name": "stdout",
          "output_type": "stream",
          "text": [
            "        Name  Age\n",
            "obs1  Alicia   22\n",
            "obs2    Bill   28\n",
            "obs3  Carlos   19\n",
            "obs4   Diana   34\n"
          ]
        }
      ],
      "source": [
        "# Seleccionamos las columnas Name y Age con el método .iloc[]\n",
        "print(df.iloc[:, [0, 1]])"
      ]
    },
    {
      "cell_type": "code",
      "execution_count": null,
      "metadata": {
        "colab": {
          "base_uri": "https://localhost:8080/"
        },
        "id": "PzzCldja9Lem",
        "outputId": "76d6c4ac-f350-4e7b-9858-3397a73f805d"
      },
      "outputs": [
        {
          "name": "stdout",
          "output_type": "stream",
          "text": [
            "        Name  Age\n",
            "obs1  Alicia   22\n",
            "obs2    Bill   28\n",
            "obs3  Carlos   19\n",
            "obs4   Diana   34\n"
          ]
        }
      ],
      "source": [
        "print(df.iloc[:, 0:2])"
      ]
    },
    {
      "cell_type": "markdown",
      "metadata": {
        "id": "pMs1hrzkAZDy"
      },
      "source": [
        "### Filas\n",
        "\n",
        "Dado un dataframe, podemos seleccionar una fila en particular de diversas formas:\n",
        "\n",
        "- Con el método `.loc[]` (por nombre o etiqueta)\n",
        "- Con el método `.iloc[]` (por posición)\n"
      ]
    },
    {
      "cell_type": "code",
      "execution_count": null,
      "metadata": {
        "colab": {
          "base_uri": "https://localhost:8080/"
        },
        "id": "fiF6cG_YANvS",
        "outputId": "03cffb7b-ce35-431f-b294-8c3def6bcad1"
      },
      "outputs": [
        {
          "name": "stdout",
          "output_type": "stream",
          "text": [
            "Name        Alicia\n",
            "Age             22\n",
            "Pet           True\n",
            "Height         157\n",
            "Birthday      Mayo\n",
            "Name: obs1, dtype: object\n"
          ]
        }
      ],
      "source": [
        "# Seleccionamos la primera observación (obs1) con el método .loc[]\n",
        "print(df.loc[\"obs1\"])"
      ]
    },
    {
      "cell_type": "code",
      "execution_count": null,
      "metadata": {
        "colab": {
          "base_uri": "https://localhost:8080/"
        },
        "id": "03TdxNIMCjSy",
        "outputId": "7901a303-a783-4827-a7be-532ba11a1941"
      },
      "outputs": [
        {
          "name": "stdout",
          "output_type": "stream",
          "text": [
            "Name            Diana\n",
            "Age                34\n",
            "Pet              True\n",
            "Height            164\n",
            "Birthday    Diciembre\n",
            "Name: obs4, dtype: object\n"
          ]
        }
      ],
      "source": [
        "# Seleccionamos la última observación con el método .iloc[]\n",
        "print(df.iloc[-1])"
      ]
    },
    {
      "cell_type": "markdown",
      "metadata": {
        "id": "V5r_-BGvDPON"
      },
      "source": [
        "Si quisiésemos seleccionar más de una fila, podríamos hacerlo con todas las opciones enumeradas anteriormente, con ligeras modificaciones en algunos casos:"
      ]
    },
    {
      "cell_type": "code",
      "execution_count": null,
      "metadata": {
        "colab": {
          "base_uri": "https://localhost:8080/"
        },
        "id": "F1QV_QGOApNp",
        "outputId": "009b5e67-c3a3-4751-af41-16cdf3621fdf"
      },
      "outputs": [
        {
          "name": "stdout",
          "output_type": "stream",
          "text": [
            "        Name  Age    Pet  Height Birthday\n",
            "obs2    Bill   28  False     190    Junio\n",
            "obs3  Carlos   19  False     175   Agosto\n"
          ]
        }
      ],
      "source": [
        "# Seleccionamos la segunda y tercera observación con el método .loc[]\n",
        "print(df.loc[[\"obs2\",\"obs3\"]])"
      ]
    },
    {
      "cell_type": "markdown",
      "metadata": {
        "id": "YGkfAP8dGDm6"
      },
      "source": [
        "**Observación.** Además, como estas dos filas están seguidas en nuestro dataframe, podríamos también usar la sintaxis siguiente no solo en esta opción, sino también en el resto de opciones que hemos visto."
      ]
    },
    {
      "cell_type": "code",
      "execution_count": null,
      "metadata": {
        "colab": {
          "base_uri": "https://localhost:8080/"
        },
        "id": "R5RuVXu0DJdv",
        "outputId": "3a679ae9-aacd-45d8-9dfe-c6bcd38c5428"
      },
      "outputs": [
        {
          "name": "stdout",
          "output_type": "stream",
          "text": [
            "        Name  Age    Pet  Height Birthday\n",
            "obs2    Bill   28  False     190    Junio\n",
            "obs3  Carlos   19  False     175   Agosto\n"
          ]
        }
      ],
      "source": [
        "print(df.loc[\"obs2\":\"obs3\"])"
      ]
    },
    {
      "cell_type": "code",
      "execution_count": null,
      "metadata": {
        "colab": {
          "base_uri": "https://localhost:8080/"
        },
        "id": "cO2e2wthGHih",
        "outputId": "6ed19c6a-fba4-4662-b21a-dadba4445a2f"
      },
      "outputs": [
        {
          "name": "stdout",
          "output_type": "stream",
          "text": [
            "        Name  Age    Pet  Height Birthday\n",
            "obs2    Bill   28  False     190    Junio\n",
            "obs3  Carlos   19  False     175   Agosto\n"
          ]
        }
      ],
      "source": [
        "# Seleccionamos la segunda y tercera observación con el método .iloc[]\n",
        "print(df.iloc[[1, 2]])"
      ]
    },
    {
      "cell_type": "code",
      "execution_count": null,
      "metadata": {
        "colab": {
          "base_uri": "https://localhost:8080/"
        },
        "id": "kHYKLgPtGbZ0",
        "outputId": "d5212e14-c853-4998-f644-25611d9c152d"
      },
      "outputs": [
        {
          "name": "stdout",
          "output_type": "stream",
          "text": [
            "        Name  Age    Pet  Height Birthday\n",
            "obs2    Bill   28  False     190    Junio\n",
            "obs3  Carlos   19  False     175   Agosto\n"
          ]
        }
      ],
      "source": [
        "print(df.iloc[1:3])"
      ]
    },
    {
      "cell_type": "markdown",
      "metadata": {
        "id": "WZUgKnO2GouS"
      },
      "source": [
        "### Filas y columnas\n",
        "\n",
        "Para seleccionar un elemento en concreto, hay que indicar la fila y la columna y lo podemos hacer de dos formas:\n",
        "\n",
        "- Con el método `.loc[]` (por nombre o etiqueta)\n",
        "- Con el método `.iloc[]` (por índice)"
      ]
    },
    {
      "cell_type": "code",
      "execution_count": null,
      "metadata": {
        "colab": {
          "base_uri": "https://localhost:8080/"
        },
        "id": "9fyuXkNqG7q1",
        "outputId": "f87e29a7-55f5-4f81-b23e-0641dea1776a"
      },
      "outputs": [
        {
          "name": "stdout",
          "output_type": "stream",
          "text": [
            "28\n"
          ]
        }
      ],
      "source": [
        "# Seleccionamos la edad de la segunda observación con el método .loc[]\n",
        "print(df.loc[\"obs2\", \"Age\"])"
      ]
    },
    {
      "cell_type": "code",
      "execution_count": null,
      "metadata": {
        "colab": {
          "base_uri": "https://localhost:8080/"
        },
        "id": "ygBCSbl8HGXR",
        "outputId": "c95388a2-2563-4b43-e931-90f1cd5f03ba"
      },
      "outputs": [
        {
          "name": "stdout",
          "output_type": "stream",
          "text": [
            "28\n"
          ]
        }
      ],
      "source": [
        "# Seleccionamos la edad de la segunda observación con el método .iloc[]\n",
        "print(df.iloc[1, 1])"
      ]
    },
    {
      "cell_type": "markdown",
      "metadata": {
        "id": "H0r-SDLNHQEp"
      },
      "source": [
        "Si queremos seleccionar un subconjunto de filas y columnas, podemos utilizar los dos métodos anteriores"
      ]
    },
    {
      "cell_type": "code",
      "execution_count": null,
      "metadata": {
        "colab": {
          "base_uri": "https://localhost:8080/"
        },
        "id": "XMhhTmUBHV7N",
        "outputId": "e9f9000d-6aff-4a08-c547-cceacc5d12b7"
      },
      "outputs": [
        {
          "name": "stdout",
          "output_type": "stream",
          "text": [
            "        Name Birthday\n",
            "obs2    Bill    Junio\n",
            "obs3  Carlos   Agosto\n"
          ]
        }
      ],
      "source": [
        "# Seleccionamos la segunda y tercera fila y las columnas nombre y cumpleaños\n",
        "# Con el método .loc[]\n",
        "print(df.loc[\"obs2\":\"obs3\", [\"Name\", \"Birthday\"]])"
      ]
    },
    {
      "cell_type": "code",
      "execution_count": null,
      "metadata": {
        "colab": {
          "base_uri": "https://localhost:8080/"
        },
        "id": "BWnsPa3dHxYE",
        "outputId": "bec59956-a041-4669-99da-f563798b3d8a"
      },
      "outputs": [
        {
          "name": "stdout",
          "output_type": "stream",
          "text": [
            "        Name Birthday\n",
            "obs2    Bill    Junio\n",
            "obs3  Carlos   Agosto\n"
          ]
        }
      ],
      "source": [
        "# Con el método .iloc[]\n",
        "print(df.iloc[1:3, [0, 4]])"
      ]
    },
    {
      "cell_type": "markdown",
      "metadata": {
        "id": "TTihV0RoiDGe"
      },
      "source": [
        "## Métodos de dataframes\n",
        "\n",
        "El método `.head()` sirve para visualizar las primeras filas del dataframe. Por defecto, se nos mostrarán las 5 primeras\n",
        "\n"
      ]
    },
    {
      "cell_type": "code",
      "execution_count": null,
      "metadata": {
        "id": "HOX3_zoya1Ns"
      },
      "outputs": [],
      "source": [
        "import pandas as pd"
      ]
    },
    {
      "cell_type": "code",
      "execution_count": null,
      "metadata": {
        "id": "j-OlV-37uOq2"
      },
      "outputs": [],
      "source": [
        "d = {\"fruit\": [\"sandía\", \"melón\", \"manzana\", \"cerezas\", \"plátano\", \"pera\", \"melocotón\", \"fresas\"],\n",
        "     \"count\": [1, 1, 6, 10, 3, 6, 4, 10]}\n",
        "\n",
        "df = pd.DataFrame(d)"
      ]
    },
    {
      "cell_type": "code",
      "execution_count": null,
      "metadata": {
        "colab": {
          "base_uri": "https://localhost:8080/",
          "height": 204
        },
        "id": "FyLoCSgmuRR2",
        "outputId": "07363696-8931-48ee-b839-eb3b346202b2"
      },
      "outputs": [
        {
          "data": {
            "text/html": [
              "<div>\n",
              "<style scoped>\n",
              "    .dataframe tbody tr th:only-of-type {\n",
              "        vertical-align: middle;\n",
              "    }\n",
              "\n",
              "    .dataframe tbody tr th {\n",
              "        vertical-align: top;\n",
              "    }\n",
              "\n",
              "    .dataframe thead th {\n",
              "        text-align: right;\n",
              "    }\n",
              "</style>\n",
              "<table border=\"1\" class=\"dataframe\">\n",
              "  <thead>\n",
              "    <tr style=\"text-align: right;\">\n",
              "      <th></th>\n",
              "      <th>fruit</th>\n",
              "      <th>count</th>\n",
              "    </tr>\n",
              "  </thead>\n",
              "  <tbody>\n",
              "    <tr>\n",
              "      <th>0</th>\n",
              "      <td>sandía</td>\n",
              "      <td>1</td>\n",
              "    </tr>\n",
              "    <tr>\n",
              "      <th>1</th>\n",
              "      <td>melón</td>\n",
              "      <td>1</td>\n",
              "    </tr>\n",
              "    <tr>\n",
              "      <th>2</th>\n",
              "      <td>manzana</td>\n",
              "      <td>6</td>\n",
              "    </tr>\n",
              "    <tr>\n",
              "      <th>3</th>\n",
              "      <td>cerezas</td>\n",
              "      <td>10</td>\n",
              "    </tr>\n",
              "    <tr>\n",
              "      <th>4</th>\n",
              "      <td>plátano</td>\n",
              "      <td>3</td>\n",
              "    </tr>\n",
              "  </tbody>\n",
              "</table>\n",
              "</div>"
            ],
            "text/plain": [
              "     fruit  count\n",
              "0   sandía      1\n",
              "1    melón      1\n",
              "2  manzana      6\n",
              "3  cerezas     10\n",
              "4  plátano      3"
            ]
          },
          "execution_count": 4,
          "metadata": {
            "tags": []
          },
          "output_type": "execute_result"
        }
      ],
      "source": [
        "df.head()"
      ]
    },
    {
      "cell_type": "markdown",
      "metadata": {
        "id": "_ASYV8dcuakX"
      },
      "source": [
        "Si queremos que se nos muestre un número determinado de filas, tenemos que indicarlo por parámetro:"
      ]
    },
    {
      "cell_type": "code",
      "execution_count": null,
      "metadata": {
        "colab": {
          "base_uri": "https://localhost:8080/",
          "height": 142
        },
        "id": "4UQXfyUXufvw",
        "outputId": "ba781c4f-bbb5-4d62-ed75-7338cf713f7c"
      },
      "outputs": [
        {
          "data": {
            "text/html": [
              "<div>\n",
              "<style scoped>\n",
              "    .dataframe tbody tr th:only-of-type {\n",
              "        vertical-align: middle;\n",
              "    }\n",
              "\n",
              "    .dataframe tbody tr th {\n",
              "        vertical-align: top;\n",
              "    }\n",
              "\n",
              "    .dataframe thead th {\n",
              "        text-align: right;\n",
              "    }\n",
              "</style>\n",
              "<table border=\"1\" class=\"dataframe\">\n",
              "  <thead>\n",
              "    <tr style=\"text-align: right;\">\n",
              "      <th></th>\n",
              "      <th>fruit</th>\n",
              "      <th>count</th>\n",
              "    </tr>\n",
              "  </thead>\n",
              "  <tbody>\n",
              "    <tr>\n",
              "      <th>0</th>\n",
              "      <td>sandía</td>\n",
              "      <td>1</td>\n",
              "    </tr>\n",
              "    <tr>\n",
              "      <th>1</th>\n",
              "      <td>melón</td>\n",
              "      <td>1</td>\n",
              "    </tr>\n",
              "    <tr>\n",
              "      <th>2</th>\n",
              "      <td>manzana</td>\n",
              "      <td>6</td>\n",
              "    </tr>\n",
              "  </tbody>\n",
              "</table>\n",
              "</div>"
            ],
            "text/plain": [
              "     fruit  count\n",
              "0   sandía      1\n",
              "1    melón      1\n",
              "2  manzana      6"
            ]
          },
          "execution_count": 5,
          "metadata": {
            "tags": []
          },
          "output_type": "execute_result"
        }
      ],
      "source": [
        "df.head(3)"
      ]
    },
    {
      "cell_type": "code",
      "execution_count": null,
      "metadata": {
        "colab": {
          "base_uri": "https://localhost:8080/",
          "height": 235
        },
        "id": "LHZTZuZ2vNlf",
        "outputId": "053a14b5-a810-4b97-9b0a-5734f6880cf3"
      },
      "outputs": [
        {
          "data": {
            "text/html": [
              "<div>\n",
              "<style scoped>\n",
              "    .dataframe tbody tr th:only-of-type {\n",
              "        vertical-align: middle;\n",
              "    }\n",
              "\n",
              "    .dataframe tbody tr th {\n",
              "        vertical-align: top;\n",
              "    }\n",
              "\n",
              "    .dataframe thead th {\n",
              "        text-align: right;\n",
              "    }\n",
              "</style>\n",
              "<table border=\"1\" class=\"dataframe\">\n",
              "  <thead>\n",
              "    <tr style=\"text-align: right;\">\n",
              "      <th></th>\n",
              "      <th>fruit</th>\n",
              "      <th>count</th>\n",
              "    </tr>\n",
              "  </thead>\n",
              "  <tbody>\n",
              "    <tr>\n",
              "      <th>0</th>\n",
              "      <td>sandía</td>\n",
              "      <td>1</td>\n",
              "    </tr>\n",
              "    <tr>\n",
              "      <th>1</th>\n",
              "      <td>melón</td>\n",
              "      <td>1</td>\n",
              "    </tr>\n",
              "    <tr>\n",
              "      <th>2</th>\n",
              "      <td>manzana</td>\n",
              "      <td>6</td>\n",
              "    </tr>\n",
              "    <tr>\n",
              "      <th>3</th>\n",
              "      <td>cerezas</td>\n",
              "      <td>10</td>\n",
              "    </tr>\n",
              "    <tr>\n",
              "      <th>4</th>\n",
              "      <td>plátano</td>\n",
              "      <td>3</td>\n",
              "    </tr>\n",
              "    <tr>\n",
              "      <th>5</th>\n",
              "      <td>pera</td>\n",
              "      <td>6</td>\n",
              "    </tr>\n",
              "  </tbody>\n",
              "</table>\n",
              "</div>"
            ],
            "text/plain": [
              "     fruit  count\n",
              "0   sandía      1\n",
              "1    melón      1\n",
              "2  manzana      6\n",
              "3  cerezas     10\n",
              "4  plátano      3\n",
              "5     pera      6"
            ]
          },
          "execution_count": 6,
          "metadata": {
            "tags": []
          },
          "output_type": "execute_result"
        }
      ],
      "source": [
        "df.head(6)"
      ]
    },
    {
      "cell_type": "markdown",
      "metadata": {
        "id": "QEVTf0ODvam9"
      },
      "source": [
        "El método `.tail()` sirve para visualizar las últimas filas del dataframe. Por defecto, se nos mostrarán las 5 últimas"
      ]
    },
    {
      "cell_type": "code",
      "execution_count": null,
      "metadata": {
        "colab": {
          "base_uri": "https://localhost:8080/",
          "height": 204
        },
        "id": "jp2Hit--vePy",
        "outputId": "3a56733b-4eae-48fb-dd0c-0e35129127a9"
      },
      "outputs": [
        {
          "data": {
            "text/html": [
              "<div>\n",
              "<style scoped>\n",
              "    .dataframe tbody tr th:only-of-type {\n",
              "        vertical-align: middle;\n",
              "    }\n",
              "\n",
              "    .dataframe tbody tr th {\n",
              "        vertical-align: top;\n",
              "    }\n",
              "\n",
              "    .dataframe thead th {\n",
              "        text-align: right;\n",
              "    }\n",
              "</style>\n",
              "<table border=\"1\" class=\"dataframe\">\n",
              "  <thead>\n",
              "    <tr style=\"text-align: right;\">\n",
              "      <th></th>\n",
              "      <th>fruit</th>\n",
              "      <th>count</th>\n",
              "    </tr>\n",
              "  </thead>\n",
              "  <tbody>\n",
              "    <tr>\n",
              "      <th>3</th>\n",
              "      <td>cerezas</td>\n",
              "      <td>10</td>\n",
              "    </tr>\n",
              "    <tr>\n",
              "      <th>4</th>\n",
              "      <td>plátano</td>\n",
              "      <td>3</td>\n",
              "    </tr>\n",
              "    <tr>\n",
              "      <th>5</th>\n",
              "      <td>pera</td>\n",
              "      <td>6</td>\n",
              "    </tr>\n",
              "    <tr>\n",
              "      <th>6</th>\n",
              "      <td>melocotón</td>\n",
              "      <td>4</td>\n",
              "    </tr>\n",
              "    <tr>\n",
              "      <th>7</th>\n",
              "      <td>fresas</td>\n",
              "      <td>10</td>\n",
              "    </tr>\n",
              "  </tbody>\n",
              "</table>\n",
              "</div>"
            ],
            "text/plain": [
              "       fruit  count\n",
              "3    cerezas     10\n",
              "4    plátano      3\n",
              "5       pera      6\n",
              "6  melocotón      4\n",
              "7     fresas     10"
            ]
          },
          "execution_count": 7,
          "metadata": {
            "tags": []
          },
          "output_type": "execute_result"
        }
      ],
      "source": [
        "df.tail()"
      ]
    },
    {
      "cell_type": "markdown",
      "metadata": {
        "id": "agV-B6bOvfjY"
      },
      "source": [
        "Si queremos que se nos muestre un número determinado de filas, tenemos que indicarlo por parámetro:"
      ]
    },
    {
      "cell_type": "code",
      "execution_count": null,
      "metadata": {
        "colab": {
          "base_uri": "https://localhost:8080/",
          "height": 142
        },
        "id": "gW5hK9RyvjQv",
        "outputId": "d73ce7cc-3c92-4477-a7d3-4587d5171606"
      },
      "outputs": [
        {
          "data": {
            "text/html": [
              "<div>\n",
              "<style scoped>\n",
              "    .dataframe tbody tr th:only-of-type {\n",
              "        vertical-align: middle;\n",
              "    }\n",
              "\n",
              "    .dataframe tbody tr th {\n",
              "        vertical-align: top;\n",
              "    }\n",
              "\n",
              "    .dataframe thead th {\n",
              "        text-align: right;\n",
              "    }\n",
              "</style>\n",
              "<table border=\"1\" class=\"dataframe\">\n",
              "  <thead>\n",
              "    <tr style=\"text-align: right;\">\n",
              "      <th></th>\n",
              "      <th>fruit</th>\n",
              "      <th>count</th>\n",
              "    </tr>\n",
              "  </thead>\n",
              "  <tbody>\n",
              "    <tr>\n",
              "      <th>5</th>\n",
              "      <td>pera</td>\n",
              "      <td>6</td>\n",
              "    </tr>\n",
              "    <tr>\n",
              "      <th>6</th>\n",
              "      <td>melocotón</td>\n",
              "      <td>4</td>\n",
              "    </tr>\n",
              "    <tr>\n",
              "      <th>7</th>\n",
              "      <td>fresas</td>\n",
              "      <td>10</td>\n",
              "    </tr>\n",
              "  </tbody>\n",
              "</table>\n",
              "</div>"
            ],
            "text/plain": [
              "       fruit  count\n",
              "5       pera      6\n",
              "6  melocotón      4\n",
              "7     fresas     10"
            ]
          },
          "execution_count": 8,
          "metadata": {
            "tags": []
          },
          "output_type": "execute_result"
        }
      ],
      "source": [
        "df.tail(3)"
      ]
    },
    {
      "cell_type": "code",
      "execution_count": null,
      "metadata": {
        "colab": {
          "base_uri": "https://localhost:8080/",
          "height": 235
        },
        "id": "35TWHRKWvkzJ",
        "outputId": "e2ae56ad-8205-4a17-e2b2-13b968bb1770"
      },
      "outputs": [
        {
          "data": {
            "text/html": [
              "<div>\n",
              "<style scoped>\n",
              "    .dataframe tbody tr th:only-of-type {\n",
              "        vertical-align: middle;\n",
              "    }\n",
              "\n",
              "    .dataframe tbody tr th {\n",
              "        vertical-align: top;\n",
              "    }\n",
              "\n",
              "    .dataframe thead th {\n",
              "        text-align: right;\n",
              "    }\n",
              "</style>\n",
              "<table border=\"1\" class=\"dataframe\">\n",
              "  <thead>\n",
              "    <tr style=\"text-align: right;\">\n",
              "      <th></th>\n",
              "      <th>fruit</th>\n",
              "      <th>count</th>\n",
              "    </tr>\n",
              "  </thead>\n",
              "  <tbody>\n",
              "    <tr>\n",
              "      <th>2</th>\n",
              "      <td>manzana</td>\n",
              "      <td>6</td>\n",
              "    </tr>\n",
              "    <tr>\n",
              "      <th>3</th>\n",
              "      <td>cerezas</td>\n",
              "      <td>10</td>\n",
              "    </tr>\n",
              "    <tr>\n",
              "      <th>4</th>\n",
              "      <td>plátano</td>\n",
              "      <td>3</td>\n",
              "    </tr>\n",
              "    <tr>\n",
              "      <th>5</th>\n",
              "      <td>pera</td>\n",
              "      <td>6</td>\n",
              "    </tr>\n",
              "    <tr>\n",
              "      <th>6</th>\n",
              "      <td>melocotón</td>\n",
              "      <td>4</td>\n",
              "    </tr>\n",
              "    <tr>\n",
              "      <th>7</th>\n",
              "      <td>fresas</td>\n",
              "      <td>10</td>\n",
              "    </tr>\n",
              "  </tbody>\n",
              "</table>\n",
              "</div>"
            ],
            "text/plain": [
              "       fruit  count\n",
              "2    manzana      6\n",
              "3    cerezas     10\n",
              "4    plátano      3\n",
              "5       pera      6\n",
              "6  melocotón      4\n",
              "7     fresas     10"
            ]
          },
          "execution_count": 9,
          "metadata": {
            "tags": []
          },
          "output_type": "execute_result"
        }
      ],
      "source": [
        "df.tail(6)"
      ]
    },
    {
      "cell_type": "markdown",
      "metadata": {
        "id": "2OuoALJbtMvd"
      },
      "source": [
        "El método `.copy()` nos sirve para realizar una copia de un dataframe.\n",
        "\n",
        "Si simplemente realizamos"
      ]
    },
    {
      "cell_type": "code",
      "execution_count": null,
      "metadata": {
        "id": "a6Y_G7IstSsp"
      },
      "outputs": [],
      "source": [
        "fruits = df"
      ]
    },
    {
      "cell_type": "markdown",
      "metadata": {
        "id": "zE7fCRcptWcg"
      },
      "source": [
        "El dataframe llamado `fruits` es solo una referencia del dataframe original `df` pues si realizamos algún cambio en `fruits`, se realiza también en `df`"
      ]
    },
    {
      "cell_type": "code",
      "execution_count": null,
      "metadata": {
        "colab": {
          "base_uri": "https://localhost:8080/",
          "height": 297
        },
        "id": "1sjIssb9tVzk",
        "outputId": "22d0681c-9a5a-4581-9896-e333e2386b8c"
      },
      "outputs": [
        {
          "data": {
            "text/html": [
              "<div>\n",
              "<style scoped>\n",
              "    .dataframe tbody tr th:only-of-type {\n",
              "        vertical-align: middle;\n",
              "    }\n",
              "\n",
              "    .dataframe tbody tr th {\n",
              "        vertical-align: top;\n",
              "    }\n",
              "\n",
              "    .dataframe thead th {\n",
              "        text-align: right;\n",
              "    }\n",
              "</style>\n",
              "<table border=\"1\" class=\"dataframe\">\n",
              "  <thead>\n",
              "    <tr style=\"text-align: right;\">\n",
              "      <th></th>\n",
              "      <th>fruit</th>\n",
              "      <th>count</th>\n",
              "    </tr>\n",
              "  </thead>\n",
              "  <tbody>\n",
              "    <tr>\n",
              "      <th>0</th>\n",
              "      <td>sandía</td>\n",
              "      <td>1</td>\n",
              "    </tr>\n",
              "    <tr>\n",
              "      <th>1</th>\n",
              "      <td>melón</td>\n",
              "      <td>1</td>\n",
              "    </tr>\n",
              "    <tr>\n",
              "      <th>2</th>\n",
              "      <td>manzana</td>\n",
              "      <td>6</td>\n",
              "    </tr>\n",
              "    <tr>\n",
              "      <th>3</th>\n",
              "      <td>cerezas</td>\n",
              "      <td>10</td>\n",
              "    </tr>\n",
              "    <tr>\n",
              "      <th>4</th>\n",
              "      <td>plátano</td>\n",
              "      <td>3</td>\n",
              "    </tr>\n",
              "    <tr>\n",
              "      <th>5</th>\n",
              "      <td>pera</td>\n",
              "      <td>6</td>\n",
              "    </tr>\n",
              "    <tr>\n",
              "      <th>6</th>\n",
              "      <td>naranja</td>\n",
              "      <td>4</td>\n",
              "    </tr>\n",
              "    <tr>\n",
              "      <th>7</th>\n",
              "      <td>fresas</td>\n",
              "      <td>10</td>\n",
              "    </tr>\n",
              "  </tbody>\n",
              "</table>\n",
              "</div>"
            ],
            "text/plain": [
              "     fruit  count\n",
              "0   sandía      1\n",
              "1    melón      1\n",
              "2  manzana      6\n",
              "3  cerezas     10\n",
              "4  plátano      3\n",
              "5     pera      6\n",
              "6  naranja      4\n",
              "7   fresas     10"
            ]
          },
          "execution_count": 11,
          "metadata": {
            "tags": []
          },
          "output_type": "execute_result"
        }
      ],
      "source": [
        "fruits.iloc[6, 0] = \"naranja\"\n",
        "fruits"
      ]
    },
    {
      "cell_type": "code",
      "execution_count": null,
      "metadata": {
        "colab": {
          "base_uri": "https://localhost:8080/",
          "height": 297
        },
        "id": "qWhG8llytu7U",
        "outputId": "713f9f3b-2939-4417-cf04-d2f032ba65cd"
      },
      "outputs": [
        {
          "data": {
            "text/html": [
              "<div>\n",
              "<style scoped>\n",
              "    .dataframe tbody tr th:only-of-type {\n",
              "        vertical-align: middle;\n",
              "    }\n",
              "\n",
              "    .dataframe tbody tr th {\n",
              "        vertical-align: top;\n",
              "    }\n",
              "\n",
              "    .dataframe thead th {\n",
              "        text-align: right;\n",
              "    }\n",
              "</style>\n",
              "<table border=\"1\" class=\"dataframe\">\n",
              "  <thead>\n",
              "    <tr style=\"text-align: right;\">\n",
              "      <th></th>\n",
              "      <th>fruit</th>\n",
              "      <th>count</th>\n",
              "    </tr>\n",
              "  </thead>\n",
              "  <tbody>\n",
              "    <tr>\n",
              "      <th>0</th>\n",
              "      <td>sandía</td>\n",
              "      <td>1</td>\n",
              "    </tr>\n",
              "    <tr>\n",
              "      <th>1</th>\n",
              "      <td>melón</td>\n",
              "      <td>1</td>\n",
              "    </tr>\n",
              "    <tr>\n",
              "      <th>2</th>\n",
              "      <td>manzana</td>\n",
              "      <td>6</td>\n",
              "    </tr>\n",
              "    <tr>\n",
              "      <th>3</th>\n",
              "      <td>cerezas</td>\n",
              "      <td>10</td>\n",
              "    </tr>\n",
              "    <tr>\n",
              "      <th>4</th>\n",
              "      <td>plátano</td>\n",
              "      <td>3</td>\n",
              "    </tr>\n",
              "    <tr>\n",
              "      <th>5</th>\n",
              "      <td>pera</td>\n",
              "      <td>6</td>\n",
              "    </tr>\n",
              "    <tr>\n",
              "      <th>6</th>\n",
              "      <td>naranja</td>\n",
              "      <td>4</td>\n",
              "    </tr>\n",
              "    <tr>\n",
              "      <th>7</th>\n",
              "      <td>fresas</td>\n",
              "      <td>10</td>\n",
              "    </tr>\n",
              "  </tbody>\n",
              "</table>\n",
              "</div>"
            ],
            "text/plain": [
              "     fruit  count\n",
              "0   sandía      1\n",
              "1    melón      1\n",
              "2  manzana      6\n",
              "3  cerezas     10\n",
              "4  plátano      3\n",
              "5     pera      6\n",
              "6  naranja      4\n",
              "7   fresas     10"
            ]
          },
          "execution_count": 12,
          "metadata": {
            "tags": []
          },
          "output_type": "execute_result"
        }
      ],
      "source": [
        "df"
      ]
    },
    {
      "cell_type": "markdown",
      "metadata": {
        "id": "pupjqFbTt4JP"
      },
      "source": [
        "En cambio, si `fruits` es definido como"
      ]
    },
    {
      "cell_type": "code",
      "execution_count": null,
      "metadata": {
        "id": "kTCMd_C3t3Ay"
      },
      "outputs": [],
      "source": [
        "fruits = df.copy()"
      ]
    },
    {
      "cell_type": "markdown",
      "metadata": {
        "id": "cFzqXBlHt_94"
      },
      "source": [
        "entonces ahora sí es una copia independiente del dataframe original y por muchos cambios que hagamos sobre dicha copia, el original se mantiene intacto"
      ]
    },
    {
      "cell_type": "code",
      "execution_count": null,
      "metadata": {
        "colab": {
          "base_uri": "https://localhost:8080/",
          "height": 297
        },
        "id": "r-PR_s-QuHOz",
        "outputId": "008f9737-e9f2-46f3-ed15-a773b9e531fe"
      },
      "outputs": [
        {
          "data": {
            "text/html": [
              "<div>\n",
              "<style scoped>\n",
              "    .dataframe tbody tr th:only-of-type {\n",
              "        vertical-align: middle;\n",
              "    }\n",
              "\n",
              "    .dataframe tbody tr th {\n",
              "        vertical-align: top;\n",
              "    }\n",
              "\n",
              "    .dataframe thead th {\n",
              "        text-align: right;\n",
              "    }\n",
              "</style>\n",
              "<table border=\"1\" class=\"dataframe\">\n",
              "  <thead>\n",
              "    <tr style=\"text-align: right;\">\n",
              "      <th></th>\n",
              "      <th>fruit</th>\n",
              "      <th>count</th>\n",
              "    </tr>\n",
              "  </thead>\n",
              "  <tbody>\n",
              "    <tr>\n",
              "      <th>0</th>\n",
              "      <td>sandía</td>\n",
              "      <td>1</td>\n",
              "    </tr>\n",
              "    <tr>\n",
              "      <th>1</th>\n",
              "      <td>melón</td>\n",
              "      <td>1</td>\n",
              "    </tr>\n",
              "    <tr>\n",
              "      <th>2</th>\n",
              "      <td>manzana</td>\n",
              "      <td>6</td>\n",
              "    </tr>\n",
              "    <tr>\n",
              "      <th>3</th>\n",
              "      <td>cerezas</td>\n",
              "      <td>10</td>\n",
              "    </tr>\n",
              "    <tr>\n",
              "      <th>4</th>\n",
              "      <td>plátano</td>\n",
              "      <td>3</td>\n",
              "    </tr>\n",
              "    <tr>\n",
              "      <th>5</th>\n",
              "      <td>pera</td>\n",
              "      <td>6</td>\n",
              "    </tr>\n",
              "    <tr>\n",
              "      <th>6</th>\n",
              "      <td>nectarina</td>\n",
              "      <td>4</td>\n",
              "    </tr>\n",
              "    <tr>\n",
              "      <th>7</th>\n",
              "      <td>fresas</td>\n",
              "      <td>10</td>\n",
              "    </tr>\n",
              "  </tbody>\n",
              "</table>\n",
              "</div>"
            ],
            "text/plain": [
              "       fruit  count\n",
              "0     sandía      1\n",
              "1      melón      1\n",
              "2    manzana      6\n",
              "3    cerezas     10\n",
              "4    plátano      3\n",
              "5       pera      6\n",
              "6  nectarina      4\n",
              "7     fresas     10"
            ]
          },
          "execution_count": 14,
          "metadata": {
            "tags": []
          },
          "output_type": "execute_result"
        }
      ],
      "source": [
        "fruits.iloc[6, 0] = \"nectarina\"\n",
        "fruits"
      ]
    },
    {
      "cell_type": "code",
      "execution_count": null,
      "metadata": {
        "colab": {
          "base_uri": "https://localhost:8080/",
          "height": 297
        },
        "id": "QfYAVXznuLfn",
        "outputId": "5c5cee9d-36e3-4a93-e8e0-79a40a8ea4a1"
      },
      "outputs": [
        {
          "data": {
            "text/html": [
              "<div>\n",
              "<style scoped>\n",
              "    .dataframe tbody tr th:only-of-type {\n",
              "        vertical-align: middle;\n",
              "    }\n",
              "\n",
              "    .dataframe tbody tr th {\n",
              "        vertical-align: top;\n",
              "    }\n",
              "\n",
              "    .dataframe thead th {\n",
              "        text-align: right;\n",
              "    }\n",
              "</style>\n",
              "<table border=\"1\" class=\"dataframe\">\n",
              "  <thead>\n",
              "    <tr style=\"text-align: right;\">\n",
              "      <th></th>\n",
              "      <th>fruit</th>\n",
              "      <th>count</th>\n",
              "    </tr>\n",
              "  </thead>\n",
              "  <tbody>\n",
              "    <tr>\n",
              "      <th>0</th>\n",
              "      <td>sandía</td>\n",
              "      <td>1</td>\n",
              "    </tr>\n",
              "    <tr>\n",
              "      <th>1</th>\n",
              "      <td>melón</td>\n",
              "      <td>1</td>\n",
              "    </tr>\n",
              "    <tr>\n",
              "      <th>2</th>\n",
              "      <td>manzana</td>\n",
              "      <td>6</td>\n",
              "    </tr>\n",
              "    <tr>\n",
              "      <th>3</th>\n",
              "      <td>cerezas</td>\n",
              "      <td>10</td>\n",
              "    </tr>\n",
              "    <tr>\n",
              "      <th>4</th>\n",
              "      <td>plátano</td>\n",
              "      <td>3</td>\n",
              "    </tr>\n",
              "    <tr>\n",
              "      <th>5</th>\n",
              "      <td>pera</td>\n",
              "      <td>6</td>\n",
              "    </tr>\n",
              "    <tr>\n",
              "      <th>6</th>\n",
              "      <td>naranja</td>\n",
              "      <td>4</td>\n",
              "    </tr>\n",
              "    <tr>\n",
              "      <th>7</th>\n",
              "      <td>fresas</td>\n",
              "      <td>10</td>\n",
              "    </tr>\n",
              "  </tbody>\n",
              "</table>\n",
              "</div>"
            ],
            "text/plain": [
              "     fruit  count\n",
              "0   sandía      1\n",
              "1    melón      1\n",
              "2  manzana      6\n",
              "3  cerezas     10\n",
              "4  plátano      3\n",
              "5     pera      6\n",
              "6  naranja      4\n",
              "7   fresas     10"
            ]
          },
          "execution_count": 15,
          "metadata": {
            "tags": []
          },
          "output_type": "execute_result"
        }
      ],
      "source": [
        "df"
      ]
    },
    {
      "cell_type": "markdown",
      "metadata": {
        "id": "stf4jgh1f4iq"
      },
      "source": [
        "El método `.rename()` se puede utilizar tanto para cambiar las etiquetas de las filas como los nombres de las columnas.\n",
        "\n",
        "**¡Cuidado!** Para que los cambios se guarden en el dataframe original, necesitamos indicar `inplace = True`, de lo contrario, lo único que estamos haciendo es duplicar el dataframe, cambiando el nombre de las filas o columnas"
      ]
    },
    {
      "cell_type": "code",
      "execution_count": null,
      "metadata": {
        "colab": {
          "base_uri": "https://localhost:8080/",
          "height": 297
        },
        "id": "ZV8KNFZhfj3S",
        "outputId": "8e0810b3-a786-4fb4-98dc-7af74e83be23"
      },
      "outputs": [
        {
          "data": {
            "text/html": [
              "<div>\n",
              "<style scoped>\n",
              "    .dataframe tbody tr th:only-of-type {\n",
              "        vertical-align: middle;\n",
              "    }\n",
              "\n",
              "    .dataframe tbody tr th {\n",
              "        vertical-align: top;\n",
              "    }\n",
              "\n",
              "    .dataframe thead th {\n",
              "        text-align: right;\n",
              "    }\n",
              "</style>\n",
              "<table border=\"1\" class=\"dataframe\">\n",
              "  <thead>\n",
              "    <tr style=\"text-align: right;\">\n",
              "      <th></th>\n",
              "      <th>fruit</th>\n",
              "      <th>count</th>\n",
              "    </tr>\n",
              "  </thead>\n",
              "  <tbody>\n",
              "    <tr>\n",
              "      <th>0</th>\n",
              "      <td>sandía</td>\n",
              "      <td>1</td>\n",
              "    </tr>\n",
              "    <tr>\n",
              "      <th>1</th>\n",
              "      <td>melón</td>\n",
              "      <td>1</td>\n",
              "    </tr>\n",
              "    <tr>\n",
              "      <th>2</th>\n",
              "      <td>manzana</td>\n",
              "      <td>6</td>\n",
              "    </tr>\n",
              "    <tr>\n",
              "      <th>3</th>\n",
              "      <td>cerezas</td>\n",
              "      <td>10</td>\n",
              "    </tr>\n",
              "    <tr>\n",
              "      <th>4</th>\n",
              "      <td>plátano</td>\n",
              "      <td>3</td>\n",
              "    </tr>\n",
              "    <tr>\n",
              "      <th>5</th>\n",
              "      <td>pera</td>\n",
              "      <td>6</td>\n",
              "    </tr>\n",
              "    <tr>\n",
              "      <th>6</th>\n",
              "      <td>naranja</td>\n",
              "      <td>4</td>\n",
              "    </tr>\n",
              "    <tr>\n",
              "      <th>7</th>\n",
              "      <td>fresas</td>\n",
              "      <td>10</td>\n",
              "    </tr>\n",
              "  </tbody>\n",
              "</table>\n",
              "</div>"
            ],
            "text/plain": [
              "     fruit  count\n",
              "0   sandía      1\n",
              "1    melón      1\n",
              "2  manzana      6\n",
              "3  cerezas     10\n",
              "4  plátano      3\n",
              "5     pera      6\n",
              "6  naranja      4\n",
              "7   fresas     10"
            ]
          },
          "execution_count": 16,
          "metadata": {
            "tags": []
          },
          "output_type": "execute_result"
        }
      ],
      "source": [
        "df.rename(columns = {\"fruit\": \"fruta\",\n",
        "                     \"count\": \"cantidad\"})\n",
        "df"
      ]
    },
    {
      "cell_type": "code",
      "execution_count": null,
      "metadata": {
        "colab": {
          "base_uri": "https://localhost:8080/",
          "height": 297
        },
        "id": "NviVtPewhDPk",
        "outputId": "9c4a4ae7-19f1-413b-a320-95026092cb0b"
      },
      "outputs": [
        {
          "data": {
            "text/html": [
              "<div>\n",
              "<style scoped>\n",
              "    .dataframe tbody tr th:only-of-type {\n",
              "        vertical-align: middle;\n",
              "    }\n",
              "\n",
              "    .dataframe tbody tr th {\n",
              "        vertical-align: top;\n",
              "    }\n",
              "\n",
              "    .dataframe thead th {\n",
              "        text-align: right;\n",
              "    }\n",
              "</style>\n",
              "<table border=\"1\" class=\"dataframe\">\n",
              "  <thead>\n",
              "    <tr style=\"text-align: right;\">\n",
              "      <th></th>\n",
              "      <th>fruta</th>\n",
              "      <th>cantidad</th>\n",
              "    </tr>\n",
              "  </thead>\n",
              "  <tbody>\n",
              "    <tr>\n",
              "      <th>0</th>\n",
              "      <td>sandía</td>\n",
              "      <td>1</td>\n",
              "    </tr>\n",
              "    <tr>\n",
              "      <th>1</th>\n",
              "      <td>melón</td>\n",
              "      <td>1</td>\n",
              "    </tr>\n",
              "    <tr>\n",
              "      <th>2</th>\n",
              "      <td>manzana</td>\n",
              "      <td>6</td>\n",
              "    </tr>\n",
              "    <tr>\n",
              "      <th>3</th>\n",
              "      <td>cerezas</td>\n",
              "      <td>10</td>\n",
              "    </tr>\n",
              "    <tr>\n",
              "      <th>4</th>\n",
              "      <td>plátano</td>\n",
              "      <td>3</td>\n",
              "    </tr>\n",
              "    <tr>\n",
              "      <th>5</th>\n",
              "      <td>pera</td>\n",
              "      <td>6</td>\n",
              "    </tr>\n",
              "    <tr>\n",
              "      <th>6</th>\n",
              "      <td>naranja</td>\n",
              "      <td>4</td>\n",
              "    </tr>\n",
              "    <tr>\n",
              "      <th>7</th>\n",
              "      <td>fresas</td>\n",
              "      <td>10</td>\n",
              "    </tr>\n",
              "  </tbody>\n",
              "</table>\n",
              "</div>"
            ],
            "text/plain": [
              "     fruta  cantidad\n",
              "0   sandía         1\n",
              "1    melón         1\n",
              "2  manzana         6\n",
              "3  cerezas        10\n",
              "4  plátano         3\n",
              "5     pera         6\n",
              "6  naranja         4\n",
              "7   fresas        10"
            ]
          },
          "execution_count": 17,
          "metadata": {
            "tags": []
          },
          "output_type": "execute_result"
        }
      ],
      "source": [
        "# Cambiamos el nombre de las columnas al dataframe original\n",
        "df.rename(columns = {\"fruit\": \"fruta\",\n",
        "                     \"count\": \"cantidad\"},\n",
        "          inplace = True)\n",
        "df"
      ]
    },
    {
      "cell_type": "code",
      "execution_count": null,
      "metadata": {
        "colab": {
          "base_uri": "https://localhost:8080/",
          "height": 297
        },
        "id": "TVLRAKLrhS7y",
        "outputId": "b9a14005-c5c8-4c2b-83aa-d438d2f2fbc2"
      },
      "outputs": [
        {
          "data": {
            "text/html": [
              "<div>\n",
              "<style scoped>\n",
              "    .dataframe tbody tr th:only-of-type {\n",
              "        vertical-align: middle;\n",
              "    }\n",
              "\n",
              "    .dataframe tbody tr th {\n",
              "        vertical-align: top;\n",
              "    }\n",
              "\n",
              "    .dataframe thead th {\n",
              "        text-align: right;\n",
              "    }\n",
              "</style>\n",
              "<table border=\"1\" class=\"dataframe\">\n",
              "  <thead>\n",
              "    <tr style=\"text-align: right;\">\n",
              "      <th></th>\n",
              "      <th>fruta</th>\n",
              "      <th>cantidad</th>\n",
              "    </tr>\n",
              "  </thead>\n",
              "  <tbody>\n",
              "    <tr>\n",
              "      <th>0</th>\n",
              "      <td>sandía</td>\n",
              "      <td>1</td>\n",
              "    </tr>\n",
              "    <tr>\n",
              "      <th>1</th>\n",
              "      <td>melón</td>\n",
              "      <td>1</td>\n",
              "    </tr>\n",
              "    <tr>\n",
              "      <th>2</th>\n",
              "      <td>manzana</td>\n",
              "      <td>6</td>\n",
              "    </tr>\n",
              "    <tr>\n",
              "      <th>3</th>\n",
              "      <td>cerezas</td>\n",
              "      <td>10</td>\n",
              "    </tr>\n",
              "    <tr>\n",
              "      <th>4</th>\n",
              "      <td>plátano</td>\n",
              "      <td>3</td>\n",
              "    </tr>\n",
              "    <tr>\n",
              "      <th>5</th>\n",
              "      <td>pera</td>\n",
              "      <td>6</td>\n",
              "    </tr>\n",
              "    <tr>\n",
              "      <th>6</th>\n",
              "      <td>naranja</td>\n",
              "      <td>4</td>\n",
              "    </tr>\n",
              "    <tr>\n",
              "      <th>7</th>\n",
              "      <td>fresas</td>\n",
              "      <td>10</td>\n",
              "    </tr>\n",
              "  </tbody>\n",
              "</table>\n",
              "</div>"
            ],
            "text/plain": [
              "     fruta  cantidad\n",
              "0   sandía         1\n",
              "1    melón         1\n",
              "2  manzana         6\n",
              "3  cerezas        10\n",
              "4  plátano         3\n",
              "5     pera         6\n",
              "6  naranja         4\n",
              "7   fresas        10"
            ]
          },
          "execution_count": 18,
          "metadata": {
            "tags": []
          },
          "output_type": "execute_result"
        }
      ],
      "source": [
        "df.rename(index = {0: \"obs1\",\n",
        "                   1: \"obs2\",\n",
        "                   7: \"obs8\"})\n",
        "df"
      ]
    },
    {
      "cell_type": "code",
      "execution_count": null,
      "metadata": {
        "colab": {
          "base_uri": "https://localhost:8080/",
          "height": 297
        },
        "id": "KfhHzUdVhgnV",
        "outputId": "0f7d59cd-dcb2-47b4-9136-38bdda3da92b"
      },
      "outputs": [
        {
          "data": {
            "text/html": [
              "<div>\n",
              "<style scoped>\n",
              "    .dataframe tbody tr th:only-of-type {\n",
              "        vertical-align: middle;\n",
              "    }\n",
              "\n",
              "    .dataframe tbody tr th {\n",
              "        vertical-align: top;\n",
              "    }\n",
              "\n",
              "    .dataframe thead th {\n",
              "        text-align: right;\n",
              "    }\n",
              "</style>\n",
              "<table border=\"1\" class=\"dataframe\">\n",
              "  <thead>\n",
              "    <tr style=\"text-align: right;\">\n",
              "      <th></th>\n",
              "      <th>fruta</th>\n",
              "      <th>cantidad</th>\n",
              "    </tr>\n",
              "  </thead>\n",
              "  <tbody>\n",
              "    <tr>\n",
              "      <th>obs1</th>\n",
              "      <td>sandía</td>\n",
              "      <td>1</td>\n",
              "    </tr>\n",
              "    <tr>\n",
              "      <th>obs2</th>\n",
              "      <td>melón</td>\n",
              "      <td>1</td>\n",
              "    </tr>\n",
              "    <tr>\n",
              "      <th>2</th>\n",
              "      <td>manzana</td>\n",
              "      <td>6</td>\n",
              "    </tr>\n",
              "    <tr>\n",
              "      <th>3</th>\n",
              "      <td>cerezas</td>\n",
              "      <td>10</td>\n",
              "    </tr>\n",
              "    <tr>\n",
              "      <th>4</th>\n",
              "      <td>plátano</td>\n",
              "      <td>3</td>\n",
              "    </tr>\n",
              "    <tr>\n",
              "      <th>5</th>\n",
              "      <td>pera</td>\n",
              "      <td>6</td>\n",
              "    </tr>\n",
              "    <tr>\n",
              "      <th>6</th>\n",
              "      <td>naranja</td>\n",
              "      <td>4</td>\n",
              "    </tr>\n",
              "    <tr>\n",
              "      <th>obs8</th>\n",
              "      <td>fresas</td>\n",
              "      <td>10</td>\n",
              "    </tr>\n",
              "  </tbody>\n",
              "</table>\n",
              "</div>"
            ],
            "text/plain": [
              "        fruta  cantidad\n",
              "obs1   sandía         1\n",
              "obs2    melón         1\n",
              "2     manzana         6\n",
              "3     cerezas        10\n",
              "4     plátano         3\n",
              "5        pera         6\n",
              "6     naranja         4\n",
              "obs8   fresas        10"
            ]
          },
          "execution_count": 19,
          "metadata": {
            "tags": []
          },
          "output_type": "execute_result"
        }
      ],
      "source": [
        "# Cambiamos el nombre de las filas al dataframe original\n",
        "df.rename(index = {0: \"obs1\",\n",
        "                   1: \"obs2\",\n",
        "                   7: \"obs8\"},\n",
        "          inplace = True)\n",
        "df"
      ]
    },
    {
      "cell_type": "markdown",
      "metadata": {
        "id": "cpTQqgEhhv0O"
      },
      "source": [
        "Con el método `.columns` también podemos cambiar el nombre de las columnas:"
      ]
    },
    {
      "cell_type": "code",
      "execution_count": null,
      "metadata": {
        "colab": {
          "base_uri": "https://localhost:8080/"
        },
        "id": "vqnMuDXUdKuX",
        "outputId": "08acafd3-ae04-4ad7-e87a-03a904e9ca37"
      },
      "outputs": [
        {
          "data": {
            "text/plain": [
              "Index(['fruta', 'cantidad'], dtype='object')"
            ]
          },
          "execution_count": 20,
          "metadata": {
            "tags": []
          },
          "output_type": "execute_result"
        }
      ],
      "source": [
        "df.columns"
      ]
    },
    {
      "cell_type": "code",
      "execution_count": null,
      "metadata": {
        "colab": {
          "base_uri": "https://localhost:8080/",
          "height": 297
        },
        "id": "Y1qyF18Ph0t8",
        "outputId": "f4b85470-a1a4-4fc8-d22f-aca0acc66c8e"
      },
      "outputs": [
        {
          "data": {
            "text/html": [
              "<div>\n",
              "<style scoped>\n",
              "    .dataframe tbody tr th:only-of-type {\n",
              "        vertical-align: middle;\n",
              "    }\n",
              "\n",
              "    .dataframe tbody tr th {\n",
              "        vertical-align: top;\n",
              "    }\n",
              "\n",
              "    .dataframe thead th {\n",
              "        text-align: right;\n",
              "    }\n",
              "</style>\n",
              "<table border=\"1\" class=\"dataframe\">\n",
              "  <thead>\n",
              "    <tr style=\"text-align: right;\">\n",
              "      <th></th>\n",
              "      <th>FRUTA</th>\n",
              "      <th>CANTIDAD</th>\n",
              "    </tr>\n",
              "  </thead>\n",
              "  <tbody>\n",
              "    <tr>\n",
              "      <th>obs1</th>\n",
              "      <td>sandía</td>\n",
              "      <td>1</td>\n",
              "    </tr>\n",
              "    <tr>\n",
              "      <th>obs2</th>\n",
              "      <td>melón</td>\n",
              "      <td>1</td>\n",
              "    </tr>\n",
              "    <tr>\n",
              "      <th>2</th>\n",
              "      <td>manzana</td>\n",
              "      <td>6</td>\n",
              "    </tr>\n",
              "    <tr>\n",
              "      <th>3</th>\n",
              "      <td>cerezas</td>\n",
              "      <td>10</td>\n",
              "    </tr>\n",
              "    <tr>\n",
              "      <th>4</th>\n",
              "      <td>plátano</td>\n",
              "      <td>3</td>\n",
              "    </tr>\n",
              "    <tr>\n",
              "      <th>5</th>\n",
              "      <td>pera</td>\n",
              "      <td>6</td>\n",
              "    </tr>\n",
              "    <tr>\n",
              "      <th>6</th>\n",
              "      <td>naranja</td>\n",
              "      <td>4</td>\n",
              "    </tr>\n",
              "    <tr>\n",
              "      <th>obs8</th>\n",
              "      <td>fresas</td>\n",
              "      <td>10</td>\n",
              "    </tr>\n",
              "  </tbody>\n",
              "</table>\n",
              "</div>"
            ],
            "text/plain": [
              "        FRUTA  CANTIDAD\n",
              "obs1   sandía         1\n",
              "obs2    melón         1\n",
              "2     manzana         6\n",
              "3     cerezas        10\n",
              "4     plátano         3\n",
              "5        pera         6\n",
              "6     naranja         4\n",
              "obs8   fresas        10"
            ]
          },
          "execution_count": 21,
          "metadata": {
            "tags": []
          },
          "output_type": "execute_result"
        }
      ],
      "source": [
        "df.columns = [\"FRUTA\", \"CANTIDAD\"]\n",
        "df"
      ]
    },
    {
      "cell_type": "markdown",
      "metadata": {
        "id": "_wSzo6necHGd"
      },
      "source": [
        "El método `.insert()` inserta una nueva columna a un dataframe existente"
      ]
    },
    {
      "cell_type": "code",
      "execution_count": null,
      "metadata": {
        "colab": {
          "base_uri": "https://localhost:8080/",
          "height": 297
        },
        "id": "a45FeQOjcVYH",
        "outputId": "a2593985-b08f-46a1-aec2-39d9caece312"
      },
      "outputs": [
        {
          "data": {
            "text/html": [
              "<div>\n",
              "<style scoped>\n",
              "    .dataframe tbody tr th:only-of-type {\n",
              "        vertical-align: middle;\n",
              "    }\n",
              "\n",
              "    .dataframe tbody tr th {\n",
              "        vertical-align: top;\n",
              "    }\n",
              "\n",
              "    .dataframe thead th {\n",
              "        text-align: right;\n",
              "    }\n",
              "</style>\n",
              "<table border=\"1\" class=\"dataframe\">\n",
              "  <thead>\n",
              "    <tr style=\"text-align: right;\">\n",
              "      <th></th>\n",
              "      <th>FRUTA</th>\n",
              "      <th>CANTIDAD</th>\n",
              "      <th>PRECIO</th>\n",
              "    </tr>\n",
              "  </thead>\n",
              "  <tbody>\n",
              "    <tr>\n",
              "      <th>obs1</th>\n",
              "      <td>sandía</td>\n",
              "      <td>1</td>\n",
              "      <td>2.50</td>\n",
              "    </tr>\n",
              "    <tr>\n",
              "      <th>obs2</th>\n",
              "      <td>melón</td>\n",
              "      <td>1</td>\n",
              "      <td>2.00</td>\n",
              "    </tr>\n",
              "    <tr>\n",
              "      <th>2</th>\n",
              "      <td>manzana</td>\n",
              "      <td>6</td>\n",
              "      <td>0.35</td>\n",
              "    </tr>\n",
              "    <tr>\n",
              "      <th>3</th>\n",
              "      <td>cerezas</td>\n",
              "      <td>10</td>\n",
              "      <td>0.10</td>\n",
              "    </tr>\n",
              "    <tr>\n",
              "      <th>4</th>\n",
              "      <td>plátano</td>\n",
              "      <td>3</td>\n",
              "      <td>0.35</td>\n",
              "    </tr>\n",
              "    <tr>\n",
              "      <th>5</th>\n",
              "      <td>pera</td>\n",
              "      <td>6</td>\n",
              "      <td>0.20</td>\n",
              "    </tr>\n",
              "    <tr>\n",
              "      <th>6</th>\n",
              "      <td>naranja</td>\n",
              "      <td>4</td>\n",
              "      <td>0.15</td>\n",
              "    </tr>\n",
              "    <tr>\n",
              "      <th>obs8</th>\n",
              "      <td>fresas</td>\n",
              "      <td>10</td>\n",
              "      <td>0.05</td>\n",
              "    </tr>\n",
              "  </tbody>\n",
              "</table>\n",
              "</div>"
            ],
            "text/plain": [
              "        FRUTA  CANTIDAD  PRECIO\n",
              "obs1   sandía         1    2.50\n",
              "obs2    melón         1    2.00\n",
              "2     manzana         6    0.35\n",
              "3     cerezas        10    0.10\n",
              "4     plátano         3    0.35\n",
              "5        pera         6    0.20\n",
              "6     naranja         4    0.15\n",
              "obs8   fresas        10    0.05"
            ]
          },
          "execution_count": 22,
          "metadata": {
            "tags": []
          },
          "output_type": "execute_result"
        }
      ],
      "source": [
        "df.insert(loc = 2, column = \"PRECIO\", value = [2.50, 2.00, 0.35, 0.10, 0.35, 0.20, 0.15, 0.05])\n",
        "df"
      ]
    },
    {
      "cell_type": "markdown",
      "metadata": {
        "id": "beeiQaxdcutS"
      },
      "source": [
        "Al parámetro `loc` le indicamos el índice que ocupará la nueva columna; al parámetro `column` le pasamos el nombre de la nueva columna; y al parámetro `value`, los valores para cada una de las filas.\n",
        "\n",
        "**Observación.** Si al parámetro `loc` le pasamos un índice ya ocupado por otra columna, se desplazan la columna existente y las de índices superiores un índice a la derecha.\n",
        "\n",
        "**Observación.** Si al parámetro `value` solo le pasamos un valor, éste será el mismo para todas las filas\n"
      ]
    },
    {
      "cell_type": "code",
      "execution_count": null,
      "metadata": {
        "colab": {
          "base_uri": "https://localhost:8080/",
          "height": 297
        },
        "id": "p6J3DPxEdBXx",
        "outputId": "18cc1ba3-ef5a-4e56-b827-808fd6a0217f"
      },
      "outputs": [
        {
          "data": {
            "text/html": [
              "<div>\n",
              "<style scoped>\n",
              "    .dataframe tbody tr th:only-of-type {\n",
              "        vertical-align: middle;\n",
              "    }\n",
              "\n",
              "    .dataframe tbody tr th {\n",
              "        vertical-align: top;\n",
              "    }\n",
              "\n",
              "    .dataframe thead th {\n",
              "        text-align: right;\n",
              "    }\n",
              "</style>\n",
              "<table border=\"1\" class=\"dataframe\">\n",
              "  <thead>\n",
              "    <tr style=\"text-align: right;\">\n",
              "      <th></th>\n",
              "      <th>FRUTA</th>\n",
              "      <th>COLOR</th>\n",
              "      <th>CANTIDAD</th>\n",
              "      <th>PRECIO</th>\n",
              "    </tr>\n",
              "  </thead>\n",
              "  <tbody>\n",
              "    <tr>\n",
              "      <th>obs1</th>\n",
              "      <td>sandía</td>\n",
              "      <td>rojo</td>\n",
              "      <td>1</td>\n",
              "      <td>2.50</td>\n",
              "    </tr>\n",
              "    <tr>\n",
              "      <th>obs2</th>\n",
              "      <td>melón</td>\n",
              "      <td>rojo</td>\n",
              "      <td>1</td>\n",
              "      <td>2.00</td>\n",
              "    </tr>\n",
              "    <tr>\n",
              "      <th>2</th>\n",
              "      <td>manzana</td>\n",
              "      <td>rojo</td>\n",
              "      <td>6</td>\n",
              "      <td>0.35</td>\n",
              "    </tr>\n",
              "    <tr>\n",
              "      <th>3</th>\n",
              "      <td>cerezas</td>\n",
              "      <td>rojo</td>\n",
              "      <td>10</td>\n",
              "      <td>0.10</td>\n",
              "    </tr>\n",
              "    <tr>\n",
              "      <th>4</th>\n",
              "      <td>plátano</td>\n",
              "      <td>rojo</td>\n",
              "      <td>3</td>\n",
              "      <td>0.35</td>\n",
              "    </tr>\n",
              "    <tr>\n",
              "      <th>5</th>\n",
              "      <td>pera</td>\n",
              "      <td>rojo</td>\n",
              "      <td>6</td>\n",
              "      <td>0.20</td>\n",
              "    </tr>\n",
              "    <tr>\n",
              "      <th>6</th>\n",
              "      <td>naranja</td>\n",
              "      <td>rojo</td>\n",
              "      <td>4</td>\n",
              "      <td>0.15</td>\n",
              "    </tr>\n",
              "    <tr>\n",
              "      <th>obs8</th>\n",
              "      <td>fresas</td>\n",
              "      <td>rojo</td>\n",
              "      <td>10</td>\n",
              "      <td>0.05</td>\n",
              "    </tr>\n",
              "  </tbody>\n",
              "</table>\n",
              "</div>"
            ],
            "text/plain": [
              "        FRUTA COLOR  CANTIDAD  PRECIO\n",
              "obs1   sandía  rojo         1    2.50\n",
              "obs2    melón  rojo         1    2.00\n",
              "2     manzana  rojo         6    0.35\n",
              "3     cerezas  rojo        10    0.10\n",
              "4     plátano  rojo         3    0.35\n",
              "5        pera  rojo         6    0.20\n",
              "6     naranja  rojo         4    0.15\n",
              "obs8   fresas  rojo        10    0.05"
            ]
          },
          "execution_count": 23,
          "metadata": {
            "tags": []
          },
          "output_type": "execute_result"
        }
      ],
      "source": [
        "df.insert(1, \"COLOR\", \"rojo\")\n",
        "df"
      ]
    },
    {
      "cell_type": "markdown",
      "metadata": {
        "id": "qyii6EaOi5L2"
      },
      "source": [
        "El método `.drop()` nos permite borrar las filas o columnas que indiquemos\n",
        "\n",
        "**¡Cuidado!** De nuevo, si queremos aplicar directamente los cambios al dataframe original, necesitamos indicar `inplace = True`"
      ]
    },
    {
      "cell_type": "code",
      "execution_count": null,
      "metadata": {
        "colab": {
          "base_uri": "https://localhost:8080/",
          "height": 235
        },
        "id": "Sqc3fqrEjCdb",
        "outputId": "752f04c2-34fe-45b7-f0f4-c36e2cbeaccf"
      },
      "outputs": [
        {
          "data": {
            "text/html": [
              "<div>\n",
              "<style scoped>\n",
              "    .dataframe tbody tr th:only-of-type {\n",
              "        vertical-align: middle;\n",
              "    }\n",
              "\n",
              "    .dataframe tbody tr th {\n",
              "        vertical-align: top;\n",
              "    }\n",
              "\n",
              "    .dataframe thead th {\n",
              "        text-align: right;\n",
              "    }\n",
              "</style>\n",
              "<table border=\"1\" class=\"dataframe\">\n",
              "  <thead>\n",
              "    <tr style=\"text-align: right;\">\n",
              "      <th></th>\n",
              "      <th>FRUTA</th>\n",
              "      <th>COLOR</th>\n",
              "      <th>CANTIDAD</th>\n",
              "      <th>PRECIO</th>\n",
              "    </tr>\n",
              "  </thead>\n",
              "  <tbody>\n",
              "    <tr>\n",
              "      <th>obs2</th>\n",
              "      <td>melón</td>\n",
              "      <td>rojo</td>\n",
              "      <td>1</td>\n",
              "      <td>2.00</td>\n",
              "    </tr>\n",
              "    <tr>\n",
              "      <th>2</th>\n",
              "      <td>manzana</td>\n",
              "      <td>rojo</td>\n",
              "      <td>6</td>\n",
              "      <td>0.35</td>\n",
              "    </tr>\n",
              "    <tr>\n",
              "      <th>3</th>\n",
              "      <td>cerezas</td>\n",
              "      <td>rojo</td>\n",
              "      <td>10</td>\n",
              "      <td>0.10</td>\n",
              "    </tr>\n",
              "    <tr>\n",
              "      <th>5</th>\n",
              "      <td>pera</td>\n",
              "      <td>rojo</td>\n",
              "      <td>6</td>\n",
              "      <td>0.20</td>\n",
              "    </tr>\n",
              "    <tr>\n",
              "      <th>6</th>\n",
              "      <td>naranja</td>\n",
              "      <td>rojo</td>\n",
              "      <td>4</td>\n",
              "      <td>0.15</td>\n",
              "    </tr>\n",
              "    <tr>\n",
              "      <th>obs8</th>\n",
              "      <td>fresas</td>\n",
              "      <td>rojo</td>\n",
              "      <td>10</td>\n",
              "      <td>0.05</td>\n",
              "    </tr>\n",
              "  </tbody>\n",
              "</table>\n",
              "</div>"
            ],
            "text/plain": [
              "        FRUTA COLOR  CANTIDAD  PRECIO\n",
              "obs2    melón  rojo         1    2.00\n",
              "2     manzana  rojo         6    0.35\n",
              "3     cerezas  rojo        10    0.10\n",
              "5        pera  rojo         6    0.20\n",
              "6     naranja  rojo         4    0.15\n",
              "obs8   fresas  rojo        10    0.05"
            ]
          },
          "execution_count": 24,
          "metadata": {
            "tags": []
          },
          "output_type": "execute_result"
        }
      ],
      "source": [
        "# Eliminamos filas (axis = 0) por etiqueta\n",
        "df_dropped = df.drop(labels = [\"obs1\", 4], axis = 0)\n",
        "df_dropped"
      ]
    },
    {
      "cell_type": "code",
      "execution_count": null,
      "metadata": {
        "colab": {
          "base_uri": "https://localhost:8080/",
          "height": 297
        },
        "id": "_QRk4b9Nj50v",
        "outputId": "43bee636-9a53-4a81-eecf-b3847d8be76f"
      },
      "outputs": [
        {
          "data": {
            "text/html": [
              "<div>\n",
              "<style scoped>\n",
              "    .dataframe tbody tr th:only-of-type {\n",
              "        vertical-align: middle;\n",
              "    }\n",
              "\n",
              "    .dataframe tbody tr th {\n",
              "        vertical-align: top;\n",
              "    }\n",
              "\n",
              "    .dataframe thead th {\n",
              "        text-align: right;\n",
              "    }\n",
              "</style>\n",
              "<table border=\"1\" class=\"dataframe\">\n",
              "  <thead>\n",
              "    <tr style=\"text-align: right;\">\n",
              "      <th></th>\n",
              "      <th>FRUTA</th>\n",
              "      <th>CANTIDAD</th>\n",
              "    </tr>\n",
              "  </thead>\n",
              "  <tbody>\n",
              "    <tr>\n",
              "      <th>obs1</th>\n",
              "      <td>sandía</td>\n",
              "      <td>1</td>\n",
              "    </tr>\n",
              "    <tr>\n",
              "      <th>obs2</th>\n",
              "      <td>melón</td>\n",
              "      <td>1</td>\n",
              "    </tr>\n",
              "    <tr>\n",
              "      <th>2</th>\n",
              "      <td>manzana</td>\n",
              "      <td>6</td>\n",
              "    </tr>\n",
              "    <tr>\n",
              "      <th>3</th>\n",
              "      <td>cerezas</td>\n",
              "      <td>10</td>\n",
              "    </tr>\n",
              "    <tr>\n",
              "      <th>4</th>\n",
              "      <td>plátano</td>\n",
              "      <td>3</td>\n",
              "    </tr>\n",
              "    <tr>\n",
              "      <th>5</th>\n",
              "      <td>pera</td>\n",
              "      <td>6</td>\n",
              "    </tr>\n",
              "    <tr>\n",
              "      <th>6</th>\n",
              "      <td>naranja</td>\n",
              "      <td>4</td>\n",
              "    </tr>\n",
              "    <tr>\n",
              "      <th>obs8</th>\n",
              "      <td>fresas</td>\n",
              "      <td>10</td>\n",
              "    </tr>\n",
              "  </tbody>\n",
              "</table>\n",
              "</div>"
            ],
            "text/plain": [
              "        FRUTA  CANTIDAD\n",
              "obs1   sandía         1\n",
              "obs2    melón         1\n",
              "2     manzana         6\n",
              "3     cerezas        10\n",
              "4     plátano         3\n",
              "5        pera         6\n",
              "6     naranja         4\n",
              "obs8   fresas        10"
            ]
          },
          "execution_count": 25,
          "metadata": {
            "tags": []
          },
          "output_type": "execute_result"
        }
      ],
      "source": [
        "# Eliminamos columnas (axis = 1) por etiqueta\n",
        "df_dropped = df.drop(labels = [\"COLOR\", \"PRECIO\"], axis = 1)\n",
        "df_dropped"
      ]
    },
    {
      "cell_type": "markdown",
      "metadata": {
        "id": "N0Ml5Wp4k9Up"
      },
      "source": [
        "El método `.pop()` elimina la columna que indiquemos por parámetro"
      ]
    },
    {
      "cell_type": "code",
      "execution_count": null,
      "metadata": {
        "colab": {
          "base_uri": "https://localhost:8080/",
          "height": 297
        },
        "id": "78bRr9kdk8q9",
        "outputId": "3b57b5b3-6af3-4158-88b6-cf84920887e4"
      },
      "outputs": [
        {
          "data": {
            "text/html": [
              "<div>\n",
              "<style scoped>\n",
              "    .dataframe tbody tr th:only-of-type {\n",
              "        vertical-align: middle;\n",
              "    }\n",
              "\n",
              "    .dataframe tbody tr th {\n",
              "        vertical-align: top;\n",
              "    }\n",
              "\n",
              "    .dataframe thead th {\n",
              "        text-align: right;\n",
              "    }\n",
              "</style>\n",
              "<table border=\"1\" class=\"dataframe\">\n",
              "  <thead>\n",
              "    <tr style=\"text-align: right;\">\n",
              "      <th></th>\n",
              "      <th>FRUTA</th>\n",
              "      <th>CANTIDAD</th>\n",
              "      <th>PRECIO</th>\n",
              "    </tr>\n",
              "  </thead>\n",
              "  <tbody>\n",
              "    <tr>\n",
              "      <th>obs1</th>\n",
              "      <td>sandía</td>\n",
              "      <td>1</td>\n",
              "      <td>2.50</td>\n",
              "    </tr>\n",
              "    <tr>\n",
              "      <th>obs2</th>\n",
              "      <td>melón</td>\n",
              "      <td>1</td>\n",
              "      <td>2.00</td>\n",
              "    </tr>\n",
              "    <tr>\n",
              "      <th>2</th>\n",
              "      <td>manzana</td>\n",
              "      <td>6</td>\n",
              "      <td>0.35</td>\n",
              "    </tr>\n",
              "    <tr>\n",
              "      <th>3</th>\n",
              "      <td>cerezas</td>\n",
              "      <td>10</td>\n",
              "      <td>0.10</td>\n",
              "    </tr>\n",
              "    <tr>\n",
              "      <th>4</th>\n",
              "      <td>plátano</td>\n",
              "      <td>3</td>\n",
              "      <td>0.35</td>\n",
              "    </tr>\n",
              "    <tr>\n",
              "      <th>5</th>\n",
              "      <td>pera</td>\n",
              "      <td>6</td>\n",
              "      <td>0.20</td>\n",
              "    </tr>\n",
              "    <tr>\n",
              "      <th>6</th>\n",
              "      <td>naranja</td>\n",
              "      <td>4</td>\n",
              "      <td>0.15</td>\n",
              "    </tr>\n",
              "    <tr>\n",
              "      <th>obs8</th>\n",
              "      <td>fresas</td>\n",
              "      <td>10</td>\n",
              "      <td>0.05</td>\n",
              "    </tr>\n",
              "  </tbody>\n",
              "</table>\n",
              "</div>"
            ],
            "text/plain": [
              "        FRUTA  CANTIDAD  PRECIO\n",
              "obs1   sandía         1    2.50\n",
              "obs2    melón         1    2.00\n",
              "2     manzana         6    0.35\n",
              "3     cerezas        10    0.10\n",
              "4     plátano         3    0.35\n",
              "5        pera         6    0.20\n",
              "6     naranja         4    0.15\n",
              "obs8   fresas        10    0.05"
            ]
          },
          "execution_count": 26,
          "metadata": {
            "tags": []
          },
          "output_type": "execute_result"
        }
      ],
      "source": [
        "column_popped = df.pop(\"COLOR\")\n",
        "df"
      ]
    },
    {
      "cell_type": "code",
      "execution_count": null,
      "metadata": {
        "colab": {
          "base_uri": "https://localhost:8080/"
        },
        "id": "6UhYBnb5enHN",
        "outputId": "dd461fec-7ea4-45a3-e343-8df5e569a4e9"
      },
      "outputs": [
        {
          "data": {
            "text/plain": [
              "obs1    rojo\n",
              "obs2    rojo\n",
              "2       rojo\n",
              "3       rojo\n",
              "4       rojo\n",
              "5       rojo\n",
              "6       rojo\n",
              "obs8    rojo\n",
              "Name: COLOR, dtype: object"
            ]
          },
          "execution_count": 27,
          "metadata": {
            "tags": []
          },
          "output_type": "execute_result"
        }
      ],
      "source": [
        "column_popped"
      ]
    },
    {
      "cell_type": "code",
      "execution_count": null,
      "metadata": {
        "colab": {
          "base_uri": "https://localhost:8080/",
          "height": 297
        },
        "id": "eVdRUCYVlfrS",
        "outputId": "cb311e5a-5e33-4052-8619-c8f1f92f99b3"
      },
      "outputs": [
        {
          "data": {
            "text/html": [
              "<div>\n",
              "<style scoped>\n",
              "    .dataframe tbody tr th:only-of-type {\n",
              "        vertical-align: middle;\n",
              "    }\n",
              "\n",
              "    .dataframe tbody tr th {\n",
              "        vertical-align: top;\n",
              "    }\n",
              "\n",
              "    .dataframe thead th {\n",
              "        text-align: right;\n",
              "    }\n",
              "</style>\n",
              "<table border=\"1\" class=\"dataframe\">\n",
              "  <thead>\n",
              "    <tr style=\"text-align: right;\">\n",
              "      <th></th>\n",
              "      <th>FRUTA</th>\n",
              "      <th>CANTIDAD</th>\n",
              "      <th>PRECIO</th>\n",
              "      <th>COLOR</th>\n",
              "    </tr>\n",
              "  </thead>\n",
              "  <tbody>\n",
              "    <tr>\n",
              "      <th>obs1</th>\n",
              "      <td>sandía</td>\n",
              "      <td>1</td>\n",
              "      <td>2.50</td>\n",
              "      <td>rojo</td>\n",
              "    </tr>\n",
              "    <tr>\n",
              "      <th>obs2</th>\n",
              "      <td>melón</td>\n",
              "      <td>1</td>\n",
              "      <td>2.00</td>\n",
              "      <td>rojo</td>\n",
              "    </tr>\n",
              "    <tr>\n",
              "      <th>2</th>\n",
              "      <td>manzana</td>\n",
              "      <td>6</td>\n",
              "      <td>0.35</td>\n",
              "      <td>rojo</td>\n",
              "    </tr>\n",
              "    <tr>\n",
              "      <th>3</th>\n",
              "      <td>cerezas</td>\n",
              "      <td>10</td>\n",
              "      <td>0.10</td>\n",
              "      <td>rojo</td>\n",
              "    </tr>\n",
              "    <tr>\n",
              "      <th>4</th>\n",
              "      <td>plátano</td>\n",
              "      <td>3</td>\n",
              "      <td>0.35</td>\n",
              "      <td>rojo</td>\n",
              "    </tr>\n",
              "    <tr>\n",
              "      <th>5</th>\n",
              "      <td>pera</td>\n",
              "      <td>6</td>\n",
              "      <td>0.20</td>\n",
              "      <td>rojo</td>\n",
              "    </tr>\n",
              "    <tr>\n",
              "      <th>6</th>\n",
              "      <td>naranja</td>\n",
              "      <td>4</td>\n",
              "      <td>0.15</td>\n",
              "      <td>rojo</td>\n",
              "    </tr>\n",
              "    <tr>\n",
              "      <th>obs8</th>\n",
              "      <td>fresas</td>\n",
              "      <td>10</td>\n",
              "      <td>0.05</td>\n",
              "      <td>rojo</td>\n",
              "    </tr>\n",
              "  </tbody>\n",
              "</table>\n",
              "</div>"
            ],
            "text/plain": [
              "        FRUTA  CANTIDAD  PRECIO COLOR\n",
              "obs1   sandía         1    2.50  rojo\n",
              "obs2    melón         1    2.00  rojo\n",
              "2     manzana         6    0.35  rojo\n",
              "3     cerezas        10    0.10  rojo\n",
              "4     plátano         3    0.35  rojo\n",
              "5        pera         6    0.20  rojo\n",
              "6     naranja         4    0.15  rojo\n",
              "obs8   fresas        10    0.05  rojo"
            ]
          },
          "execution_count": 28,
          "metadata": {
            "tags": []
          },
          "output_type": "execute_result"
        }
      ],
      "source": [
        "# Volvemos a añadir la columna recientemente eliminada al final del dataframe con una sintaxis que no habíamos visto todavía\n",
        "df[\"COLOR\"] = column_popped\n",
        "df"
      ]
    },
    {
      "cell_type": "markdown",
      "metadata": {
        "id": "LQvL59Puim0_"
      },
      "source": [
        "El método `.dtypes` nos indica de qué tipo es cada columna del dataframe"
      ]
    },
    {
      "cell_type": "code",
      "execution_count": null,
      "metadata": {
        "colab": {
          "base_uri": "https://localhost:8080/"
        },
        "id": "wY6BPqm7igZT",
        "outputId": "03053ff4-292d-4142-a5c5-a1a9d0180871"
      },
      "outputs": [
        {
          "data": {
            "text/plain": [
              "FRUTA              object\n",
              "CANTIDAD            int64\n",
              "PRECIO            float64\n",
              "COLOR              object\n",
              "RANKING_FRUTA     float64\n",
              "RANKING_PRECIO    float64\n",
              "dtype: object"
            ]
          },
          "execution_count": 37,
          "metadata": {
            "tags": []
          },
          "output_type": "execute_result"
        }
      ],
      "source": [
        "df.dtypes"
      ]
    },
    {
      "cell_type": "markdown",
      "metadata": {
        "id": "eKe_O_NCEBr1"
      },
      "source": [
        "## Dataframes a partir de archivos CSV\n",
        "\n",
        "Podemos guardar la información de un archivo csv en un dataframe usando la función `read_csv()`.\n",
        "\n",
        "El archivo puede\n",
        "\n",
        "- estar guardado en nuestro directorio de trabajo\n",
        "- proceder de una url\n",
        "\n"
      ]
    },
    {
      "cell_type": "code",
      "execution_count": 8,
      "metadata": {
        "colab": {
          "base_uri": "https://localhost:8080/",
          "height": 204
        },
        "id": "loTznG-mNFvZ",
        "outputId": "f64f5918-2259-4286-b202-284818d7dc8d"
      },
      "outputs": [
        {
          "data": {
            "text/html": [
              "<div>\n",
              "<style scoped>\n",
              "    .dataframe tbody tr th:only-of-type {\n",
              "        vertical-align: middle;\n",
              "    }\n",
              "\n",
              "    .dataframe tbody tr th {\n",
              "        vertical-align: top;\n",
              "    }\n",
              "\n",
              "    .dataframe thead th {\n",
              "        text-align: right;\n",
              "    }\n",
              "</style>\n",
              "<table border=\"1\" class=\"dataframe\">\n",
              "  <thead>\n",
              "    <tr style=\"text-align: right;\">\n",
              "      <th></th>\n",
              "      <th>Character</th>\n",
              "      <th>Voiced by</th>\n",
              "      <th>Description/role</th>\n",
              "      <th>First appearance</th>\n",
              "    </tr>\n",
              "  </thead>\n",
              "  <tbody>\n",
              "    <tr>\n",
              "      <th>0</th>\n",
              "      <td>Homer Simpson</td>\n",
              "      <td>Dan Castellaneta</td>\n",
              "      <td>Husband of Marge; father of Bart, Lisa, and Ma...</td>\n",
              "      <td>\"Good Night\" (The Simpsons shorts)</td>\n",
              "    </tr>\n",
              "    <tr>\n",
              "      <th>1</th>\n",
              "      <td>Marge Simpson</td>\n",
              "      <td>Julie Kavner</td>\n",
              "      <td>Wife of Homer; mother of Bart, Lisa, and Maggie.</td>\n",
              "      <td>\"Good Night\"</td>\n",
              "    </tr>\n",
              "    <tr>\n",
              "      <th>2</th>\n",
              "      <td>Bart Simpson</td>\n",
              "      <td>Nancy Cartwright</td>\n",
              "      <td>Oldest child and only son of Homer and Marge; ...</td>\n",
              "      <td>\"Good Night\"</td>\n",
              "    </tr>\n",
              "    <tr>\n",
              "      <th>3</th>\n",
              "      <td>Lisa Simpson</td>\n",
              "      <td>Yeardley Smith</td>\n",
              "      <td>Middle child and oldest daughter of Homer and ...</td>\n",
              "      <td>\"Good Night\"</td>\n",
              "    </tr>\n",
              "    <tr>\n",
              "      <th>4</th>\n",
              "      <td>Maggie Simpson</td>\n",
              "      <td>Various</td>\n",
              "      <td>Youngest child (the baby) and daughter of Home...</td>\n",
              "      <td>\"Good Night\"</td>\n",
              "    </tr>\n",
              "  </tbody>\n",
              "</table>\n",
              "</div>"
            ],
            "text/plain": [
              "        Character          Voiced by   \\\n",
              "0   Homer Simpson   Dan Castellaneta    \n",
              "1   Marge Simpson       Julie Kavner    \n",
              "2    Bart Simpson   Nancy Cartwright    \n",
              "3    Lisa Simpson     Yeardley Smith    \n",
              "4  Maggie Simpson            Various    \n",
              "\n",
              "                                   Description/role   \\\n",
              "0  Husband of Marge; father of Bart, Lisa, and Ma...   \n",
              "1  Wife of Homer; mother of Bart, Lisa, and Maggie.    \n",
              "2  Oldest child and only son of Homer and Marge; ...   \n",
              "3  Middle child and oldest daughter of Homer and ...   \n",
              "4  Youngest child (the baby) and daughter of Home...   \n",
              "\n",
              "                    First appearance   \n",
              "0  \"Good Night\" (The Simpsons shorts)  \n",
              "1                        \"Good Night\"  \n",
              "2                        \"Good Night\"  \n",
              "3                        \"Good Night\"  \n",
              "4                        \"Good Night\"  "
            ]
          },
          "execution_count": 8,
          "metadata": {},
          "output_type": "execute_result"
        }
      ],
      "source": [
        "simpsons_df = pd.read_csv(\".\\Data\\Simpsons-Characters.csv\")\n",
        "simpsons_df.head()"
      ]
    },
    {
      "cell_type": "code",
      "execution_count": 9,
      "metadata": {
        "colab": {
          "base_uri": "https://localhost:8080/",
          "height": 204
        },
        "id": "8X4Lbhe0vwFo",
        "outputId": "85aa7cd1-99a5-4a8a-a5b2-bbcfcf6e5363"
      },
      "outputs": [
        {
          "data": {
            "text/html": [
              "<div>\n",
              "<style scoped>\n",
              "    .dataframe tbody tr th:only-of-type {\n",
              "        vertical-align: middle;\n",
              "    }\n",
              "\n",
              "    .dataframe tbody tr th {\n",
              "        vertical-align: top;\n",
              "    }\n",
              "\n",
              "    .dataframe thead th {\n",
              "        text-align: right;\n",
              "    }\n",
              "</style>\n",
              "<table border=\"1\" class=\"dataframe\">\n",
              "  <thead>\n",
              "    <tr style=\"text-align: right;\">\n",
              "      <th></th>\n",
              "      <th>Character</th>\n",
              "      <th>Voiced by</th>\n",
              "      <th>Description/role</th>\n",
              "      <th>First appearance</th>\n",
              "    </tr>\n",
              "  </thead>\n",
              "  <tbody>\n",
              "    <tr>\n",
              "      <th>148</th>\n",
              "      <td>Groundskeeper Willie</td>\n",
              "      <td>Dan Castellaneta</td>\n",
              "      <td>Janitor of Springfield Elementary School.</td>\n",
              "      <td>\"Principal Charming\"</td>\n",
              "    </tr>\n",
              "    <tr>\n",
              "      <th>149</th>\n",
              "      <td>Wiseguy</td>\n",
              "      <td>Hank Azaria</td>\n",
              "      <td>Service industry.</td>\n",
              "      <td>\"The Way We Was\"</td>\n",
              "    </tr>\n",
              "    <tr>\n",
              "      <th>150</th>\n",
              "      <td>Wolfcastle, Rainier</td>\n",
              "      <td>Harry Shearer</td>\n",
              "      <td>Actor; star of McBain films.</td>\n",
              "      <td>\"The Way We Was\"</td>\n",
              "    </tr>\n",
              "    <tr>\n",
              "      <th>151</th>\n",
              "      <td>Yes Guy</td>\n",
              "      <td>Dan Castellaneta</td>\n",
              "      <td>Service industry.</td>\n",
              "      <td>\"Mayored to the Mob\"</td>\n",
              "    </tr>\n",
              "    <tr>\n",
              "      <th>152</th>\n",
              "      <td>Ziff, ArtieArtie Ziff</td>\n",
              "      <td>Jon Lovitz, Dan Castellaneta</td>\n",
              "      <td>Former billionaire.</td>\n",
              "      <td>\"The Way We Was</td>\n",
              "    </tr>\n",
              "  </tbody>\n",
              "</table>\n",
              "</div>"
            ],
            "text/plain": [
              "                 Character                      Voiced by   \\\n",
              "148   Groundskeeper Willie               Dan Castellaneta    \n",
              "149                Wiseguy                    Hank Azaria    \n",
              "150     Wolfcastle, Rainier                 Harry Shearer    \n",
              "151                Yes Guy               Dan Castellaneta    \n",
              "152  Ziff, ArtieArtie Ziff   Jon Lovitz, Dan Castellaneta    \n",
              "\n",
              "                              Description/role      First appearance   \n",
              "148  Janitor of Springfield Elementary School.   \"Principal Charming\"  \n",
              "149                          Service industry.       \"The Way We Was\"  \n",
              "150               Actor; star of McBain films.       \"The Way We Was\"  \n",
              "151                          Service industry.   \"Mayored to the Mob\"  \n",
              "152                        Former billionaire.        \"The Way We Was  "
            ]
          },
          "execution_count": 9,
          "metadata": {},
          "output_type": "execute_result"
        }
      ],
      "source": [
        "simpsons_df.tail()"
      ]
    },
    {
      "cell_type": "markdown",
      "metadata": {
        "id": "gZn1SRCnJsjD"
      },
      "source": [
        "### Desde url\n",
        "\n",
        "Vamos a cargar el archivo que contiene la frecuencia de aparición de las letras del alfabeto inglés. Este archivo se llama letter_frequency.csv procede de la siguiente [url](https://people.sc.fsu.edu/~jburkardt/data/csv/letter_frequency.csv)"
      ]
    },
    {
      "cell_type": "code",
      "execution_count": 10,
      "metadata": {
        "colab": {
          "base_uri": "https://localhost:8080/",
          "height": 855
        },
        "id": "vo2Na3e9EEWU",
        "outputId": "33f5af44-489b-482c-fe39-d41fa8403848"
      },
      "outputs": [
        {
          "data": {
            "text/html": [
              "<div>\n",
              "<style scoped>\n",
              "    .dataframe tbody tr th:only-of-type {\n",
              "        vertical-align: middle;\n",
              "    }\n",
              "\n",
              "    .dataframe tbody tr th {\n",
              "        vertical-align: top;\n",
              "    }\n",
              "\n",
              "    .dataframe thead th {\n",
              "        text-align: right;\n",
              "    }\n",
              "</style>\n",
              "<table border=\"1\" class=\"dataframe\">\n",
              "  <thead>\n",
              "    <tr style=\"text-align: right;\">\n",
              "      <th></th>\n",
              "      <th>Letra</th>\n",
              "      <th>Frecuencia</th>\n",
              "      <th>Porcentaje</th>\n",
              "    </tr>\n",
              "  </thead>\n",
              "  <tbody>\n",
              "    <tr>\n",
              "      <th>0</th>\n",
              "      <td>\"A\"</td>\n",
              "      <td>24373121</td>\n",
              "      <td>8.1</td>\n",
              "    </tr>\n",
              "    <tr>\n",
              "      <th>1</th>\n",
              "      <td>\"B\"</td>\n",
              "      <td>4762938</td>\n",
              "      <td>1.6</td>\n",
              "    </tr>\n",
              "    <tr>\n",
              "      <th>2</th>\n",
              "      <td>\"C\"</td>\n",
              "      <td>8982417</td>\n",
              "      <td>3.0</td>\n",
              "    </tr>\n",
              "    <tr>\n",
              "      <th>3</th>\n",
              "      <td>\"D\"</td>\n",
              "      <td>10805580</td>\n",
              "      <td>3.6</td>\n",
              "    </tr>\n",
              "    <tr>\n",
              "      <th>4</th>\n",
              "      <td>\"E\"</td>\n",
              "      <td>37907119</td>\n",
              "      <td>12.6</td>\n",
              "    </tr>\n",
              "    <tr>\n",
              "      <th>5</th>\n",
              "      <td>\"F\"</td>\n",
              "      <td>7486889</td>\n",
              "      <td>2.5</td>\n",
              "    </tr>\n",
              "    <tr>\n",
              "      <th>6</th>\n",
              "      <td>\"G\"</td>\n",
              "      <td>5143059</td>\n",
              "      <td>1.7</td>\n",
              "    </tr>\n",
              "    <tr>\n",
              "      <th>7</th>\n",
              "      <td>\"H\"</td>\n",
              "      <td>18058207</td>\n",
              "      <td>6.0</td>\n",
              "    </tr>\n",
              "    <tr>\n",
              "      <th>8</th>\n",
              "      <td>\"I\"</td>\n",
              "      <td>21820970</td>\n",
              "      <td>7.3</td>\n",
              "    </tr>\n",
              "    <tr>\n",
              "      <th>9</th>\n",
              "      <td>\"J\"</td>\n",
              "      <td>474021</td>\n",
              "      <td>0.2</td>\n",
              "    </tr>\n",
              "    <tr>\n",
              "      <th>10</th>\n",
              "      <td>\"K\"</td>\n",
              "      <td>1720909</td>\n",
              "      <td>0.6</td>\n",
              "    </tr>\n",
              "    <tr>\n",
              "      <th>11</th>\n",
              "      <td>\"L\"</td>\n",
              "      <td>11730498</td>\n",
              "      <td>3.9</td>\n",
              "    </tr>\n",
              "    <tr>\n",
              "      <th>12</th>\n",
              "      <td>\"M\"</td>\n",
              "      <td>7391366</td>\n",
              "      <td>2.5</td>\n",
              "    </tr>\n",
              "    <tr>\n",
              "      <th>13</th>\n",
              "      <td>\"N\"</td>\n",
              "      <td>21402466</td>\n",
              "      <td>7.1</td>\n",
              "    </tr>\n",
              "    <tr>\n",
              "      <th>14</th>\n",
              "      <td>\"O\"</td>\n",
              "      <td>23215532</td>\n",
              "      <td>7.7</td>\n",
              "    </tr>\n",
              "    <tr>\n",
              "      <th>15</th>\n",
              "      <td>\"P\"</td>\n",
              "      <td>5719422</td>\n",
              "      <td>1.9</td>\n",
              "    </tr>\n",
              "    <tr>\n",
              "      <th>16</th>\n",
              "      <td>\"Q\"</td>\n",
              "      <td>297237</td>\n",
              "      <td>0.1</td>\n",
              "    </tr>\n",
              "    <tr>\n",
              "      <th>17</th>\n",
              "      <td>\"R\"</td>\n",
              "      <td>17897352</td>\n",
              "      <td>5.9</td>\n",
              "    </tr>\n",
              "    <tr>\n",
              "      <th>18</th>\n",
              "      <td>\"S\"</td>\n",
              "      <td>19059775</td>\n",
              "      <td>6.3</td>\n",
              "    </tr>\n",
              "    <tr>\n",
              "      <th>19</th>\n",
              "      <td>\"T\"</td>\n",
              "      <td>28691274</td>\n",
              "      <td>9.5</td>\n",
              "    </tr>\n",
              "    <tr>\n",
              "      <th>20</th>\n",
              "      <td>\"U\"</td>\n",
              "      <td>8022379</td>\n",
              "      <td>2.7</td>\n",
              "    </tr>\n",
              "    <tr>\n",
              "      <th>21</th>\n",
              "      <td>\"V\"</td>\n",
              "      <td>2835696</td>\n",
              "      <td>0.9</td>\n",
              "    </tr>\n",
              "    <tr>\n",
              "      <th>22</th>\n",
              "      <td>\"W\"</td>\n",
              "      <td>6505294</td>\n",
              "      <td>2.2</td>\n",
              "    </tr>\n",
              "    <tr>\n",
              "      <th>23</th>\n",
              "      <td>\"X\"</td>\n",
              "      <td>562732</td>\n",
              "      <td>0.2</td>\n",
              "    </tr>\n",
              "    <tr>\n",
              "      <th>24</th>\n",
              "      <td>\"Y\"</td>\n",
              "      <td>5910495</td>\n",
              "      <td>2.0</td>\n",
              "    </tr>\n",
              "    <tr>\n",
              "      <th>25</th>\n",
              "      <td>\"Z\"</td>\n",
              "      <td>93172</td>\n",
              "      <td>0.0</td>\n",
              "    </tr>\n",
              "  </tbody>\n",
              "</table>\n",
              "</div>"
            ],
            "text/plain": [
              "      Letra  Frecuencia  Porcentaje\n",
              "0       \"A\"    24373121         8.1\n",
              "1       \"B\"     4762938         1.6\n",
              "2       \"C\"     8982417         3.0\n",
              "3       \"D\"    10805580         3.6\n",
              "4       \"E\"    37907119        12.6\n",
              "5       \"F\"     7486889         2.5\n",
              "6       \"G\"     5143059         1.7\n",
              "7       \"H\"    18058207         6.0\n",
              "8       \"I\"    21820970         7.3\n",
              "9       \"J\"      474021         0.2\n",
              "10      \"K\"     1720909         0.6\n",
              "11      \"L\"    11730498         3.9\n",
              "12      \"M\"     7391366         2.5\n",
              "13      \"N\"    21402466         7.1\n",
              "14      \"O\"    23215532         7.7\n",
              "15      \"P\"     5719422         1.9\n",
              "16      \"Q\"      297237         0.1\n",
              "17      \"R\"    17897352         5.9\n",
              "18      \"S\"    19059775         6.3\n",
              "19      \"T\"    28691274         9.5\n",
              "20      \"U\"     8022379         2.7\n",
              "21      \"V\"     2835696         0.9\n",
              "22      \"W\"     6505294         2.2\n",
              "23      \"X\"      562732         0.2\n",
              "24      \"Y\"     5910495         2.0\n",
              "25      \"Z\"       93172         0.0"
            ]
          },
          "execution_count": 10,
          "metadata": {},
          "output_type": "execute_result"
        }
      ],
      "source": [
        "letters_freq_df = pd.read_csv(\"https://people.sc.fsu.edu/~jburkardt/data/csv/letter_frequency.csv\")\n",
        "letters_freq_df.columns = [\"Letra\", \"Frecuencia\", \"Porcentaje\"]\n",
        "letters_freq_df"
      ]
    },
    {
      "cell_type": "markdown",
      "metadata": {
        "id": "mp5bUX4wiRun"
      },
      "source": [
        "## Filtrando dataframes\n",
        "\n",
        "Dado un dataframe, podemos filtrar sus filas comprobando cuáles satisfacen una condición"
      ]
    },
    {
      "cell_type": "code",
      "execution_count": null,
      "metadata": {
        "colab": {
          "base_uri": "https://localhost:8080/",
          "height": 328
        },
        "id": "ts-UG4fmhK71",
        "outputId": "ca75b870-95b2-4473-b743-52dd4380ab81"
      },
      "outputs": [
        {
          "data": {
            "text/html": [
              "<div>\n",
              "<style scoped>\n",
              "    .dataframe tbody tr th:only-of-type {\n",
              "        vertical-align: middle;\n",
              "    }\n",
              "\n",
              "    .dataframe tbody tr th {\n",
              "        vertical-align: top;\n",
              "    }\n",
              "\n",
              "    .dataframe thead th {\n",
              "        text-align: right;\n",
              "    }\n",
              "</style>\n",
              "<table border=\"1\" class=\"dataframe\">\n",
              "  <thead>\n",
              "    <tr style=\"text-align: right;\">\n",
              "      <th></th>\n",
              "      <th>Letra</th>\n",
              "      <th>Frecuencia</th>\n",
              "      <th>Porcentaje</th>\n",
              "    </tr>\n",
              "  </thead>\n",
              "  <tbody>\n",
              "    <tr>\n",
              "      <th>0</th>\n",
              "      <td>\"A\"</td>\n",
              "      <td>24373121</td>\n",
              "      <td>8.1</td>\n",
              "    </tr>\n",
              "    <tr>\n",
              "      <th>4</th>\n",
              "      <td>\"E\"</td>\n",
              "      <td>37907119</td>\n",
              "      <td>12.6</td>\n",
              "    </tr>\n",
              "    <tr>\n",
              "      <th>7</th>\n",
              "      <td>\"H\"</td>\n",
              "      <td>18058207</td>\n",
              "      <td>6.0</td>\n",
              "    </tr>\n",
              "    <tr>\n",
              "      <th>8</th>\n",
              "      <td>\"I\"</td>\n",
              "      <td>21820970</td>\n",
              "      <td>7.3</td>\n",
              "    </tr>\n",
              "    <tr>\n",
              "      <th>13</th>\n",
              "      <td>\"N\"</td>\n",
              "      <td>21402466</td>\n",
              "      <td>7.1</td>\n",
              "    </tr>\n",
              "    <tr>\n",
              "      <th>14</th>\n",
              "      <td>\"O\"</td>\n",
              "      <td>23215532</td>\n",
              "      <td>7.7</td>\n",
              "    </tr>\n",
              "    <tr>\n",
              "      <th>17</th>\n",
              "      <td>\"R\"</td>\n",
              "      <td>17897352</td>\n",
              "      <td>5.9</td>\n",
              "    </tr>\n",
              "    <tr>\n",
              "      <th>18</th>\n",
              "      <td>\"S\"</td>\n",
              "      <td>19059775</td>\n",
              "      <td>6.3</td>\n",
              "    </tr>\n",
              "    <tr>\n",
              "      <th>19</th>\n",
              "      <td>\"T\"</td>\n",
              "      <td>28691274</td>\n",
              "      <td>9.5</td>\n",
              "    </tr>\n",
              "  </tbody>\n",
              "</table>\n",
              "</div>"
            ],
            "text/plain": [
              "      Letra  Frecuencia  Porcentaje\n",
              "0       \"A\"    24373121         8.1\n",
              "4       \"E\"    37907119        12.6\n",
              "7       \"H\"    18058207         6.0\n",
              "8       \"I\"    21820970         7.3\n",
              "13      \"N\"    21402466         7.1\n",
              "14      \"O\"    23215532         7.7\n",
              "17      \"R\"    17897352         5.9\n",
              "18      \"S\"    19059775         6.3\n",
              "19      \"T\"    28691274         9.5"
            ]
          },
          "execution_count": 58,
          "metadata": {
            "tags": []
          },
          "output_type": "execute_result"
        }
      ],
      "source": [
        "# Mostramos las observaciones con porcentaje mayor a 5\n",
        "letters_freq_df[letters_freq_df[\"Porcentaje\"] > 5]"
      ]
    },
    {
      "cell_type": "code",
      "execution_count": null,
      "metadata": {
        "colab": {
          "base_uri": "https://localhost:8080/",
          "height": 669
        },
        "id": "j0fYNIkVh4rv",
        "outputId": "15507fcd-3d13-4f00-b66f-80eac6600a38"
      },
      "outputs": [
        {
          "data": {
            "text/html": [
              "<div>\n",
              "<style scoped>\n",
              "    .dataframe tbody tr th:only-of-type {\n",
              "        vertical-align: middle;\n",
              "    }\n",
              "\n",
              "    .dataframe tbody tr th {\n",
              "        vertical-align: top;\n",
              "    }\n",
              "\n",
              "    .dataframe thead th {\n",
              "        text-align: right;\n",
              "    }\n",
              "</style>\n",
              "<table border=\"1\" class=\"dataframe\">\n",
              "  <thead>\n",
              "    <tr style=\"text-align: right;\">\n",
              "      <th></th>\n",
              "      <th>Letra</th>\n",
              "      <th>Frecuencia</th>\n",
              "      <th>Porcentaje</th>\n",
              "    </tr>\n",
              "  </thead>\n",
              "  <tbody>\n",
              "    <tr>\n",
              "      <th>1</th>\n",
              "      <td>\"B\"</td>\n",
              "      <td>4762938</td>\n",
              "      <td>1.6</td>\n",
              "    </tr>\n",
              "    <tr>\n",
              "      <th>2</th>\n",
              "      <td>\"C\"</td>\n",
              "      <td>8982417</td>\n",
              "      <td>3.0</td>\n",
              "    </tr>\n",
              "    <tr>\n",
              "      <th>3</th>\n",
              "      <td>\"D\"</td>\n",
              "      <td>10805580</td>\n",
              "      <td>3.6</td>\n",
              "    </tr>\n",
              "    <tr>\n",
              "      <th>5</th>\n",
              "      <td>\"F\"</td>\n",
              "      <td>7486889</td>\n",
              "      <td>2.5</td>\n",
              "    </tr>\n",
              "    <tr>\n",
              "      <th>6</th>\n",
              "      <td>\"G\"</td>\n",
              "      <td>5143059</td>\n",
              "      <td>1.7</td>\n",
              "    </tr>\n",
              "    <tr>\n",
              "      <th>7</th>\n",
              "      <td>\"H\"</td>\n",
              "      <td>18058207</td>\n",
              "      <td>6.0</td>\n",
              "    </tr>\n",
              "    <tr>\n",
              "      <th>9</th>\n",
              "      <td>\"J\"</td>\n",
              "      <td>474021</td>\n",
              "      <td>0.2</td>\n",
              "    </tr>\n",
              "    <tr>\n",
              "      <th>10</th>\n",
              "      <td>\"K\"</td>\n",
              "      <td>1720909</td>\n",
              "      <td>0.6</td>\n",
              "    </tr>\n",
              "    <tr>\n",
              "      <th>11</th>\n",
              "      <td>\"L\"</td>\n",
              "      <td>11730498</td>\n",
              "      <td>3.9</td>\n",
              "    </tr>\n",
              "    <tr>\n",
              "      <th>12</th>\n",
              "      <td>\"M\"</td>\n",
              "      <td>7391366</td>\n",
              "      <td>2.5</td>\n",
              "    </tr>\n",
              "    <tr>\n",
              "      <th>15</th>\n",
              "      <td>\"P\"</td>\n",
              "      <td>5719422</td>\n",
              "      <td>1.9</td>\n",
              "    </tr>\n",
              "    <tr>\n",
              "      <th>16</th>\n",
              "      <td>\"Q\"</td>\n",
              "      <td>297237</td>\n",
              "      <td>0.1</td>\n",
              "    </tr>\n",
              "    <tr>\n",
              "      <th>17</th>\n",
              "      <td>\"R\"</td>\n",
              "      <td>17897352</td>\n",
              "      <td>5.9</td>\n",
              "    </tr>\n",
              "    <tr>\n",
              "      <th>18</th>\n",
              "      <td>\"S\"</td>\n",
              "      <td>19059775</td>\n",
              "      <td>6.3</td>\n",
              "    </tr>\n",
              "    <tr>\n",
              "      <th>20</th>\n",
              "      <td>\"U\"</td>\n",
              "      <td>8022379</td>\n",
              "      <td>2.7</td>\n",
              "    </tr>\n",
              "    <tr>\n",
              "      <th>21</th>\n",
              "      <td>\"V\"</td>\n",
              "      <td>2835696</td>\n",
              "      <td>0.9</td>\n",
              "    </tr>\n",
              "    <tr>\n",
              "      <th>22</th>\n",
              "      <td>\"W\"</td>\n",
              "      <td>6505294</td>\n",
              "      <td>2.2</td>\n",
              "    </tr>\n",
              "    <tr>\n",
              "      <th>23</th>\n",
              "      <td>\"X\"</td>\n",
              "      <td>562732</td>\n",
              "      <td>0.2</td>\n",
              "    </tr>\n",
              "    <tr>\n",
              "      <th>24</th>\n",
              "      <td>\"Y\"</td>\n",
              "      <td>5910495</td>\n",
              "      <td>2.0</td>\n",
              "    </tr>\n",
              "    <tr>\n",
              "      <th>25</th>\n",
              "      <td>\"Z\"</td>\n",
              "      <td>93172</td>\n",
              "      <td>0.0</td>\n",
              "    </tr>\n",
              "  </tbody>\n",
              "</table>\n",
              "</div>"
            ],
            "text/plain": [
              "      Letra  Frecuencia  Porcentaje\n",
              "1       \"B\"     4762938         1.6\n",
              "2       \"C\"     8982417         3.0\n",
              "3       \"D\"    10805580         3.6\n",
              "5       \"F\"     7486889         2.5\n",
              "6       \"G\"     5143059         1.7\n",
              "7       \"H\"    18058207         6.0\n",
              "9       \"J\"      474021         0.2\n",
              "10      \"K\"     1720909         0.6\n",
              "11      \"L\"    11730498         3.9\n",
              "12      \"M\"     7391366         2.5\n",
              "15      \"P\"     5719422         1.9\n",
              "16      \"Q\"      297237         0.1\n",
              "17      \"R\"    17897352         5.9\n",
              "18      \"S\"    19059775         6.3\n",
              "20      \"U\"     8022379         2.7\n",
              "21      \"V\"     2835696         0.9\n",
              "22      \"W\"     6505294         2.2\n",
              "23      \"X\"      562732         0.2\n",
              "24      \"Y\"     5910495         2.0\n",
              "25      \"Z\"       93172         0.0"
            ]
          },
          "execution_count": 59,
          "metadata": {
            "tags": []
          },
          "output_type": "execute_result"
        }
      ],
      "source": [
        "# Mostramos las observaciones con frecuencia menor o igual a la de la letra S\n",
        "freq_S = letters_freq_df.loc[18, \"Frecuencia\"]\n",
        "letters_freq_df[letters_freq_df[\"Frecuencia\"] <= freq_S]"
      ]
    }
  ],
  "metadata": {
    "colab": {
      "collapsed_sections": [
        "QamdL4IdbiKe",
        "3xiB1bfy7D9S"
      ],
      "provenance": []
    },
    "kernelspec": {
      "display_name": "Python 3",
      "name": "python3"
    },
    "language_info": {
      "codemirror_mode": {
        "name": "ipython",
        "version": 3
      },
      "file_extension": ".py",
      "mimetype": "text/x-python",
      "name": "python",
      "nbconvert_exporter": "python",
      "pygments_lexer": "ipython3",
      "version": "3.9.13"
    }
  },
  "nbformat": 4,
  "nbformat_minor": 0
}
