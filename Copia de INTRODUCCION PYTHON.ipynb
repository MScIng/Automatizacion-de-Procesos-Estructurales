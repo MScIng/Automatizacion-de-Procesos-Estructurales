{
 "cells": [
  {
   "cell_type": "markdown",
   "metadata": {},
   "source": [
    "\n",
    "\n",
    "**¿Que es python?**\n",
    "\n",
    "Python es un lenguaje de programación creado por Guido van Rossum a principios de los años 90 cuyo nombre está inspirado en el grupo de cómicos ingleses “Monty Python”.\n",
    "\n",
    "**Principales caracteristicas del lenguaje**\n",
    "\n",
    "- Es un lenguaje de programación de alto nivel, expresa sus algoritmos de una manera adecuada muy cercanos a la cognición humana.\n",
    "\n",
    "- Es multipropósito con aplicaciones en numerosas áreas como desarrollo web, big data, Data Science,computación científica e inteligencia artificial.\n",
    "\n",
    "- Es un lenguaje interpretado, es procesado en tiempo de ejecución por el intérprete, no es necesario compilar su programa antes de ejecutarlo.\n",
    "\n",
    "- Es de tipado dinámico no es necesario declarar el tipo de dato que va a contener una determinada variables.\n",
    "\n",
    "Es muy popular y utilizado por organizaciones como Google, NASA, Netflix, Yahoo, Spotify, Instagram."
   ]
  },
  {
   "attachments": {},
   "cell_type": "markdown",
   "metadata": {},
   "source": [
    "Declaramos las variables ‘a’ y ‘b’ luego le asignamos los valores de 3 y 4, finalmente sumamos ambas variables posteriormente imprimimos el valor."
   ]
  },
  {
   "cell_type": "code",
   "execution_count": 1,
   "metadata": {},
   "outputs": [
    {
     "name": "stdout",
     "output_type": "stream",
     "text": [
      "<class 'int'>\n",
      "7\n"
     ]
    }
   ],
   "source": [
    "a = 3\n",
    "b = 4\n",
    "c = a + b \n",
    "# print(c)\n",
    "print(type (c))\n",
    "print(a+b)"
   ]
  },
  {
   "attachments": {},
   "cell_type": "markdown",
   "metadata": {},
   "source": [
    "Podemos asignar el nombre que queramos, respetando no usar las palabras reservadas de Python ni espacios, guiones o números al principio."
   ]
  },
  {
   "cell_type": "code",
   "execution_count": 2,
   "metadata": {},
   "outputs": [
    {
     "name": "stdout",
     "output_type": "stream",
     "text": [
      "20\n",
      "60\n"
     ]
    }
   ],
   "source": [
    "# Válido\n",
    "_variable = 10\n",
    "variable = 20\n",
    "print(variable)\n",
    "variable10 = 30\n",
    "variable = 60\n",
    "print(variable)\n",
    "variaBle = 10"
   ]
  },
  {
   "attachments": {},
   "cell_type": "markdown",
   "metadata": {},
   "source": [
    "Los siguientes ejemplos no son permitidos"
   ]
  },
  {
   "attachments": {},
   "cell_type": "markdown",
   "metadata": {},
   "source": [
    "```python\n",
    "# No válido\n",
    "2variable = 10\n",
    "var-iable = 10\n",
    "var iable = 10"
   ]
  },
  {
   "attachments": {},
   "cell_type": "markdown",
   "metadata": {},
   "source": [
    "El tipo numérico float permite representar un número positivo, negativo, con decimales , es decir, números reales."
   ]
  },
  {
   "cell_type": "code",
   "execution_count": 3,
   "metadata": {},
   "outputs": [
    {
     "name": "stdout",
     "output_type": "stream",
     "text": [
      "<class 'float'>\n"
     ]
    }
   ],
   "source": [
    "print(type(5.1))"
   ]
  },
  {
   "cell_type": "code",
   "execution_count": 4,
   "metadata": {},
   "outputs": [
    {
     "name": "stdout",
     "output_type": "stream",
     "text": [
      "<class 'int'>\n"
     ]
    }
   ],
   "source": [
    "a = 2\n",
    "b = 4.5\n",
    "c = a + b\n",
    "d = 1.0\n",
    "\n",
    "print( type (a))\n",
    "# print(c)\n",
    "# print( a + b )\n",
    "# print(type (c))"
   ]
  },
  {
   "attachments": {},
   "cell_type": "markdown",
   "metadata": {},
   "source": [
    "Declaramos las variables ‘a’ y ‘b’ luego le asignamos los valores de 3 y 4.5, finalmente sumamos ambas variables imprimimos el valor."
   ]
  },
  {
   "cell_type": "code",
   "execution_count": 5,
   "metadata": {},
   "outputs": [
    {
     "name": "stdout",
     "output_type": "stream",
     "text": [
      "7.5\n",
      "<class 'float'>\n"
     ]
    }
   ],
   "source": [
    "a = 3\n",
    "b = 4.5\n",
    "c = a + b\n",
    "print(c)\n",
    "print(type (c))"
   ]
  },
  {
   "attachments": {},
   "cell_type": "markdown",
   "metadata": {},
   "source": [
    "Variable Booleana o bool (bool)"
   ]
  },
  {
   "cell_type": "code",
   "execution_count": 6,
   "metadata": {},
   "outputs": [
    {
     "name": "stdout",
     "output_type": "stream",
     "text": [
      "False\n"
     ]
    }
   ],
   "source": [
    "# print (1 == 1)\n",
    "# print( 2 == 1)\n",
    "# print(type ('a' == 'b'))\n",
    "print('a' == 'b')"
   ]
  },
  {
   "cell_type": "code",
   "execution_count": 7,
   "metadata": {},
   "outputs": [
    {
     "name": "stdout",
     "output_type": "stream",
     "text": [
      "<class 'bool'>\n",
      "True\n"
     ]
    }
   ],
   "source": [
    "a = 1\n",
    "b = 1\n",
    "print(type (a == b))\n",
    "print (a == b)"
   ]
  },
  {
   "cell_type": "code",
   "execution_count": 8,
   "metadata": {},
   "outputs": [
    {
     "name": "stdout",
     "output_type": "stream",
     "text": [
      "False\n",
      "True\n",
      "False\n",
      "True\n",
      "True\n"
     ]
    }
   ],
   "source": [
    "a = 5\n",
    "b = 10\n",
    "print(a == b)       # False\n",
    "print(a != b)       # True\n",
    "print(a > b)        # False\n",
    "print(a < b)        # True\n",
    "print(a <= b)       # True"
   ]
  },
  {
   "cell_type": "code",
   "execution_count": 9,
   "metadata": {},
   "outputs": [
    {
     "name": "stdout",
     "output_type": "stream",
     "text": [
      "1\n",
      "0\n",
      "2\n"
     ]
    }
   ],
   "source": [
    "a = int (True)      # 1\n",
    "b = int (False)     # 0\n",
    "\n",
    "print(a)\n",
    "print(b)\n",
    "print(True + True)"
   ]
  },
  {
   "attachments": {},
   "cell_type": "markdown",
   "metadata": {},
   "source": [
    "Las cadenas en Python o strings son un tipo inmutable que permite almacenar secuencias de caracteres"
   ]
  },
  {
   "cell_type": "code",
   "execution_count": 10,
   "metadata": {},
   "outputs": [
    {
     "name": "stdout",
     "output_type": "stream",
     "text": [
      "b\n",
      "<class 'str'>\n"
     ]
    }
   ],
   "source": [
    "alfabeto = 'abcdefghijklmnñopqrstuvwxyz123456789'\n",
    "cadena = \"Luis Maldonado\"\n",
    "# print(cadena)\n",
    "# alfabeto[0]\n",
    "print(alfabeto[1])\n",
    "print(type (alfabeto))"
   ]
  },
  {
   "cell_type": "code",
   "execution_count": 11,
   "metadata": {},
   "outputs": [
    {
     "name": "stdout",
     "output_type": "stream",
     "text": [
      "<class 'str'>\n",
      "<class 'str'>\n"
     ]
    }
   ],
   "source": [
    "a = 'CEINT PERU'\n",
    "print(type (a))\n",
    "print(type ('CEINT PERU'))"
   ]
  },
  {
   "attachments": {},
   "cell_type": "markdown",
   "metadata": {},
   "source": [
    "salto de línea"
   ]
  },
  {
   "cell_type": "code",
   "execution_count": 12,
   "metadata": {},
   "outputs": [
    {
     "name": "stdout",
     "output_type": "stream",
     "text": [
      "Hola Mundo\n"
     ]
    }
   ],
   "source": [
    "print('Hola Mundo')"
   ]
  },
  {
   "cell_type": "code",
   "execution_count": 13,
   "metadata": {},
   "outputs": [
    {
     "name": "stdout",
     "output_type": "stream",
     "text": [
      "Hola\n",
      "Mundo\n"
     ]
    }
   ],
   "source": [
    "print('Hola\\nMundo')"
   ]
  },
  {
   "cell_type": "code",
   "execution_count": 14,
   "metadata": {},
   "outputs": [
    {
     "name": "stdout",
     "output_type": "stream",
     "text": [
      "Hola\n",
      "Mundo\n",
      "estoy usando\n",
      "el lenguaje de programacion \n",
      "Python\n"
     ]
    }
   ],
   "source": [
    "print('Hola\\nMundo\\nestoy usando\\nel lenguaje de programacion \\nPython')"
   ]
  },
  {
   "attachments": {},
   "cell_type": "markdown",
   "metadata": {},
   "source": [
    "En caso de que queramos imprimir varias líneas podemos usar las comillas triples."
   ]
  },
  {
   "cell_type": "code",
   "execution_count": 15,
   "metadata": {},
   "outputs": [
    {
     "name": "stdout",
     "output_type": "stream",
     "text": [
      "CURSO\n",
      "DE\n",
      "AUTOMATIZACION\n",
      "CON PYTHON\n",
      "CSI\n",
      "ETABS\n"
     ]
    }
   ],
   "source": [
    "print(\"\"\"CURSO\n",
    "DE\n",
    "AUTOMATIZACION\n",
    "CON PYTHON\n",
    "CSI\n",
    "ETABS\"\"\")"
   ]
  },
  {
   "cell_type": "code",
   "execution_count": 16,
   "metadata": {},
   "outputs": [
    {
     "name": "stdout",
     "output_type": "stream",
     "text": [
      "Curso\n",
      "de\n",
      "eAutomatizacion\n",
      "con Python \n",
      "CSI\n",
      "ETABS\n"
     ]
    }
   ],
   "source": [
    "print('Curso\\nde\\neAutomatizacion\\ncon Python \\nCSI\\nETABS')"
   ]
  },
  {
   "cell_type": "code",
   "execution_count": 17,
   "metadata": {},
   "outputs": [],
   "source": [
    "nombre = 'Luis'\n",
    "apellido = 'Maldonado'\n",
    "años = 30\n",
    "pais = 'Peru'\n",
    "universidad = 'UNI'\n",
    "celular = \"999999999\""
   ]
  },
  {
   "cell_type": "code",
   "execution_count": 18,
   "metadata": {},
   "outputs": [
    {
     "name": "stdout",
     "output_type": "stream",
     "text": [
      "\n",
      "NOMBRE: Luis\n",
      "AÑOS: 30\n",
      "PAIS: Peru\n",
      "UNIVERSIDAD: UNI\n",
      "CELULAR: 999999999\n",
      "\n"
     ]
    }
   ],
   "source": [
    "print(f\"\"\"\n",
    "NOMBRE: {nombre}\n",
    "AÑOS: {años}\n",
    "PAIS: {pais}\n",
    "UNIVERSIDAD: {universidad}\n",
    "CELULAR: {celular}\n",
    "\"\"\")"
   ]
  },
  {
   "cell_type": "code",
   "execution_count": 19,
   "metadata": {},
   "outputs": [
    {
     "name": "stdout",
     "output_type": "stream",
     "text": [
      "NOMBRE: Luis\n",
      "AÑOS: 30\n",
      "PAIS: Peru\n",
      "UNIVERSIDAD: UNI\n",
      "CELULAR: 999999999\n"
     ]
    }
   ],
   "source": [
    "print(f\"\"\"NOMBRE: {nombre}\\nAÑOS: {años}\\nPAIS: {pais}\\nUNIVERSIDAD: {universidad}\\nCELULAR: {celular}\"\"\")"
   ]
  },
  {
   "attachments": {},
   "cell_type": "markdown",
   "metadata": {},
   "source": [
    "operaciones con Strings"
   ]
  },
  {
   "cell_type": "code",
   "execution_count": 20,
   "metadata": {},
   "outputs": [
    {
     "name": "stdout",
     "output_type": "stream",
     "text": [
      "<class 'int'>\n",
      "500\n"
     ]
    }
   ],
   "source": [
    "a = 5\n",
    "print(type (a))\n",
    "print(100*a)"
   ]
  },
  {
   "cell_type": "code",
   "execution_count": 21,
   "metadata": {},
   "outputs": [
    {
     "name": "stdout",
     "output_type": "stream",
     "text": [
      "<class 'float'>\n",
      "500.0\n"
     ]
    }
   ],
   "source": [
    "a = 5.0\n",
    "print(type (a))\n",
    "print(100*a)"
   ]
  },
  {
   "cell_type": "code",
   "execution_count": 22,
   "metadata": {},
   "outputs": [
    {
     "name": "stdout",
     "output_type": "stream",
     "text": [
      "<class 'str'>\n",
      "5555555555555555555555555555555555555555555555555555555555555555555555555555555555555555555555555555\n"
     ]
    }
   ],
   "source": [
    "a = \"5\"\n",
    "print(type (a))\n",
    "print(100*a)"
   ]
  },
  {
   "cell_type": "code",
   "execution_count": 23,
   "metadata": {},
   "outputs": [
    {
     "name": "stdout",
     "output_type": "stream",
     "text": [
      "Debo hacer mis trabajos con tiempo\n",
      "Debo hacer mis trabajos con tiempo\n",
      "Debo hacer mis trabajos con tiempo\n",
      "Debo hacer mis trabajos con tiempo\n",
      "Debo hacer mis trabajos con tiempo\n",
      "\n"
     ]
    }
   ],
   "source": [
    "print('Debo hacer mis trabajos con tiempo\\n'*5)"
   ]
  },
  {
   "attachments": {},
   "cell_type": "markdown",
   "metadata": {},
   "source": [
    "Definir una entrada por usuario"
   ]
  },
  {
   "cell_type": "code",
   "execution_count": 24,
   "metadata": {},
   "outputs": [
    {
     "name": "stdout",
     "output_type": "stream",
     "text": [
      "Hola 50\n"
     ]
    }
   ],
   "source": [
    "nombre = input('¿Cuál es tu edad? ')\n",
    "# print(type (nombre))\n",
    "# print('Hola ' + nombre)\n",
    "# print('Hola {0}'.format(nombre))\n",
    "print(f\"Hola {nombre}\")"
   ]
  },
  {
   "cell_type": "code",
   "execution_count": 25,
   "metadata": {},
   "outputs": [
    {
     "name": "stdout",
     "output_type": "stream",
     "text": [
      "Tu nombre es luis y tu edad es 50\n"
     ]
    }
   ],
   "source": [
    "nombre = input('¿Cuál es tu nombre? ')          # string\n",
    "edad = int(input('¿Que edad tienes? '))       # float\n",
    "\n",
    "# print('Tu nombre es '+ nombre +' y tu edad es ' + str(edad))\n",
    "# print ('Tu nombre es {0} y tu edad es {1}'.format(nombre, edad))\n",
    "print(f\"Tu nombre es {nombre} y tu edad es {edad}\")"
   ]
  },
  {
   "attachments": {},
   "cell_type": "markdown",
   "metadata": {},
   "source": [
    "## listas\n",
    "\n",
    "Las listas son tipos compuestos (pueden contener más de un valor), se definen separando los valores con comas, encerrados entre corchetes. En general las listas pueden contener diferentes tipos, y pueden no ser todos iguales, tales como: números, cadenas, booleanos, ...y tambien listas. Sin embargo, suelen utilizarse con ítems del mismo tipo para mantener un orden y por buenas prácticas de codificación.\n",
    "\n",
    "- Los elementos no son necesariamente homogéneos en tipo\n",
    "- Elementos ordenados\n",
    "- Acceso mediante un índice\n",
    "- Están definidas operaciones entre Listas, así como algunos métodos:\n",
    "    - ```x in L ```         (¿x es un elemento de L?)\n",
    "    - ```x not in L```      (¿x no es un elemento de L?)\n",
    "    - ```L1 + L2```         (concatenar L1 y L2)\n",
    "    - ```n*L1```            (n veces L1)\n",
    "    - ```L1*n```            (n veces L1)\n",
    "    - ```L[i]```            (Elemento i-ésimo)\n",
    "    - ```L[i:j]```          (Elementos i a j)\n",
    "    - ```L[i:j:k]```        (Elementos i a j, elegidos uno de cada k)\n",
    "    - ```len(L)```          (longitud de L)\n",
    "    - ```min(L)```          (Mínimo de L)\n",
    "    - ```max(L)```          (Máximo de L)\n",
    "    - ```L.index(x)```      (Índice de x, iniciando en i)\n",
    "    - ```L.count(x)```      (Número de veces que aparece x en L)\n",
    "    - ```L.append(x)```     (Agrega el elemento x al final)"
   ]
  },
  {
   "cell_type": "code",
   "execution_count": 26,
   "metadata": {},
   "outputs": [],
   "source": [
    "Numeros_primos=[2,3,5,7,11]"
   ]
  },
  {
   "cell_type": "code",
   "execution_count": 27,
   "metadata": {},
   "outputs": [
    {
     "name": "stdout",
     "output_type": "stream",
     "text": [
      "<class 'list'>\n"
     ]
    }
   ],
   "source": [
    "print(type(Numeros_primos))"
   ]
  },
  {
   "cell_type": "code",
   "execution_count": 28,
   "metadata": {},
   "outputs": [
    {
     "data": {
      "text/plain": [
       "True"
      ]
     },
     "execution_count": 28,
     "metadata": {},
     "output_type": "execute_result"
    }
   ],
   "source": [
    "2 in Numeros_primos"
   ]
  },
  {
   "cell_type": "code",
   "execution_count": 29,
   "metadata": {},
   "outputs": [
    {
     "name": "stdout",
     "output_type": "stream",
     "text": [
      "[2, 3, 5, 7, 11]\n"
     ]
    },
    {
     "data": {
      "text/plain": [
       "[2, 3, 5, 7, 11, 2, 3, 5, 7, 11]"
      ]
     },
     "execution_count": 29,
     "metadata": {},
     "output_type": "execute_result"
    }
   ],
   "source": [
    "print(Numeros_primos)\n",
    "2*Numeros_primos"
   ]
  },
  {
   "cell_type": "code",
   "execution_count": 30,
   "metadata": {},
   "outputs": [
    {
     "name": "stdout",
     "output_type": "stream",
     "text": [
      "[2, 3, 5, 7, 11]\n"
     ]
    }
   ],
   "source": [
    "print(Numeros_primos)"
   ]
  },
  {
   "cell_type": "code",
   "execution_count": 31,
   "metadata": {},
   "outputs": [
    {
     "data": {
      "text/plain": [
       "5"
      ]
     },
     "execution_count": 31,
     "metadata": {},
     "output_type": "execute_result"
    }
   ],
   "source": [
    "Numeros_primos[2]"
   ]
  },
  {
   "cell_type": "code",
   "execution_count": 32,
   "metadata": {},
   "outputs": [
    {
     "name": "stdout",
     "output_type": "stream",
     "text": [
      "71\n",
      "67\n",
      "61\n"
     ]
    }
   ],
   "source": [
    "Numeros_primos=[2,3,5,7,11,13,17,19,23,29,31,37,41,43,47,53,59,61,67,71]\n",
    "print(Numeros_primos[-1])\n",
    "print(Numeros_primos[-2])\n",
    "print(Numeros_primos[-3])"
   ]
  },
  {
   "cell_type": "code",
   "execution_count": 33,
   "metadata": {},
   "outputs": [
    {
     "name": "stdout",
     "output_type": "stream",
     "text": [
      "11\n"
     ]
    }
   ],
   "source": [
    "print(Numeros_primos[4])"
   ]
  },
  {
   "cell_type": "code",
   "execution_count": 34,
   "metadata": {},
   "outputs": [
    {
     "name": "stdout",
     "output_type": "stream",
     "text": [
      "[2, 3, 5, 7, 11, 13, 17, 19, 23, 29, 31, 37, 41, 43, 47, 53, 59, 61, 67, 71]\n"
     ]
    },
    {
     "data": {
      "text/plain": [
       "[2, 3, 5, 7, 11, 13, 17, 19, 23, 29]"
      ]
     },
     "execution_count": 34,
     "metadata": {},
     "output_type": "execute_result"
    }
   ],
   "source": [
    "print(Numeros_primos)\n",
    "Numeros_primos[0:10]"
   ]
  },
  {
   "cell_type": "code",
   "execution_count": 35,
   "metadata": {},
   "outputs": [
    {
     "data": {
      "text/plain": [
       "[7, 17, 29]"
      ]
     },
     "execution_count": 35,
     "metadata": {},
     "output_type": "execute_result"
    }
   ],
   "source": [
    "Numeros_primos[3:11:3]"
   ]
  },
  {
   "cell_type": "code",
   "execution_count": 36,
   "metadata": {},
   "outputs": [
    {
     "name": "stdout",
     "output_type": "stream",
     "text": [
      "[2, 3, 5, 7, 11, 13, 17, 19, 23, 29, 31, 37, 41, 43, 47, 53, 59, 61, 67, 71]\n"
     ]
    },
    {
     "data": {
      "text/plain": [
       "20"
      ]
     },
     "execution_count": 36,
     "metadata": {},
     "output_type": "execute_result"
    }
   ],
   "source": [
    "print(Numeros_primos)\n",
    "len(Numeros_primos)"
   ]
  },
  {
   "cell_type": "code",
   "execution_count": 37,
   "metadata": {},
   "outputs": [
    {
     "name": "stdout",
     "output_type": "stream",
     "text": [
      "[ 340   71  949   19 1389  100 1334  418  827  956  228  824  500  977\n",
      "  494 1376  699 1072  233  279 1286  143  118 1471  266 1239  928  159\n",
      " 1125  899  460  824  693  562  448 1414 1008  580  422  738 1444  232\n",
      "  271 1171   74   73 1073  280  488 1381  664  380  640  731  916 1329\n",
      "  894 1070 1172  852 1256  674 1289  721  660 1376  516  880  622 1154\n",
      " 1196  145  279  355 1357 1140  277   97  638  655   89  588  476  775\n",
      "  604  558  801  603  766  146]\n"
     ]
    },
    {
     "data": {
      "text/plain": [
       "(19, 1471)"
      ]
     },
     "execution_count": 37,
     "metadata": {},
     "output_type": "execute_result"
    }
   ],
   "source": [
    "# print(Numeros_primos)\n",
    "import numpy as np\n",
    "numeros_aleatorios = np.random.randint(15,1500,90)\n",
    "print(numeros_aleatorios)\n",
    "min(numeros_aleatorios),max(numeros_aleatorios)"
   ]
  },
  {
   "cell_type": "code",
   "execution_count": 38,
   "metadata": {},
   "outputs": [
    {
     "name": "stdout",
     "output_type": "stream",
     "text": [
      "[2, 3, 5, 7, 11, 13, 17, 19, 23, 29, 31, 37, 41, 43, 47, 53, 59, 61, 67, 71]\n"
     ]
    },
    {
     "data": {
      "text/plain": [
       "14"
      ]
     },
     "execution_count": 38,
     "metadata": {},
     "output_type": "execute_result"
    }
   ],
   "source": [
    "print(Numeros_primos)\n",
    "Numeros_primos.index(47)"
   ]
  },
  {
   "attachments": {},
   "cell_type": "markdown",
   "metadata": {},
   "source": [
    "Operaciones con Listas:\n",
    "\n",
    "Veamos algunas operaciones que se pueden realizar sobre listas.\n",
    "Por ejemplo, se puede fácilmente:\n",
    "\n",
    "- concatenar dos listas\n",
    "- buscar un valor dado\n",
    "- agregar elementos\n",
    "- borrar elementos\n",
    "- calcular su longitud\n",
    "- invertirla"
   ]
  },
  {
   "cell_type": "code",
   "execution_count": 39,
   "metadata": {},
   "outputs": [
    {
     "name": "stdout",
     "output_type": "stream",
     "text": [
      "[1, 2, 3, 4, 5, 6, 6, 7, 8, 9, 10]\n"
     ]
    }
   ],
   "source": [
    "L1=[1,2,3,4,5,6]\n",
    "L2=[6,7,8,9,10]\n",
    "\n",
    "L3=L1+L2\n",
    "print(L3)"
   ]
  },
  {
   "cell_type": "code",
   "execution_count": 40,
   "metadata": {},
   "outputs": [
    {
     "data": {
      "text/plain": [
       "[1, 2, 3, 4, 5, 6, 1, 2, 3, 4, 5, 6]"
      ]
     },
     "execution_count": 40,
     "metadata": {},
     "output_type": "execute_result"
    }
   ],
   "source": [
    "2*L1"
   ]
  },
  {
   "cell_type": "code",
   "execution_count": 41,
   "metadata": {},
   "outputs": [
    {
     "data": {
      "text/plain": [
       "[1, 2, 3, 4, 5, 6, 1, 2, 3, 4, 5, 6]"
      ]
     },
     "execution_count": 41,
     "metadata": {},
     "output_type": "execute_result"
    }
   ],
   "source": [
    "L1+L1"
   ]
  },
  {
   "cell_type": "code",
   "execution_count": 42,
   "metadata": {},
   "outputs": [
    {
     "data": {
      "text/plain": [
       "True"
      ]
     },
     "execution_count": 42,
     "metadata": {},
     "output_type": "execute_result"
    }
   ],
   "source": [
    "2*L1 == L1+L1"
   ]
  },
  {
   "cell_type": "code",
   "execution_count": 43,
   "metadata": {},
   "outputs": [
    {
     "data": {
      "text/plain": [
       "True"
      ]
     },
     "execution_count": 43,
     "metadata": {},
     "output_type": "execute_result"
    }
   ],
   "source": [
    "L2[0] in L1"
   ]
  },
  {
   "attachments": {},
   "cell_type": "markdown",
   "metadata": {},
   "source": [
    "Creamos una lista vacia e iremos añadiendole elementos al final con el método append()"
   ]
  },
  {
   "cell_type": "code",
   "execution_count": 44,
   "metadata": {},
   "outputs": [
    {
     "name": "stdout",
     "output_type": "stream",
     "text": [
      "[]\n",
      "[2]\n",
      "[2, 4]\n",
      "[2, 4, [2, 1]]\n",
      "[2, 4, [2, 1], ['Luis', 'Maldonado']]\n"
     ]
    }
   ],
   "source": [
    "L3=[]\n",
    "print(L3)\n",
    "L3.append(2)\n",
    "print(L3)\n",
    "L3.append(4)\n",
    "print(L3)\n",
    "L3.append([2,1])\n",
    "print(L3)\n",
    "L3.append([\"Luis\",\"Maldonado\"])\n",
    "print(L3)"
   ]
  },
  {
   "cell_type": "code",
   "execution_count": 45,
   "metadata": {},
   "outputs": [
    {
     "data": {
      "text/plain": [
       "[2, 4, [2, 1], ['Luis', 'Maldonado'], [1, 2, 3, 4, 5, 6]]"
      ]
     },
     "execution_count": 45,
     "metadata": {},
     "output_type": "execute_result"
    }
   ],
   "source": [
    "L3.append(L1)\n",
    "L3"
   ]
  },
  {
   "cell_type": "code",
   "execution_count": 46,
   "metadata": {},
   "outputs": [
    {
     "data": {
      "text/plain": [
       "2"
      ]
     },
     "execution_count": 46,
     "metadata": {},
     "output_type": "execute_result"
    }
   ],
   "source": [
    "L3[0]"
   ]
  },
  {
   "attachments": {},
   "cell_type": "markdown",
   "metadata": {},
   "source": [
    "Para añadir un elemento en una posición específica debemos usar el método insert()"
   ]
  },
  {
   "cell_type": "code",
   "execution_count": 47,
   "metadata": {},
   "outputs": [
    {
     "data": {
      "text/plain": [
       "[11, 2, 4, [2, 1], ['Luis', 'Maldonado'], [1, 2, 3, 4, 5, 6]]"
      ]
     },
     "execution_count": 47,
     "metadata": {},
     "output_type": "execute_result"
    }
   ],
   "source": [
    "L3.insert(0,11)\n",
    "L3"
   ]
  },
  {
   "cell_type": "code",
   "execution_count": 48,
   "metadata": {},
   "outputs": [
    {
     "data": {
      "text/plain": [
       "[11, 2, 45, 4, [2, 1], ['Luis', 'Maldonado'], [1, 2, 3, 4, 5, 6]]"
      ]
     },
     "execution_count": 48,
     "metadata": {},
     "output_type": "execute_result"
    }
   ],
   "source": [
    "L3.insert(2,45)\n",
    "L3"
   ]
  },
  {
   "cell_type": "code",
   "execution_count": 49,
   "metadata": {},
   "outputs": [
    {
     "data": {
      "text/plain": [
       "[11,\n",
       " 2,\n",
       " [6, 7, 8, 9, 10],\n",
       " 45,\n",
       " 4,\n",
       " [2, 1],\n",
       " ['Luis', 'Maldonado'],\n",
       " [1, 2, 3, 4, 5, 6]]"
      ]
     },
     "execution_count": 49,
     "metadata": {},
     "output_type": "execute_result"
    }
   ],
   "source": [
    "L3.insert(2,L2)\n",
    "L3"
   ]
  },
  {
   "attachments": {},
   "cell_type": "markdown",
   "metadata": {},
   "source": [
    "En las listas se pueden cambiar el valor de 1 o más de sus elementos"
   ]
  },
  {
   "cell_type": "code",
   "execution_count": 50,
   "metadata": {},
   "outputs": [
    {
     "name": "stdout",
     "output_type": "stream",
     "text": [
      "[11, 2, [6, 7, 8, 9, 10], 45, 4, [2, 1], ['Luis', 'Maldonado'], [1, 2, 3, 4, 5, 6]]\n"
     ]
    }
   ],
   "source": [
    "print(L3)"
   ]
  },
  {
   "cell_type": "code",
   "execution_count": 51,
   "metadata": {},
   "outputs": [
    {
     "data": {
      "text/plain": [
       "[1,\n",
       " 2,\n",
       " [6, 7, 8, 9, 10],\n",
       " 45,\n",
       " 4,\n",
       " [2, 1],\n",
       " ['Luis', 'Maldonado'],\n",
       " [1, 2, 3, 4, 5, 6]]"
      ]
     },
     "execution_count": 51,
     "metadata": {},
     "output_type": "execute_result"
    }
   ],
   "source": [
    "L3[0]= 1\n",
    "L3"
   ]
  },
  {
   "cell_type": "code",
   "execution_count": 52,
   "metadata": {},
   "outputs": [
    {
     "data": {
      "text/plain": [
       "[1, 2, [2, 5], 45, 4, [2, 1], ['Luis', 'Maldonado'], [1, 2, 3, 4, 5, 6]]"
      ]
     },
     "execution_count": 52,
     "metadata": {},
     "output_type": "execute_result"
    }
   ],
   "source": [
    "L3[2] = [2,5]\n",
    "L3"
   ]
  },
  {
   "cell_type": "code",
   "execution_count": 53,
   "metadata": {},
   "outputs": [
    {
     "data": {
      "text/plain": [
       "[3, 4, 5, [2, 5], 45, 4, [2, 1], ['Luis', 'Maldonado'], [1, 2, 3, 4, 5, 6]]"
      ]
     },
     "execution_count": 53,
     "metadata": {},
     "output_type": "execute_result"
    }
   ],
   "source": [
    "L3[0:2]=[3,4,5]\n",
    "L3"
   ]
  },
  {
   "cell_type": "code",
   "execution_count": 54,
   "metadata": {},
   "outputs": [
    {
     "data": {
      "text/plain": [
       "[3, 4, 5, [2, 5], 45, 3, [2, 1], ['Luis', 'Maldonado'], [1, 2, 3, 4, 5, 6]]"
      ]
     },
     "execution_count": 54,
     "metadata": {},
     "output_type": "execute_result"
    }
   ],
   "source": [
    "L3[5] = 3\n",
    "L3"
   ]
  },
  {
   "attachments": {},
   "cell_type": "markdown",
   "metadata": {},
   "source": [
    "Para eliminar un elemento de la lista, usamos el método remove()"
   ]
  },
  {
   "cell_type": "code",
   "execution_count": 55,
   "metadata": {},
   "outputs": [
    {
     "data": {
      "text/plain": [
       "[4, 5, [2, 5], 45, 3, [2, 1], ['Luis', 'Maldonado'], [1, 2, 3, 4, 5, 6]]"
      ]
     },
     "execution_count": 55,
     "metadata": {},
     "output_type": "execute_result"
    }
   ],
   "source": [
    "L3.remove(3)\n",
    "L3"
   ]
  },
  {
   "attachments": {},
   "cell_type": "markdown",
   "metadata": {},
   "source": [
    "Para revertir el orden de los elementos, usamos el método reverse()"
   ]
  },
  {
   "cell_type": "code",
   "execution_count": 56,
   "metadata": {},
   "outputs": [
    {
     "data": {
      "text/plain": [
       "[[1, 2, 3, 4, 5, 6], ['Luis', 'Maldonado'], [2, 1], 3, 45, [2, 5], 5, 4]"
      ]
     },
     "execution_count": 56,
     "metadata": {},
     "output_type": "execute_result"
    }
   ],
   "source": [
    "L3.reverse()\n",
    "L3"
   ]
  },
  {
   "attachments": {},
   "cell_type": "markdown",
   "metadata": {},
   "source": [
    "# Estructuras de Control de Flujos"
   ]
  },
  {
   "attachments": {},
   "cell_type": "markdown",
   "metadata": {},
   "source": [
    "*Uso del if*\n",
    "\n",
    "Un ejemplo sería si tenemos dos valores a y b que queremos dividir. Antes de entrar en el bloque de código que divide a/b, sería importante verificar que b es distinto de cero, ya que la división por cero no está definida. Es aquí donde entran los condicionales if."
   ]
  },
  {
   "cell_type": "code",
   "execution_count": 95,
   "metadata": {},
   "outputs": [],
   "source": [
    "a = 50\n",
    "b = 0\n",
    "\n",
    "if b != 0:\n",
    "  print(a/b)"
   ]
  },
  {
   "cell_type": "code",
   "execution_count": 96,
   "metadata": {},
   "outputs": [
    {
     "name": "stdout",
     "output_type": "stream",
     "text": [
      "Hola Mundo\n"
     ]
    }
   ],
   "source": [
    "if True: print(\"Hola Mundo\")"
   ]
  },
  {
   "cell_type": "code",
   "execution_count": 97,
   "metadata": {},
   "outputs": [],
   "source": [
    "if 10 <= 5:\n",
    "    print(\"10 es mayor que 5\")\n",
    "    print(\"El programa terminó\")"
   ]
  },
  {
   "cell_type": "code",
   "execution_count": 98,
   "metadata": {},
   "outputs": [
    {
     "name": "stdout",
     "output_type": "stream",
     "text": [
      "7 es diferente de 6\n",
      "El programa terminó\n"
     ]
    }
   ],
   "source": [
    "if 7 != 6:\n",
    "    print(\"7 es diferente de 6\")\n",
    "    print(\"El programa terminó\")"
   ]
  },
  {
   "attachments": {},
   "cell_type": "markdown",
   "metadata": {},
   "source": [
    "else y elif\n",
    "\n",
    "Es posible que no solo queramos hacer algo si una determinada condición se cumple, sino que además queramos hacer algo de lo contrario. Es aquí donde entra la cláusula else. La parte del if se comporta de la manera que ya hemos explicado, con la diferencia que si esa condición no se cumple, se ejecutará el código presente dentro del else. Nótese que ambos bloque de código son excluyentes, se entra o en uno o en otro, pero nunca se ejecutarán los dos."
   ]
  },
  {
   "cell_type": "code",
   "execution_count": 102,
   "metadata": {},
   "outputs": [
    {
     "name": "stdout",
     "output_type": "stream",
     "text": [
      "Se ejecuta el else\n",
      "x es diferente de 5\n",
      "10 es diferente de 5\n",
      "El programa termino\n"
     ]
    }
   ],
   "source": [
    "x = 10\n",
    "\n",
    "if x == 5:\n",
    "  print(\"Se ejecuta el if\")\n",
    "  print('x es igual a 5')\n",
    "  print('{0} es igual a 5'.format(x))\n",
    "  print('El programa termino')\n",
    "\n",
    "else:\n",
    "  print(\"Se ejecuta el else\")\n",
    "  print('x es diferente de 5')\n",
    "  print('{0} es diferente de 5'.format(x))\n",
    "  print('El programa termino')"
   ]
  },
  {
   "cell_type": "code",
   "execution_count": 106,
   "metadata": {},
   "outputs": [
    {
     "name": "stdout",
     "output_type": "stream",
     "text": [
      "a es mayor a 3 y menor a 5\n"
     ]
    }
   ],
   "source": [
    "a = 4\n",
    "\n",
    "if type (a) == int : \n",
    "\n",
    "  if a > 3 and a < 5:   # True and False = False\n",
    "      print('a es mayor a 3 y menor a 5')\n",
    "  else:\n",
    "      print('a no está en el rango de 3 a 5')\n",
    "\n",
    "else:\n",
    "  print(\"a no es un valor entero\")"
   ]
  },
  {
   "cell_type": "code",
   "execution_count": 110,
   "metadata": {},
   "outputs": [
    {
     "name": "stdout",
     "output_type": "stream",
     "text": [
      "-15 es mayor a 3 o es menor a cero\n"
     ]
    }
   ],
   "source": [
    "a = -15\n",
    "\n",
    "if a > 3 or a < 0: # True or False = True\n",
    "  print(f'{a} es mayor a 3 o es menor a cero')\n",
    "\n",
    "else:\n",
    "  print(\"No se cumple la condición\")"
   ]
  },
  {
   "attachments": {},
   "cell_type": "markdown",
   "metadata": {},
   "source": [
    "Con la cláusula elif podemos ejecutar tantos bloques de código distintos como queramos según la condición. Traducido al lenguaje natural, sería algo así como decir: si es igual a 5 haz esto, si es igual a 6 haz lo otro, si es igual a 7 haz lo otro.\n",
    "\n",
    "Se puede usar también de manera conjunta todo, el if con el elif y un else al final. Es muy importante notar que if y else solamente puede haber uno, mientras que elif puede haber varios."
   ]
  },
  {
   "cell_type": "code",
   "execution_count": 113,
   "metadata": {},
   "outputs": [
    {
     "name": "stdout",
     "output_type": "stream",
     "text": [
      "Numero no es igual a 3, 4, 5 o 6\n"
     ]
    }
   ],
   "source": [
    "num = 10\n",
    "\n",
    "if num == 3:\n",
    "    print('Tres')\n",
    "elif num == 4:\n",
    "    print('Cuatro')\n",
    "elif num == 5:\n",
    "    print('Cinco')\n",
    "elif num == 6:\n",
    "    print('Seis')\n",
    "else:\n",
    "    print('Numero no es igual a 3, 4, 5 o 6')"
   ]
  },
  {
   "attachments": {},
   "cell_type": "markdown",
   "metadata": {},
   "source": [
    "## Uso de bucles for\n",
    "\n",
    "El for es un tipo de bucle, parecido al while pero con ciertas diferencias. La principal diferencia es que el número de iteraciones de un for esta definido de antemano, mientras que en un while no. La diferencia principal con respecto al while es en la condición. Mientras que en el while la condición era evaluada en cada iteración para decidir si volver a ejecutar o no el código, en el for no existe tal condición, sino un iterable que define las veces que se ejecutará el código. En el siguiente ejemplo vemos un bucle for que se ejecuta 5 veces, y donde la i incrementa su valor “automáticamente” en 1 en cada iteración."
   ]
  },
  {
   "cell_type": "code",
   "execution_count": 119,
   "metadata": {},
   "outputs": [
    {
     "name": "stdout",
     "output_type": "stream",
     "text": [
      "[0, 1, 2, 3, 4]\n"
     ]
    }
   ],
   "source": [
    "print(list(range(5)))"
   ]
  },
  {
   "cell_type": "code",
   "execution_count": 118,
   "metadata": {},
   "outputs": [
    {
     "name": "stdout",
     "output_type": "stream",
     "text": [
      "0\n",
      "1\n",
      "2\n",
      "3\n",
      "4\n"
     ]
    }
   ],
   "source": [
    "for i in range(5):\n",
    "    print(i)"
   ]
  },
  {
   "cell_type": "code",
   "execution_count": 131,
   "metadata": {},
   "outputs": [
    {
     "name": "stdout",
     "output_type": "stream",
     "text": [
      "[5, 6, 7, 8, 9, 10]\n"
     ]
    }
   ],
   "source": [
    "print(list(range(5, 11)))"
   ]
  },
  {
   "cell_type": "code",
   "execution_count": 132,
   "metadata": {},
   "outputs": [
    {
     "name": "stdout",
     "output_type": "stream",
     "text": [
      "5\n",
      "el codigo se ejecuto #1\n",
      "6\n",
      "el codigo se ejecuto #2\n",
      "7\n",
      "el codigo se ejecuto #3\n",
      "8\n",
      "el codigo se ejecuto #4\n",
      "9\n",
      "el codigo se ejecuto #5\n",
      "10\n",
      "el codigo se ejecuto #6\n"
     ]
    }
   ],
   "source": [
    "contador = 1\n",
    "for i in range(5, 11):\n",
    "  print(i)\n",
    "  print(f\"el codigo se ejecuto #{contador}\")\n",
    "  contador +=  1"
   ]
  },
  {
   "cell_type": "code",
   "execution_count": 130,
   "metadata": {},
   "outputs": [
    {
     "name": "stdout",
     "output_type": "stream",
     "text": [
      "[5, 7, 9]\n"
     ]
    }
   ],
   "source": [
    "print(list(range(5, 11, 2)))"
   ]
  },
  {
   "cell_type": "markdown",
   "metadata": {},
   "source": [
    "En Python se puede iterar prácticamente todo, como por ejemplo una cadena. \n",
    "\n",
    "En el siguiente ejemplo vemos como la i va tomando los valores de cada letra."
   ]
  },
  {
   "cell_type": "code",
   "execution_count": 137,
   "metadata": {},
   "outputs": [
    {
     "name": "stdout",
     "output_type": "stream",
     "text": [
      "one\n",
      "two\n",
      "three\n"
     ]
    }
   ],
   "source": [
    "# for i in \"123456abcdefg\":\n",
    "#     print(i)\n",
    "# for i in [1, 2, 3]:\n",
    "#     print(i)\n",
    "# for i in (1, 5, 6):\n",
    "#     print(i)\n",
    "for key in {'one':1, 'two':2, 'three':3}:\n",
    "    print(key)\n",
    "\n"
   ]
  },
  {
   "attachments": {},
   "cell_type": "markdown",
   "metadata": {},
   "source": [
    "## Uso de bucles while y while not\n",
    "\n",
    "El uso del while nos permite ejecutar una sección de código repetidas veces, de ahí su nombre. El código se ejecutará mientras una condición determinada se cumpla. Cuando se deje de cumplir, se saldrá del bucle y se continuará la ejecución normal."
   ]
  },
  {
   "cell_type": "code",
   "execution_count": 138,
   "metadata": {},
   "outputs": [
    {
     "name": "stdout",
     "output_type": "stream",
     "text": [
      "0\n",
      "1\n",
      "2\n",
      "3\n",
      "4\n",
      "5\n",
      "6\n",
      "7\n",
      "8\n",
      "9\n",
      "10\n"
     ]
    }
   ],
   "source": [
    "i = 0\n",
    "while i <= 10:\n",
    "  print(i)\n",
    "  i += 1"
   ]
  },
  {
   "cell_type": "code",
   "execution_count": 140,
   "metadata": {},
   "outputs": [
    {
     "name": "stdout",
     "output_type": "stream",
     "text": [
      "['Dos', 'Tres']\n",
      "['Tres']\n",
      "[]\n"
     ]
    }
   ],
   "source": [
    "x = [\"Uno\", \"Dos\", \"Tres\"]\n",
    "while x:\n",
    "    x.pop(0)\n",
    "    print(x)"
   ]
  },
  {
   "cell_type": "code",
   "execution_count": 142,
   "metadata": {},
   "outputs": [
    {
     "name": "stdout",
     "output_type": "stream",
     "text": [
      "5\n",
      "4\n",
      "3\n",
      "2\n",
      "1\n"
     ]
    }
   ],
   "source": [
    "data = 5\n",
    "\n",
    "while not data == 0:\n",
    "  print (data)\n",
    "  data -= 1"
   ]
  },
  {
   "cell_type": "code",
   "execution_count": 143,
   "metadata": {},
   "outputs": [
    {
     "name": "stdout",
     "output_type": "stream",
     "text": [
      "[1, 2, 3, 4]\n",
      "[1, 2, 3, 4, 5]\n",
      "[1, 2, 3, 4, 5, 6]\n",
      "[1, 2, 3, 4, 5, 6, 7]\n"
     ]
    }
   ],
   "source": [
    "lista = [1, 2, 3]\n",
    "\n",
    "while 7 not in lista:\n",
    "   lista.append(len(lista) + 1)\n",
    "   print(lista)"
   ]
  },
  {
   "cell_type": "code",
   "execution_count": 146,
   "metadata": {},
   "outputs": [
    {
     "name": "stdout",
     "output_type": "stream",
     "text": [
      "2\n",
      "3\n",
      "4\n",
      "5\n",
      "6\n",
      "7\n",
      "8\n",
      "9\n",
      "10\n",
      "11\n",
      "12\n",
      "13\n",
      "14\n",
      "15\n",
      "16\n",
      "17\n",
      "18\n",
      "19\n",
      "20\n",
      "21\n",
      "22\n",
      "23\n",
      "24\n",
      "25\n",
      "26\n",
      "27\n",
      "28\n",
      "29\n",
      "30\n",
      "31\n",
      "32\n",
      "33\n",
      "34\n",
      "35\n",
      "36\n",
      "37\n",
      "38\n",
      "39\n",
      "40\n",
      "41\n",
      "42\n",
      "43\n",
      "44\n",
      "45\n",
      "46\n",
      "47\n",
      "48\n",
      "49\n",
      "50\n"
     ]
    }
   ],
   "source": [
    "i = 1\n",
    "\n",
    "while True:\n",
    "  i += 1\n",
    "  print(i)\n",
    "  if i == 50:\n",
    "    break"
   ]
  },
  {
   "attachments": {},
   "cell_type": "markdown",
   "metadata": {},
   "source": [
    "## FUNCIONES\n",
    "\n",
    "**Función.** Una función en Python es una pieza de código reutilizable que solo se ejecuta cuando es llamada. Se define usando la palabra reservada def y su estructura general es la siguiente:\n",
    "\n",
    "```python\n",
    "def nombre_funcion(input1, input2, ..., inputn):\n",
    "  cuerpo de la función\n",
    "  return output\n",
    "```\n",
    "\n",
    "**Observación 1.** La instrucción return finaliza la ejecución de la función y devuelve el resultado que se indica a continuación. Si no se indicase nada, la función finalizaría, pero no retornaría nada.\n",
    "\n",
    "Como hemos visto, en general, las funciones constan de 3 partes:\n",
    "\n",
    "- **Inputs (parámetros o argumentos).** Son los valores que le pasamos como entrada a la función.\n",
    "- **Cuerpo.** Son todas las operaciones que lleva a cabo la función.\n",
    "- **Output.** Es el resultado que devuelve la función.\n",
    "\n",
    "\n",
    "**Observación 2.** Los parámetros son variables internas de la función. Si probásemos a ejecutar una de dichas variables en el entorno global, nos saltaría un error. Este tema lo trataremos más en detalle más adelante.\n",
    "\n",
    "Con lo visto anteriormente, a la hora de construir una función hay que hacerse las siguientes preguntas:\n",
    "\n",
    "- ¿Qué datos necesita conocer la función? (inputs)\n",
    "- ¿Qué hace la función? (cuerpo)\n",
    "- ¿Qué devuelve? (output)\n",
    "\n",
    "\n",
    "**Observación 3.** Los inputs y el output son opcionales: podemos definir una función sin necesidad de proporcionarle inputs y sin que nos devuelva nada. Una vez definida una función, para llamarla utilizamos su nombre seguido de paréntesis:"
   ]
  },
  {
   "cell_type": "code",
   "execution_count": 151,
   "metadata": {},
   "outputs": [],
   "source": [
    "def mi_primera_funcion(nombre = \"Luis\", apellido = \"Maldonado\"):\n",
    "    print(\"Hola mundo, estoy creando mi primera funcion\")\n",
    "    print(f\"Mi nombre es {nombre} {apellido}\")"
   ]
  },
  {
   "cell_type": "code",
   "execution_count": 153,
   "metadata": {},
   "outputs": [
    {
     "name": "stdout",
     "output_type": "stream",
     "text": [
      "Hola mundo, estoy creando mi primera funcion\n",
      "Mi nombre es Jose Ramirez\n"
     ]
    }
   ],
   "source": [
    "nombre= \"Jose\"\n",
    "apellido = \"Ramirez\"\n",
    "mi_primera_funcion(nombre, apellido)"
   ]
  },
  {
   "attachments": {},
   "cell_type": "markdown",
   "metadata": {},
   "source": [
    "# DOCSTRING\n",
    "\n",
    "Son comentarios explicativos que ayudan a comprender el funcionamiento de una función.\n",
    "\n",
    "- Van entre triple comilla doble\n",
    "- Pueden ser multilínea\n",
    "- Se sitúan al principio de la definición de la función\n",
    "\n",
    "podríamos utilizar docstring del siguiente modo:"
   ]
  },
  {
   "cell_type": "code",
   "execution_count": 155,
   "metadata": {},
   "outputs": [],
   "source": [
    "def caida_libre(t, h0, v0, g=9.81):\n",
    "  \"\"\"Devuelve la velocidad y la posición de una partícula en\n",
    "  caída libre para condiciones iniciales dadas\n",
    "\n",
    "  Parámetros\n",
    "  ----------\n",
    "  t : float\n",
    "      el tiempo al que queremos realizar el cálculo\n",
    "  h0: float \n",
    "      la altura inicial\n",
    "  v0: float\n",
    "      la velocidad inicial\n",
    "  g : float (opcional)\n",
    "      valor de la aceleración de la gravedad (default = 9.81)\n",
    "\n",
    "  Returns\n",
    "  -------\n",
    "  (v,h):  tuple of floats\n",
    "       v= v0 - g*t\n",
    "       h= h0 - v0*t -g*t^2/2\n",
    "  \"\"\"\n",
    "  v = v0 + g*t\n",
    "  h = h0 - v0*t - g*t**2/2.\n",
    "  return v,h"
   ]
  },
  {
   "cell_type": "code",
   "execution_count": 156,
   "metadata": {},
   "outputs": [
    {
     "name": "stdout",
     "output_type": "stream",
     "text": [
      "Devuelve la velocidad y la posición de una partícula en\n",
      "  caída libre para condiciones iniciales dadas\n",
      "\n",
      "  Parámetros\n",
      "  ----------\n",
      "  t : float\n",
      "      el tiempo al que queremos realizar el cálculo\n",
      "  h0: float \n",
      "      la altura inicial\n",
      "  v0: float\n",
      "      la velocidad inicial\n",
      "  g : float (opcional)\n",
      "      valor de la aceleración de la gravedad (default = 9.81)\n",
      "\n",
      "  Returns\n",
      "  -------\n",
      "  (v,h):  tuple of floats\n",
      "       v= v0 - g*t\n",
      "       h= h0 - v0*t -g*t^2/2\n",
      "  \n"
     ]
    }
   ],
   "source": [
    "print(caida_libre.__doc__)"
   ]
  },
  {
   "cell_type": "code",
   "execution_count": 157,
   "metadata": {},
   "outputs": [
    {
     "name": "stdout",
     "output_type": "stream",
     "text": [
      "Help on function caida_libre in module __main__:\n",
      "\n",
      "caida_libre(t, h0, v0, g=9.81)\n",
      "    Devuelve la velocidad y la posición de una partícula en\n",
      "    caída libre para condiciones iniciales dadas\n",
      "    \n",
      "    Parámetros\n",
      "    ----------\n",
      "    t : float\n",
      "        el tiempo al que queremos realizar el cálculo\n",
      "    h0: float \n",
      "        la altura inicial\n",
      "    v0: float\n",
      "        la velocidad inicial\n",
      "    g : float (opcional)\n",
      "        valor de la aceleración de la gravedad (default = 9.81)\n",
      "    \n",
      "    Returns\n",
      "    -------\n",
      "    (v,h):  tuple of floats\n",
      "         v= v0 - g*t\n",
      "         h= h0 - v0*t -g*t^2/2\n",
      "\n"
     ]
    }
   ],
   "source": [
    "help(caida_libre)"
   ]
  },
  {
   "attachments": {},
   "cell_type": "markdown",
   "metadata": {},
   "source": [
    "EJEMPLOS"
   ]
  },
  {
   "cell_type": "code",
   "execution_count": 159,
   "metadata": {},
   "outputs": [],
   "source": [
    "\"\"\" Obtención de números primos.\"\"\"\n",
    "\n",
    "# Se importa la función sqrt.\n",
    "from math import sqrt\n",
    "\n",
    "# Función para evaluar si un número es primo.\n",
    "def fun_primo(numero):\n",
    "    # Importa la función para obtener la raíz cuadrada.\n",
    "    \n",
    "\n",
    "    es_primo = True # Suponemos que SÍ es primo.\n",
    "    divisor = 2     #Se inicia el ciclo con divisor = 2. \n",
    "                        \n",
    "    # Se inicia un ciclo Mientras para buscar un divisor exacto.\n",
    "    while divisor <= sqrt(numero) and es_primo:\n",
    "        cociente = numero//divisor # División entera.\n",
    "        if (numero == cociente*divisor):\n",
    "            es_primo = False # Se encontró un divisor exacto.\n",
    "        else:\n",
    "            divisor = divisor + 1 # Se incrementa el divisor\n",
    "    return (es_primo)\n",
    "\n",
    "# Termina la función.\n",
    "\n"
   ]
  },
  {
   "cell_type": "code",
   "execution_count": 161,
   "metadata": {},
   "outputs": [
    {
     "name": "stdout",
     "output_type": "stream",
     "text": [
      "SÍ es primo\n"
     ]
    }
   ],
   "source": [
    "# INICIO DEL ALGORITMO PRINCIPAL\n",
    "\n",
    "# Recibe el número a checar:\n",
    "n = int(input(\"Dame un número entero: \"))\n",
    "\n",
    " \n",
    "es_primo = fun_primo(n)\n",
    "if (es_primo):\n",
    "    print(\"SÍ es primo\")\n",
    "else:\n",
    "    print(\"NO es primo\")\n",
    "                \n",
    "# FIN"
   ]
  },
  {
   "cell_type": "code",
   "execution_count": 162,
   "metadata": {},
   "outputs": [],
   "source": [
    "\"\"\" Obtención de las raíces de una ecuación de segundo grado.\"\"\"\n",
    "\n",
    "# Se importa la función sqrt.\n",
    "from math import sqrt\n",
    "\n",
    "# Función para calcular la raíz cuadrada del discriminante.\n",
    "def discriminante(a1, b1, c1):\n",
    "    d = sqrt(b1*b1 - 4*a1*c1)\n",
    "    return d\n",
    "# Termina la función.\n",
    "\n",
    "# Función para recibir los coeficientes.\n",
    "def lectura( ):\n",
    "    # Recibe los coeficientes:\n",
    "    a = float(input(\"Dame el coeficiente de x**2: \"))\n",
    "    b = float(input(\"Dame el coeficiente de x: \"))\n",
    "    c = float(input(\"Dame el coeficiente independiente: \")) \n",
    "    return [a, b, c] # Los coeficientes están en una lista.\n",
    "# Termina la función.\n",
    "\n",
    "# Función para calcular las raíces.\n",
    "def calcular(a, b, c, d1):\n",
    "    # Calcula las raíces x1 y x2:\n",
    "    # Se calculan las raíces:\n",
    "    x1 = (-b + d1)/2/a\n",
    "    x2 = (-b - d1)/2/a\n",
    "    return (x1, x2) # Las raíces están en una tuplaa.\n",
    "# Termina la función.\n",
    "\n",
    "\n"
   ]
  },
  {
   "cell_type": "code",
   "execution_count": 163,
   "metadata": {},
   "outputs": [
    {
     "name": "stdout",
     "output_type": "stream",
     "text": [
      "La primera raíz es:  -5.0\n",
      "La segunda raíz es:  -5.0\n"
     ]
    }
   ],
   "source": [
    "\n",
    "# INICIO DEL ALGORITMO PRINCIPAL\n",
    "\n",
    "# Recibe los coeficientes:\n",
    "[a, b, c] = lectura( )\n",
    "\n",
    "# Se calcula el discriminante:\n",
    "d1 = discriminante(a, b, c)\n",
    "\n",
    "# Se calculan las raíces:\n",
    "(x1, x2) = calcular(a, b, c, d1)\n",
    "\n",
    "# Se despliegan las raíces:\n",
    "print(\"La primera raíz es: \", x1)\n",
    "print(\"La segunda raíz es: \", x2)\n",
    "# FIN"
   ]
  }
 ],
 "metadata": {
  "kernelspec": {
   "display_name": "Python 3",
   "language": "python",
   "name": "python3"
  },
  "language_info": {
   "codemirror_mode": {
    "name": "ipython",
    "version": 3
   },
   "file_extension": ".py",
   "mimetype": "text/x-python",
   "name": "python",
   "nbconvert_exporter": "python",
   "pygments_lexer": "ipython3",
   "version": "3.9.13"
  },
  "orig_nbformat": 4
 },
 "nbformat": 4,
 "nbformat_minor": 2
}
