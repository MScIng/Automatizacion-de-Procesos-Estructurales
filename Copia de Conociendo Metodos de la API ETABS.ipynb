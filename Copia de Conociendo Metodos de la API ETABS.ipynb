{
 "cells": [
  {
   "cell_type": "markdown",
   "metadata": {},
   "source": [
    "# Librerias"
   ]
  },
  {
   "cell_type": "code",
   "execution_count": 1,
   "metadata": {},
   "outputs": [],
   "source": [
    "import os\n",
    "import sys\n",
    "import comtypes.client\n",
    "import pandas as pd\n",
    "import numpy as np\n",
    "import matplotlib.pyplot as plt"
   ]
  },
  {
   "cell_type": "markdown",
   "metadata": {},
   "source": [
    "# Modo de conexion con el programa\n",
    "\n",
    "- Abriremos automaticamente una ventana de Etabs\n",
    "\n",
    "- Ingresaremos Informacion atraves de codigo Python\n",
    "\n",
    "- Dibujaremos elementos frame y area atraves de codigo Python"
   ]
  },
  {
   "cell_type": "code",
   "execution_count": 2,
   "metadata": {},
   "outputs": [],
   "source": [
    "# True: Trabajará con el programa ETBAS que esté abierto\n",
    "# False: Se abrirá el programa de manera Automaticade \n",
    "AttachToInstance = True"
   ]
  },
  {
   "cell_type": "markdown",
   "metadata": {},
   "source": [
    "# Complemento de conexion"
   ]
  },
  {
   "cell_type": "code",
   "execution_count": 3,
   "metadata": {},
   "outputs": [
    {
     "data": {
      "text/plain": [
       "0"
      ]
     },
     "execution_count": 3,
     "metadata": {},
     "output_type": "execute_result"
    }
   ],
   "source": [
    "# True: para especificar manualmente la ruta a ETABS.exe\n",
    "# False: se usará la última versión instalada de ETABS\n",
    "SpecifyPath = True\n",
    "\n",
    "# si el indicador anterior está en True, especifique la ruta a ETABS a continuación\n",
    "ProgramPath = \"C:\\Program Files\\Computers and Structures\\ETABS 20\\ETABS.exe\"\n",
    "\n",
    "# ruta completa del modelo \n",
    "# ajústelo a la ruta deseada de su modelo\n",
    "APIPath = 'C:\\CSi_ETABS_API_Example'\n",
    "if not os.path.exists(APIPath):\n",
    "    try:\n",
    "        os.makedirs(APIPath)\n",
    "    except OSError:\n",
    "        pass\n",
    "ModelPath = APIPath + os.sep + 'API_1-001.edb'\n",
    "\n",
    "# crear objeto API helper\n",
    "helper = comtypes.client.CreateObject('ETABSv1.Helper')\n",
    "helper = helper.QueryInterface(comtypes.gen.ETABSv1.cHelper)\n",
    "\n",
    "if AttachToInstance:\n",
    "    try:\n",
    "        # obtener el objeto ETABS activo\n",
    "        myETABSObject = helper.GetObject(\"CSI.ETABS.API.ETABSObject\") \n",
    "    except (OSError, comtypes.COMError):\n",
    "        print(\"No running instance of the program found or failed to attach.\")\n",
    "        sys.exit(-1)\n",
    "else:\n",
    "    if SpecifyPath:\n",
    "        try:\n",
    "            # crear una instancia del objeto ETABS a partir de la ruta especificada\n",
    "            myETABSObject = helper.CreateObject(ProgramPath)\n",
    "        except (OSError, comtypes.COMError):\n",
    "            print(\"Cannot start a new instance of the program from \" + ProgramPath)\n",
    "            sys.exit(-1)\n",
    "    else:\n",
    "        try: \n",
    "            # crear una instancia del objeto ETABS a partir del último ETABS instalado\n",
    "            myETABSObject = helper.CreateObjectProgID(\"CSI.ETABS.API.ETABSObject\") \n",
    "        except (OSError, comtypes.COMError):\n",
    "            print(\"Cannot start a new instance of the program.\")\n",
    "            sys.exit(-1)\n",
    "\n",
    "    # Comenzar la aplicacion de ETABS\n",
    "    myETABSObject.ApplicationStart()\n",
    "\n",
    "# Crear un objeto SapModel\n",
    "ret = SapModel = myETABSObject.SapModel\n",
    "\n",
    "# Iniciar Modelo\n",
    "ret = SapModel.InitializeNewModel()"
   ]
  },
  {
   "cell_type": "markdown",
   "metadata": {},
   "source": [
    "# Definicion de espacio de trabajo\n",
    "\n",
    "las unidades con las que inicia es kip, ft, F, se recomienda controlar las unidades de inicio\n",
    "```python\n",
    "# Crear un modelo en blanco\n",
    "ret = SapModel.File.NewBlank()\n",
    "\n",
    "# Crear Grillas\n",
    "ret = SapModel.File.NewGridOnly(10,12,12,4,4,24,24)\n",
    "\n",
    "# Crear plantilla de Steel Deck\n",
    "ret = SapModel.File.NewSteelDeck(4,12,12,4,4,24,24)\n",
    "\n",
    "# Abrir un archivo de Etabs\n",
    "PathFile = \"G:\\Otros ordenadores\\PRINCIPAL\\ARCHIVOS 2023\\EXPO PYTHON\\Para Expo\\Para Expo.edb\"\n",
    "ret = SapModel.File.OpenFile(PathFile)\n",
    "\n",
    "# Guardar un archivo de Etabs\n",
    "os.makedirs('C:\\Ejemplo CEINT', exist_ok=True)\n",
    "ret = SapModel.File.Save(\"C:\\Ejemplo CEINT\\example.edb\")\n",
    "\n",
    "```\n"
   ]
  },
  {
   "cell_type": "code",
   "execution_count": null,
   "metadata": {},
   "outputs": [],
   "source": [
    "# Crear un modelo en blanco\n",
    "ret =  SapModel.File.NewBlank()"
   ]
  },
  {
   "cell_type": "markdown",
   "metadata": {},
   "source": [
    "# Definicion de materiales\n",
    "\n",
    "- Concreto Armado   = 2\n",
    "- Acero de Refuerzo = 6\n",
    "- Albañileria       = 8"
   ]
  },
  {
   "cell_type": "markdown",
   "metadata": {},
   "source": [
    "**Propiedades mecanicas del Concreto**\n",
    "\n",
    "Crear dos tipos de concreto 280 y 210\n",
    "\n",
    "Crear un material de Albañileria"
   ]
  },
  {
   "cell_type": "code",
   "execution_count": 20,
   "metadata": {},
   "outputs": [],
   "source": [
    "# Cambiar unidades a kgf_m_C \n",
    "kgf_m_C = 8\n",
    "ret = SapModel.SetPresentUnits(kgf_m_C)\n",
    "\n",
    "# Definir Propiedades del Material\n",
    "MATERIAL_MASONRY = 8\n",
    "ret = SapModel.PropMaterial.SetMaterial('Albañileria CEINT',          # Name\n",
    "                                   MATERIAL_MASONRY            # Material Type\n",
    "                                        )\n",
    "\n",
    "# Asignar propiedades mecanicas isotropicas al material en MPa\n",
    "ret = SapModel.PropMaterial.SetMPIsotropic('Albañileria CEINT',            # Name\n",
    "                                    1234,               # E\n",
    "                                    0.1,                # v\n",
    "                                    0.0000055           # T\n",
    "                                    )"
   ]
  },
  {
   "cell_type": "code",
   "execution_count": 5,
   "metadata": {},
   "outputs": [],
   "source": [
    "# Definir Propiedades del Material\n",
    "MATERIAL_CONCRETE = 2\n",
    "ret = SapModel.PropMaterial.SetMaterial('CONCRETO280',          # Name\n",
    "                                   MATERIAL_CONCRETE            # Material Type\n",
    "                                  )"
   ]
  },
  {
   "cell_type": "code",
   "execution_count": 6,
   "metadata": {},
   "outputs": [],
   "source": [
    "# Asignar propiedades mecanicas isotropicas al material en MPa\n",
    "ret = SapModel.PropMaterial.SetMPIsotropic('CONCRETO280',            # Name\n",
    "                                    3600,               # E\n",
    "                                    0.2,                # v\n",
    "                                    0.0000055           # T\n",
    "                                    )"
   ]
  },
  {
   "cell_type": "code",
   "execution_count": 7,
   "metadata": {},
   "outputs": [],
   "source": [
    "# cambiar el peso especifico del material\n",
    "ret = SapModel.PropMaterial.SetWeightAndMass('CONCRETO280', 1, 240)"
   ]
  },
  {
   "cell_type": "markdown",
   "metadata": {},
   "source": [
    "**Propiedades Mecanicas del Acero de Refuerzo**"
   ]
  },
  {
   "cell_type": "code",
   "execution_count": 8,
   "metadata": {},
   "outputs": [
    {
     "data": {
      "text/plain": [
       "0"
      ]
     },
     "execution_count": 8,
     "metadata": {},
     "output_type": "execute_result"
    }
   ],
   "source": [
    "# Definir Propiedades del Material\n",
    "MATERIAL_REBAR = 6\n",
    "ret = SapModel.PropMaterial.SetMaterial('REBAR', \n",
    "                                   MATERIAL_REBAR\n",
    "                                 )\n",
    "\n",
    "# Asignar propiedades mecanicas isotropicas al material\n",
    "ret = SapModel.PropMaterial.SetMPIsotropic('REBAR', \n",
    "                                    3600, \n",
    "                                    0.2, \n",
    "                                    0.0000055\n",
    "                                    )"
   ]
  },
  {
   "cell_type": "markdown",
   "metadata": {},
   "source": [
    "# Unidades de Trabajo"
   ]
  },
  {
   "cell_type": "markdown",
   "metadata": {},
   "source": [
    "- kgf_m_C = 8\n",
    "- Ton_m_C = 12\n",
    "- Kg_cm_C = 14"
   ]
  },
  {
   "cell_type": "code",
   "execution_count": 10,
   "metadata": {},
   "outputs": [],
   "source": [
    "# Cambiar unidades a kgf_m_C \n",
    "kgf_m_C = 8\n",
    "ret = SapModel.SetPresentUnits(kgf_m_C)"
   ]
  },
  {
   "cell_type": "code",
   "execution_count": 12,
   "metadata": {},
   "outputs": [],
   "source": [
    "ret = SapModel.View.RefreshView(0, False)"
   ]
  },
  {
   "cell_type": "markdown",
   "metadata": {},
   "source": [
    "# Definir elementos "
   ]
  },
  {
   "cell_type": "markdown",
   "metadata": {},
   "source": [
    "## Frame"
   ]
  },
  {
   "cell_type": "code",
   "execution_count": 14,
   "metadata": {},
   "outputs": [],
   "source": [
    "# Cambiar unidades a kgf_m_C \n",
    "kgf_m_C = 8\n",
    "ret = SapModel.SetPresentUnits(kgf_m_C)"
   ]
  },
  {
   "cell_type": "code",
   "execution_count": 13,
   "metadata": {},
   "outputs": [
    {
     "data": {
      "text/plain": [
       "0"
      ]
     },
     "execution_count": 13,
     "metadata": {},
     "output_type": "execute_result"
    }
   ],
   "source": [
    "# FrameObj Interface            pag 2289\n",
    "# Definir las propiedades de Seccion a un Frame rectangular   \n",
    "ret = SapModel.PropFrame.SetRectangle('R1',       # Name del nuevo frame\n",
    "                                'CONCRETO280',     # Material\n",
    "                                12,         # b\n",
    "                                12          # h\n",
    "                                )"
   ]
  },
  {
   "cell_type": "code",
   "execution_count": null,
   "metadata": {},
   "outputs": [],
   "source": [
    "# Datos extra para Frame Vigas        pag 3705\n",
    "ret = SapModel.PropFrame.SetRebarBeam(\"R1\",       # Name de un frame existente\n",
    "                                \"REBAR\",    # Material del acero longitudinal\n",
    "                                \"REBAR\",    # Material del acero transversal\n",
    "                                3.5,        # Recubrimiento superior   6cm\n",
    "                                3,          # Recubrimiento inferior   6cm\n",
    "                                4.1,        # Top Left Area\n",
    "                                4.2,        # Top Right Area\n",
    "                                4.3,        # Bottom Left Area\n",
    "                                4.4         # Bottom Right Area\n",
    "                                )"
   ]
  },
  {
   "cell_type": "code",
   "execution_count": null,
   "metadata": {},
   "outputs": [],
   "source": [
    "# Datos extra para Frame Columnas\n",
    "ret = SapModel.PropFrame.SetRebarColumn(\"R1\",     # Name de un frame existente\n",
    "                                \"REBAR\",    # Material del acero longitudinal\n",
    "                                \"REBAR\",    # Material del acero transversal\n",
    "                                1,          # Pattern  (Rectangular = 1  /   Circular = 2)\n",
    "                                1,          # Tipo de Cofinamiento  (Ties = 1  /   Spiral = 2)\n",
    "                                2,          # Recubrimiento de la columna  4cm\n",
    "                                10,         # Solo Aplica para la Columnas Circulares, Numero total de barras\n",
    "                                4,          # Solo Aplica para la Columnas Rectangulares, Numero de barras en el eje local 3\n",
    "                                3,          # Solo Aplica para la Columnas Rectangulares, Numero de barras en el eje local 2\n",
    "                                \"#10\",      # El diametro del acero longitudinal\n",
    "                                \"#5\",       # El diametro del acero transversal\n",
    "                                4,          # Espaciamiento de los estribos\n",
    "                                4,          # Numero de estribos alrededor del eje local 2\n",
    "                                4,          # Numero de estribos alrededor del eje local 3\n",
    "                                False)\n"
   ]
  },
  {
   "cell_type": "code",
   "execution_count": null,
   "metadata": {},
   "outputs": [],
   "source": [
    "# Definir modificadores de propiedad a un Frame\n",
    "ModValue = [1000, 0, 0, 1, 1, 1, 1, 1]\n",
    "ret = SapModel.PropFrame.SetModifiers('R1', ModValue)"
   ]
  },
  {
   "cell_type": "markdown",
   "metadata": {},
   "source": [
    "## Slab"
   ]
  },
  {
   "cell_type": "markdown",
   "metadata": {},
   "source": [
    "Slab Type \n",
    "- Slab       = 0\n",
    "- Drop       = 1\n",
    "- Ribbed     = 3\n",
    "- Waffle     = 4\n",
    "- Mat        = 5\n",
    "- Footing    = 6\n",
    "\n",
    "Shell Type\n",
    "- ShellThin  = 1\n",
    "- Shellthick = 2\n",
    "- Menbrane   = 3\n",
    "- Layered    = 6"
   ]
  },
  {
   "cell_type": "code",
   "execution_count": null,
   "metadata": {},
   "outputs": [],
   "source": [
    "# Definir las propiedades de la Losa Slab\n",
    "ret = SapModel.PropArea.SetSlab(\"Losa Macisa CEINT\",       # Name\n",
    "                        0,                  # Slab Type - Slab\n",
    "                        1,                  # ShellThin\n",
    "                        \"f'c=280kg/cm2\",    # Material\n",
    "                        15                  # Thickness\n",
    "                        )"
   ]
  },
  {
   "cell_type": "code",
   "execution_count": null,
   "metadata": {},
   "outputs": [],
   "source": [
    "\n",
    "# Inicializa la creacion de una Losa\n",
    "ret = SapModel.PropArea.SetSlab(\"Slab Ribbed\",    # Name\n",
    "                            3,              # Ribbed\n",
    "                            1,              # ShellThin\n",
    "                            \"CONC\",         # Material\n",
    "                            10              # Thickness\n",
    "                        )\n",
    "# Definir las propiedades de la Losa Ribbed\n",
    "ret = SapModel.PropArea.SetSlabRibbed(\n",
    "                            \"Slab Ribbed\",  # Name\n",
    "                            11.1,           # OverallDepth              \n",
    "                            22.2,           # SlabThickness\n",
    "                            33.3,           # StemWidthTop\n",
    "                            44.4,           # StemWidthBottom\n",
    "                            55.5,           # RibSpacing\n",
    "                            2               # RibsParallelTo - Local Axis\n",
    "                            )"
   ]
  },
  {
   "cell_type": "markdown",
   "metadata": {},
   "source": [
    "## Wall"
   ]
  },
  {
   "cell_type": "markdown",
   "metadata": {},
   "source": [
    "WallPropType\n",
    "- Specified      = 1\n",
    "- AutoSelectList = 2\n",
    "\n",
    "Shell Type\n",
    "- ShellThin  = 1\n",
    "- Shellthick = 2\n",
    "- Menbrane   = 3\n",
    "- Layered    = 6"
   ]
  },
  {
   "cell_type": "code",
   "execution_count": null,
   "metadata": {},
   "outputs": [],
   "source": [
    "ret = SapModel.PropArea.SetWall(\"Placa\",      # Name\n",
    "                        1,              # Material\n",
    "                        1,              # Shell Type - Shell Thin   \n",
    "                        \"CONC\",         # Material Type\n",
    "                        20              # Thickness\n",
    "                        )"
   ]
  },
  {
   "cell_type": "markdown",
   "metadata": {},
   "source": [
    "Modificador de propiedades\n",
    "\n",
    "* Value(0) Membrane f11 modifier\n",
    "* Value(1) Membrane f22 modifier\n",
    "* Value(2) Membrane f12 modifier\n",
    "* Value(3) Bending m11 modifier\n",
    "* Value(4) Bending m22 modifier\n",
    "* Value(5) Bending m12 modifier\n",
    "* Value(6) Shear v13 modifier\n",
    "* Value(7) Shear v23 modifier\n",
    "* Value(8) Mass modifier\n",
    "* Value(9) Weight modifier"
   ]
  },
  {
   "cell_type": "code",
   "execution_count": null,
   "metadata": {},
   "outputs": [],
   "source": [
    "# MyValue = [1, 1, 1, 1, 1, 1, 1, 1, 1]\n",
    "# ret = SapModel.PropArea.SetModifiers(\"Slab\", MyValue)"
   ]
  },
  {
   "cell_type": "markdown",
   "metadata": {},
   "source": [
    "# Dibujar elemento Frame"
   ]
  },
  {
   "cell_type": "code",
   "execution_count": null,
   "metadata": {},
   "outputs": [],
   "source": [
    "# Añadir objeto Frame por Coordenadas\n",
    "FrameName1 = ' '\n",
    "FrameName2 = ' '\n",
    "FrameName3 = ' '\n",
    "[FrameName1, ret] = SapModel.FrameObj.AddByCoord(0, 0, 0, 0, 0, 10, FrameName1, 'R1', '1', 'Global')\n",
    "[FrameName2, ret] = SapModel.FrameObj.AddByCoord(0, 0, 10, 8, 0, 16, FrameName2, 'R1', '2', 'Global')\n",
    "[FrameName3, ret] = SapModel.FrameObj.AddByCoord(-4, 0, 10, 0, 0, 10, FrameName3, 'R1', '3', 'Global')"
   ]
  },
  {
   "cell_type": "markdown",
   "metadata": {},
   "source": [
    "# Crear LoadPattern"
   ]
  },
  {
   "cell_type": "markdown",
   "metadata": {},
   "source": [
    "Definicion de Load Patterns\n",
    "\n",
    "- Dead          = 1\n",
    "- SuperDead     = 2\n",
    "- Live          = 3\n",
    "- ReduceLive    = 4\n",
    "- Quake         = 5\n",
    "- Wind          = 6\n",
    "- Snow          = 7\n",
    "- Other         = 8"
   ]
  },
  {
   "cell_type": "code",
   "execution_count": null,
   "metadata": {},
   "outputs": [],
   "source": [
    "\n",
    "ret = SapModel.LoadPatterns.Add('1',    # Name del Load Pattern\n",
    "                                1,      # Tipo de Load Pattern\n",
    "                                1,      # Considerar peso propio - Factor\n",
    "                                True    # Opcional - True: Crear un nuevo caso de carga\n",
    "                                )\n"
   ]
  },
  {
   "cell_type": "code",
   "execution_count": null,
   "metadata": {},
   "outputs": [],
   "source": [
    "# Ejemplo - añadiendo LoadPatterns\n",
    "LTYPE_OTHER = 8\n",
    "ret = SapModel.LoadPatterns.Add('1', LTYPE_OTHER, 1, True)\n",
    "ret = SapModel.LoadPatterns.Add('2', LTYPE_OTHER, 0, True)\n",
    "ret = SapModel.LoadPatterns.Add('3', LTYPE_OTHER, 0, True)\n",
    "ret = SapModel.LoadPatterns.Add('4', LTYPE_OTHER, 0, True)\n",
    "ret = SapModel.LoadPatterns.Add('5', LTYPE_OTHER, 0, True)\n",
    "ret = SapModel.LoadPatterns.Add('6', LTYPE_OTHER, 0, True)\n",
    "ret = SapModel.LoadPatterns.Add('7', LTYPE_OTHER, 0, True)"
   ]
  },
  {
   "cell_type": "markdown",
   "metadata": {},
   "source": [
    "# Asignar Carga"
   ]
  },
  {
   "cell_type": "code",
   "execution_count": null,
   "metadata": {},
   "outputs": [],
   "source": [
    "#assign loading for load pattern 2\n",
    "PointName1 = ' '\n",
    "PointName2 = ' '\n",
    "[PointName1, PointName2, ret] = SapModel.FrameObj.GetPoints(FrameName3, PointName1, PointName2)\n",
    "PointLoadValue = [0,0,-10,0,0,0]\n",
    "ret = SapModel.PointObj.SetLoadForce(PointName1, '2', PointLoadValue)\n",
    "ret = SapModel.FrameObj.SetLoadDistributed(FrameName3, '2', 1, 10, 0, 1, 1.8, 1.8)\n",
    "\n",
    "\n",
    "#assign loading for load pattern 3\n",
    "[PointName1, PointName2, ret] = SapModel.FrameObj.GetPoints(FrameName3, PointName1, PointName2)\n",
    "PointLoadValue = [0,0,-17.2,0,-54.4,0]\n",
    "ret = SapModel.PointObj.SetLoadForce(PointName2, '3', PointLoadValue)\n",
    "\n",
    "#assign loading for load pattern 4\n",
    "ret = SapModel.FrameObj.SetLoadDistributed(FrameName2, '4', 1, 11, 0, 1, 2, 2)\n",
    "\n",
    "#assign loading for load pattern 5\n",
    "ret = SapModel.FrameObj.SetLoadDistributed(FrameName1, '5', 1, 2, 0, 1, 2, 2, 'Local')\n",
    "ret = SapModel.FrameObj.SetLoadDistributed(FrameName2, '5', 1, 2, 0, 1, -2, -2, 'Local')\n",
    "\n",
    "#assign loading for load pattern 6\n",
    "ret = SapModel.FrameObj.SetLoadDistributed(FrameName1, '6', 1, 2, 0, 1, 0.9984, 0.3744, 'Local')\n",
    "ret = SapModel.FrameObj.SetLoadDistributed(FrameName2, '6', 1, 2, 0, 1, -0.3744, 0, 'Local')\n",
    "\n",
    "#assign loading for load pattern 7\n",
    "ret = SapModel.FrameObj.SetLoadPoint(FrameName2, '7', 1, 2, 0.5, -15, 'Local')\n"
   ]
  },
  {
   "cell_type": "markdown",
   "metadata": {},
   "source": [
    "# Asignar Restricciones"
   ]
  },
  {
   "cell_type": "code",
   "execution_count": null,
   "metadata": {},
   "outputs": [],
   "source": [
    "# Asignar resitricciones al punto de la Base\n",
    "PointName1 = ' '\n",
    "PointName2 = ' '\n",
    "Restraint = [True, True, True, True, False, False]\n",
    "\n",
    "[PointName1, PointName2, ret] = SapModel.FrameObj.GetPoints(FrameName1, PointName1, PointName2)\n",
    "ret = SapModel.PointObj.SetRestraint(PointName1, Restraint)\n",
    "\n",
    "# Asignar restricciones al punto superior\n",
    "Restraint = [True, True, False, False, False, False]\n",
    "[PointName1, PointName2, ret] = SapModel.FrameObj.GetPoints(FrameName2, PointName1, PointName2)\n",
    "ret = SapModel.PointObj.SetRestraint(PointName2, Restraint)"
   ]
  },
  {
   "cell_type": "markdown",
   "metadata": {},
   "source": [
    "# refinaciones"
   ]
  },
  {
   "cell_type": "markdown",
   "metadata": {},
   "source": [
    "Asignar Brazo rigido       pag 2464\n",
    "```python\n",
    "'assign offsets\n",
    "SapModel.FrameObj.SetEndLengthOffset(\"15\", False, 12, 12, 0.5)\n",
    "```\n",
    "---"
   ]
  },
  {
   "cell_type": "markdown",
   "metadata": {},
   "source": [
    "Asignar Releases pag 2515\n",
    "```python\n",
    "'assign end releases\n",
    "ReDim ii(5)\n",
    "ReDim jj(5)\n",
    "ReDim StartValue(5)\n",
    "ReDim EndValue(5)\n",
    "ii(5) = True\n",
    "jj(5) = True\n",
    "ret =SapModel.FrameObj.SetReleases(\"13\", ii, jj, StartValue, EndValue)\n",
    "```\n",
    "---"
   ]
  },
  {
   "cell_type": "markdown",
   "metadata": {},
   "source": [
    "Asignar propiedad de una seccion a un frame seleccionado       pag 2521\n",
    "```python\n",
    "'create new concrete frame section property\n",
    " ret = SapModel.PropFrame.SetRectangle(\"R1\", \"4000Psi\", 20, 12)\n",
    "'set frame section property\n",
    " ret = SapModel.FrameObj.SetSection(\"8\", \"R1\")\n",
    "```\n",
    "---"
   ]
  },
  {
   "cell_type": "markdown",
   "metadata": {},
   "source": []
  }
 ],
 "metadata": {
  "kernelspec": {
   "display_name": "Python 3",
   "language": "python",
   "name": "python3"
  },
  "language_info": {
   "codemirror_mode": {
    "name": "ipython",
    "version": 3
   },
   "file_extension": ".py",
   "mimetype": "text/x-python",
   "name": "python",
   "nbconvert_exporter": "python",
   "pygments_lexer": "ipython3",
   "version": "3.9.13"
  },
  "orig_nbformat": 4
 },
 "nbformat": 4,
 "nbformat_minor": 2
}
