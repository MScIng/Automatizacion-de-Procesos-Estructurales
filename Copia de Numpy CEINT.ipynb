{
  "cells": [
    {
      "cell_type": "markdown",
      "metadata": {
        "id": "BC5RulfgbTfY"
      },
      "source": [
        "**NUMPY**\n",
        "\n",
        "`numpy` es un módulo para trabajar con arrays, que son un tipo de lista, solo que mucho más rápidos de procesar.\n",
        "\n",
        "El objeto array de `numpy` recibe el nombre de `ndarray`. Este tipo de dato es muy usado en el mundo de la ciencia de datos, donde la velocidad y los recursos son de gran importancia."
      ]
    },
    {
      "cell_type": "code",
      "execution_count": 3,
      "metadata": {
        "id": "oGDJf6j-bY72"
      },
      "outputs": [],
      "source": [
        "import numpy as np"
      ]
    },
    {
      "cell_type": "markdown",
      "metadata": {
        "id": "mRZiW-MLcUu6"
      },
      "source": [
        "Podemos comprobar la versión de `numpy` con la siguiente línea de código"
      ]
    },
    {
      "cell_type": "code",
      "execution_count": 4,
      "metadata": {
        "colab": {
          "base_uri": "https://localhost:8080/"
        },
        "id": "hPLTB_3ccZIo",
        "outputId": "0410bc21-2baa-466c-f52f-f20fce9f275c"
      },
      "outputs": [
        {
          "name": "stdout",
          "output_type": "stream",
          "text": [
            "1.24.4\n"
          ]
        }
      ],
      "source": [
        "print(np.__version__)"
      ]
    },
    {
      "cell_type": "markdown",
      "metadata": {
        "id": "2bOZgYz0ciRt"
      },
      "source": [
        "#### Creando arrays\n",
        "\n",
        "Para crear un `ndarray` usamos el método `.array()`.\n",
        "\n",
        "Lo podemos hacer a partir de una lista:"
      ]
    },
    {
      "cell_type": "code",
      "execution_count": 5,
      "metadata": {
        "colab": {
          "base_uri": "https://localhost:8080/"
        },
        "id": "xGqHw0bNcrIv",
        "outputId": "e8b9c5bf-cfd0-464d-d5ff-f9f397532daa"
      },
      "outputs": [
        {
          "name": "stdout",
          "output_type": "stream",
          "text": [
            "[1 2 3 4 5]\n"
          ]
        }
      ],
      "source": [
        "a = np.array([1, 2, 3, 4, 5])\n",
        "print(a)"
      ]
    },
    {
      "cell_type": "code",
      "execution_count": 6,
      "metadata": {},
      "outputs": [
        {
          "name": "stdout",
          "output_type": "stream",
          "text": [
            "[1, 2, 3, 4, 5]\n"
          ]
        }
      ],
      "source": [
        "b = [1, 2, 3, 4, 5]\n",
        "print(b)"
      ]
    },
    {
      "cell_type": "code",
      "execution_count": 8,
      "metadata": {
        "colab": {
          "base_uri": "https://localhost:8080/"
        },
        "id": "UeF1K8lx4mP-",
        "outputId": "f3e3f550-5cce-465a-e701-07d4dcf6f884"
      },
      "outputs": [
        {
          "name": "stdout",
          "output_type": "stream",
          "text": [
            "<class 'numpy.ndarray'>\n",
            "<class 'list'>\n"
          ]
        }
      ],
      "source": [
        "print(type(a))\n",
        "print(type(b))"
      ]
    },
    {
      "cell_type": "markdown",
      "metadata": {},
      "source": [
        "Mientras que las listas pueden contener elementos de diversos tipos (números, cadenas, listas, etc) en una misma lista, los array de NumPy solo pueden contener elementos de un tipo, es decir son homogéneos.\n",
        "\n",
        "Los elementos array de Numpy son más rápidos y compactos que las listas de Python, además consumen menos memoria."
      ]
    },
    {
      "cell_type": "code",
      "execution_count": 9,
      "metadata": {},
      "outputs": [
        {
          "name": "stdout",
          "output_type": "stream",
          "text": [
            "El tiempo que demora en generar un array: 0.010563850402832031 segundos\n",
            "El tiempo que demora en generar una lista: 0.48201823234558105 segundos\n"
          ]
        },
        {
          "data": {
            "text/plain": [
              "45.62902861785682"
            ]
          },
          "execution_count": 9,
          "metadata": {},
          "output_type": "execute_result"
        }
      ],
      "source": [
        "import time\n",
        "start = time.time()\n",
        "# crear un array con numeros aleatorios\n",
        "a = np.random.rand(1000000)\n",
        "end = time.time()\n",
        "tiempo1 = end - start\n",
        "print(f\"El tiempo que demora en generar un array: {tiempo1} segundos\")\n",
        "\n",
        "# crear una lista con numeros aleatorios\n",
        "start = time.time()\n",
        "b = [np.random.rand() for i in range(1000000)]\n",
        "end = time.time()\n",
        "tiempo2 = end - start\n",
        "print(f\"El tiempo que demora en generar una lista: {tiempo2} segundos\")\n",
        "\n",
        "tiempo2 / tiempo1"
      ]
    },
    {
      "cell_type": "markdown",
      "metadata": {
        "id": "ZNANC2tm7T2q"
      },
      "source": [
        "### Elementos de un array\n"
      ]
    },
    {
      "cell_type": "markdown",
      "metadata": {
        "id": "aHN5Yq0x8PAe"
      },
      "source": [
        "#### Caso unidimensional\n",
        "\n",
        "Podemos acceder a los elementos de un array con la sintaxis `[]`.\n",
        "\n",
        "**Observación.** Recordad que en `Python` los índices empezaban en 0"
      ]
    },
    {
      "cell_type": "code",
      "execution_count": 10,
      "metadata": {
        "colab": {
          "base_uri": "https://localhost:8080/"
        },
        "id": "ZzNEcvvW7eWK",
        "outputId": "1f46a2db-2930-4a35-ba7c-b0d77503288f"
      },
      "outputs": [
        {
          "name": "stdout",
          "output_type": "stream",
          "text": [
            "[2 3 4 5 6]\n",
            "Primer elemento = 2\n",
            "Segundo elemento = 3\n",
            "Último elemento = 6\n"
          ]
        }
      ],
      "source": [
        "a = np.array([2, 3, 4, 5, 6])\n",
        "print(a)\n",
        "\n",
        "print(f\"Primer elemento = {a[0]}\")\n",
        "print(f\"Segundo elemento = {a[1]}\")\n",
        "print(f\"Último elemento = {a[-1]}\")"
      ]
    },
    {
      "cell_type": "markdown",
      "metadata": {
        "id": "PyWa7X0y8SDp"
      },
      "source": [
        "#### Caso multidimensional\n",
        "\n",
        "A la hora de acceder a elementos de un array multidimensional, tendremos que empezar indicando el índice del elemento en el nivel menos profundo y acabar indicando el índice del elemento en en nivel más profundo, todos entre `[]` separados por comas.\n",
        "\n",
        "En el caso de un array bidimiensional, como el que se muestra a continuación,"
      ]
    },
    {
      "cell_type": "code",
      "execution_count": 11,
      "metadata": {
        "colab": {
          "base_uri": "https://localhost:8080/"
        },
        "id": "qBuwEhAQ8xw-",
        "outputId": "1aa3f65b-87ca-4152-ecf9-144af7238908"
      },
      "outputs": [
        {
          "data": {
            "text/plain": [
              "2"
            ]
          },
          "execution_count": 11,
          "metadata": {},
          "output_type": "execute_result"
        }
      ],
      "source": [
        "a = np.array([[-10, -9], [7, 8]])\n",
        "a.ndim"
      ]
    },
    {
      "cell_type": "code",
      "execution_count": 12,
      "metadata": {},
      "outputs": [
        {
          "data": {
            "text/plain": [
              "array([[-10,  -9],\n",
              "       [  7,   8]])"
            ]
          },
          "execution_count": 12,
          "metadata": {},
          "output_type": "execute_result"
        }
      ],
      "source": [
        "a"
      ]
    },
    {
      "cell_type": "markdown",
      "metadata": {
        "id": "RZxrvJfL8-KZ"
      },
      "source": [
        "Para acceder al elemento -9, primero habrá que indicar el índice 0, pues el array unidimensional al que pertenece se encuentra en el índice 0 del nivel menos profundo. A continuación, indicaremos el índice 1, pues esa es la posición que ocupa el elemento de nuestro interés dentro del array unidimensional, que se trata del nivel más profundo en este caso:"
      ]
    },
    {
      "cell_type": "code",
      "execution_count": 16,
      "metadata": {
        "colab": {
          "base_uri": "https://localhost:8080/"
        },
        "id": "OV2DoLCy9RwO",
        "outputId": "a05d0c62-c632-4383-e05b-63038c6e39ac"
      },
      "outputs": [
        {
          "data": {
            "text/plain": [
              "-10"
            ]
          },
          "execution_count": 16,
          "metadata": {},
          "output_type": "execute_result"
        }
      ],
      "source": [
        "a[0, 0]"
      ]
    },
    {
      "cell_type": "markdown",
      "metadata": {
        "id": "f6m73UtJ9Wfk"
      },
      "source": [
        "En el caso de un array tridimensional, como el que se muestra a continuación,"
      ]
    },
    {
      "cell_type": "code",
      "execution_count": 17,
      "metadata": {
        "colab": {
          "base_uri": "https://localhost:8080/"
        },
        "id": "yXx82f-A9ZnH",
        "outputId": "72bfe81b-57a2-43e8-e916-813b6aef6453"
      },
      "outputs": [
        {
          "data": {
            "text/plain": [
              "3"
            ]
          },
          "execution_count": 17,
          "metadata": {},
          "output_type": "execute_result"
        }
      ],
      "source": [
        "a = np.array([[[1, 2, 3], [-3, -2, -1]], [[4, 5, 6], [7, 8, 9]]])\n",
        "a.ndim"
      ]
    },
    {
      "cell_type": "markdown",
      "metadata": {
        "id": "z-qmk_ZA9rSL"
      },
      "source": [
        "Para acceder al elemento 7, primero habrá que indicar el índice 1, pues el array 2-dimensional al que pertenece se encuentra en la posición 1 del nivel menos profundo. Entramos en el siguiente nivel, el array 2-dimensional. Ahora, la posición que hay que indicar es la 1, pues el array 1-dimensional ocupa dicho índice dentro del array 2-dimensional. Finalmente, llegamos al nivel más profundo, el array 1-dimensional, y ahora hay que indicar el índice 0, pues esa es la posición que ocupa el elemento de nuestro interés dentro del array unidimensional."
      ]
    },
    {
      "cell_type": "code",
      "execution_count": 19,
      "metadata": {
        "colab": {
          "base_uri": "https://localhost:8080/"
        },
        "id": "G974Zcjt-Lgz",
        "outputId": "fa18551d-d3ce-42c4-9ec9-14f8721549f2"
      },
      "outputs": [
        {
          "data": {
            "text/plain": [
              "2"
            ]
          },
          "execution_count": 19,
          "metadata": {},
          "output_type": "execute_result"
        }
      ],
      "source": [
        "a[0, 0, 1]"
      ]
    },
    {
      "cell_type": "markdown",
      "metadata": {
        "id": "zT4GRFhM-fNp"
      },
      "source": [
        "Dado un array multidimensional, si lo que queremos es que se nos devuelva un array de dimensión menor, entonces solamnente tenemos que indicar sus índices tal cuál hacíamos para obtener un elemento.\n",
        "\n",
        "Dado el array `a` tridimensional anterior, si queremos acceder al array unidimensional `[-3, -2, -1]`, entonces indicaremos entre `[]` los índices 0 y, a continuación, 1. Pues dicho array se encuentra en el primer array bidimensional y dentro de éste, ocupa la segunda posición, es decir, el índice 1:"
      ]
    },
    {
      "cell_type": "code",
      "execution_count": null,
      "metadata": {
        "colab": {
          "base_uri": "https://localhost:8080/"
        },
        "id": "m7NcclHJ-4xE",
        "outputId": "a8fa9bbe-a40e-48fc-fd01-ae15303e7eed"
      },
      "outputs": [],
      "source": [
        "a[0, 1]"
      ]
    },
    {
      "cell_type": "markdown",
      "metadata": {
        "id": "8JB4HYFUAQ9l"
      },
      "source": [
        "#### Índices negativos\n",
        "\n",
        "Al igual que para el caso de las listas, los elementos de los `ndarrays` también pueden ser accedidos mediante índices negativos. \n",
        "\n",
        "El índice `-1` hace referencia al último elemento; el `-2`, al penúltimo; el `-3` al antepenúltimo; y así sucesivamente."
      ]
    },
    {
      "cell_type": "code",
      "execution_count": null,
      "metadata": {
        "colab": {
          "base_uri": "https://localhost:8080/"
        },
        "id": "hLFBvwEUITZt",
        "outputId": "c1259f18-5f0a-4908-cb0c-ff1e0b020a75"
      },
      "outputs": [],
      "source": [
        "a[-1]"
      ]
    },
    {
      "cell_type": "markdown",
      "metadata": {
        "id": "fBF975JcAy-V"
      },
      "source": [
        "### Slicing\n",
        "\n",
        "En `Python`, **slicing** hace referencia a tomar elementos desde un índice dado hasta otro proporcionado.\n",
        "\n",
        "Ya conocemos la sintaxis:\n",
        "\n",
        "* `[inicio:fin]` donde iremos desde el índice `inicio` hasta el índice `fin`-1, y lo haremos de 1 en 1\n",
        "* `[inicio:fin:paso]` donde iremos desde el índice `inicio` hasta el índice `fin`-1, y lo haremos de `paso` en `paso`\n",
        "\n"
      ]
    },
    {
      "cell_type": "markdown",
      "metadata": {
        "id": "xFkU26ZWCoMW"
      },
      "source": [
        "#### Caso unidimensional"
      ]
    },
    {
      "cell_type": "code",
      "execution_count": 21,
      "metadata": {
        "colab": {
          "base_uri": "https://localhost:8080/"
        },
        "id": "WvYZDhcCCFqH",
        "outputId": "ba2a955b-eedf-4ed2-e7fa-381987eeb79d"
      },
      "outputs": [
        {
          "data": {
            "text/plain": [
              "array([9, 8, 7, 6, 5, 4, 3])"
            ]
          },
          "execution_count": 21,
          "metadata": {},
          "output_type": "execute_result"
        }
      ],
      "source": [
        "# Array unidimensional\n",
        "a1 = np.array([9, 8, 7, 6, 5, 4, 3])\n",
        "a1"
      ]
    },
    {
      "cell_type": "code",
      "execution_count": 22,
      "metadata": {
        "colab": {
          "base_uri": "https://localhost:8080/"
        },
        "id": "0FUMtjTQBlnG",
        "outputId": "06fe7b79-db2a-44a3-84b1-7c461fc284d3"
      },
      "outputs": [
        {
          "data": {
            "text/plain": [
              "array([8, 7, 6])"
            ]
          },
          "execution_count": 22,
          "metadata": {},
          "output_type": "execute_result"
        }
      ],
      "source": [
        "# Del segundo elemento al cuarto de 1 en 1\n",
        "a1[1:4]"
      ]
    },
    {
      "cell_type": "code",
      "execution_count": 25,
      "metadata": {
        "colab": {
          "base_uri": "https://localhost:8080/"
        },
        "id": "86U46AZWBzjq",
        "outputId": "6deca302-ecbc-416e-fc50-153ebd54c0f4"
      },
      "outputs": [
        {
          "data": {
            "text/plain": [
              "array([9, 8, 7, 6, 5, 4])"
            ]
          },
          "execution_count": 25,
          "metadata": {},
          "output_type": "execute_result"
        }
      ],
      "source": [
        "# Del primer elemento al sexto de 1 en 1\n",
        "a1[:6]"
      ]
    },
    {
      "cell_type": "code",
      "execution_count": 26,
      "metadata": {
        "colab": {
          "base_uri": "https://localhost:8080/"
        },
        "id": "Wg6tSJFzB5Ep",
        "outputId": "ea081262-92cd-42e1-d9ae-66a48fb4fd82"
      },
      "outputs": [
        {
          "data": {
            "text/plain": [
              "array([7, 6, 5, 4, 3])"
            ]
          },
          "execution_count": 26,
          "metadata": {},
          "output_type": "execute_result"
        }
      ],
      "source": [
        "# Del tercer elemento al último de 1 en 1\n",
        "a1[2:]"
      ]
    },
    {
      "cell_type": "code",
      "execution_count": 27,
      "metadata": {
        "colab": {
          "base_uri": "https://localhost:8080/"
        },
        "id": "ODkKs9RMCslh",
        "outputId": "8e057883-0297-40cd-d505-4f84881702fd"
      },
      "outputs": [
        {
          "data": {
            "text/plain": [
              "array([8, 6, 4])"
            ]
          },
          "execution_count": 27,
          "metadata": {},
          "output_type": "execute_result"
        }
      ],
      "source": [
        "# Del segundo elemento al sexto de 2 en 2\n",
        "a1[1:6:2]"
      ]
    },
    {
      "cell_type": "code",
      "execution_count": 28,
      "metadata": {
        "colab": {
          "base_uri": "https://localhost:8080/"
        },
        "id": "yP_V6COaCS6F",
        "outputId": "3789813f-950f-4730-9fe3-92db39f3f2d1"
      },
      "outputs": [
        {
          "data": {
            "text/plain": [
              "array([9, 7, 5])"
            ]
          },
          "execution_count": 28,
          "metadata": {},
          "output_type": "execute_result"
        }
      ],
      "source": [
        "# Del primer elemento al quinto de 2 en 2\n",
        "a1[:5:2]"
      ]
    },
    {
      "cell_type": "code",
      "execution_count": 29,
      "metadata": {
        "colab": {
          "base_uri": "https://localhost:8080/"
        },
        "id": "AnWBlZvACDld",
        "outputId": "3c847f86-6004-41be-e730-a23760557c52"
      },
      "outputs": [
        {
          "data": {
            "text/plain": [
              "array([7, 4])"
            ]
          },
          "execution_count": 29,
          "metadata": {},
          "output_type": "execute_result"
        }
      ],
      "source": [
        "# Del segundo elemento al último de 3 en 3\n",
        "a1[2::3]"
      ]
    },
    {
      "cell_type": "code",
      "execution_count": 30,
      "metadata": {
        "colab": {
          "base_uri": "https://localhost:8080/"
        },
        "id": "RMaIy9_qCcqr",
        "outputId": "f8e6c7dc-f64e-4029-e2aa-35b81cfbb89e"
      },
      "outputs": [
        {
          "data": {
            "text/plain": [
              "array([9, 5])"
            ]
          },
          "execution_count": 30,
          "metadata": {},
          "output_type": "execute_result"
        }
      ],
      "source": [
        "# Del primer elemento al último de 4 en 4\n",
        "a1[::4]"
      ]
    },
    {
      "cell_type": "markdown",
      "metadata": {
        "id": "kgleaaEIdurF"
      },
      "source": [
        "### Filtrando arrays\n",
        "\n",
        "Filtrar un array implica la selección de elementos de un array existente que satisfagan una condición y crear un nuevo array con dichos elementos.\n",
        "\n",
        "La sintaxis es muy similar al slicing, pero en vez de eso, entre corchetes indicamos una condición booleana. Los elementos que satisfagan la condición serán los que permanezcan, mientras que el resto serán omitidos.\n",
        "\n",
        "Visto de otro modo, la condición crea un array booleano. Aquellas posiciones ocupadas por un `True` serán las contenidas en el array filtrado, mientras que las que estén ocupadas por `False` (porque no satisfacen la condición), serán descartadas."
      ]
    },
    {
      "cell_type": "code",
      "execution_count": 31,
      "metadata": {
        "colab": {
          "base_uri": "https://localhost:8080/"
        },
        "id": "-CCaCh4feKU6",
        "outputId": "3ef681eb-5ea9-436f-d573-fbe754bcd416"
      },
      "outputs": [
        {
          "name": "stdout",
          "output_type": "stream",
          "text": [
            "[4 4]\n"
          ]
        }
      ],
      "source": [
        "a = np.array([4, 3, 2, 3, 4])\n",
        "b = a[a == 4]\n",
        "print(b)"
      ]
    },
    {
      "cell_type": "code",
      "execution_count": 32,
      "metadata": {
        "colab": {
          "base_uri": "https://localhost:8080/"
        },
        "id": "W447Jf6JMRLJ",
        "outputId": "3876eee8-3f2f-40a8-c2a8-11001d3b55bb"
      },
      "outputs": [
        {
          "data": {
            "text/plain": [
              "array([ True, False, False, False,  True])"
            ]
          },
          "execution_count": 32,
          "metadata": {},
          "output_type": "execute_result"
        }
      ],
      "source": [
        "a == 4"
      ]
    },
    {
      "cell_type": "code",
      "execution_count": 33,
      "metadata": {
        "colab": {
          "base_uri": "https://localhost:8080/"
        },
        "id": "t79OKWxXe1nC",
        "outputId": "57e3869a-7c28-4e2f-d7fd-c017252b3a25"
      },
      "outputs": [
        {
          "name": "stdout",
          "output_type": "stream",
          "text": [
            "[4 2 4]\n"
          ]
        }
      ],
      "source": [
        "c = a[a % 2 == 0]\n",
        "print(c)"
      ]
    },
    {
      "cell_type": "code",
      "execution_count": 34,
      "metadata": {
        "colab": {
          "base_uri": "https://localhost:8080/"
        },
        "id": "d6G0E1DCe9Jn",
        "outputId": "ba89c3c0-3b28-4493-a921-453148d4b138"
      },
      "outputs": [
        {
          "name": "stdout",
          "output_type": "stream",
          "text": [
            "[2]\n"
          ]
        }
      ],
      "source": [
        "d = a[a <= 2]\n",
        "print(d)"
      ]
    },
    {
      "cell_type": "markdown",
      "metadata": {
        "id": "bHGmjVXYZNqw"
      },
      "source": [
        "### Arrays y bucles\n",
        "\n",
        "Podemos iterar un array tal cual lo hacíamos con listas:"
      ]
    },
    {
      "cell_type": "markdown",
      "metadata": {
        "id": "_Bpp3rlLaVgE"
      },
      "source": [
        "#### Array 1D"
      ]
    },
    {
      "cell_type": "code",
      "execution_count": 35,
      "metadata": {
        "colab": {
          "base_uri": "https://localhost:8080/"
        },
        "id": "i3Zy7nl0aBj9",
        "outputId": "632c4bc5-767f-4e55-a8d8-a3adfa86de60"
      },
      "outputs": [
        {
          "name": "stdout",
          "output_type": "stream",
          "text": [
            "a\n",
            "b\n",
            "c\n"
          ]
        }
      ],
      "source": [
        "d1 = np.array([\"a\", \"b\", \"c\"])\n",
        "\n",
        "for i in d1:\n",
        "  print(i)"
      ]
    },
    {
      "cell_type": "markdown",
      "metadata": {
        "id": "vZc_vDLoaYab"
      },
      "source": [
        "#### Array 2D"
      ]
    },
    {
      "cell_type": "code",
      "execution_count": 36,
      "metadata": {
        "id": "TciBStXdaaEh"
      },
      "outputs": [],
      "source": [
        "d2 = np.array([[\"a\", \"b\", \"c\"], [1, 2, 3]])"
      ]
    },
    {
      "cell_type": "code",
      "execution_count": 37,
      "metadata": {
        "colab": {
          "base_uri": "https://localhost:8080/"
        },
        "id": "ZZzrgNhHa92Z",
        "outputId": "3f16f79c-aacc-4fb7-c99d-49991c875d68"
      },
      "outputs": [
        {
          "name": "stdout",
          "output_type": "stream",
          "text": [
            "['a' 'b' 'c']\n",
            "['1' '2' '3']\n"
          ]
        }
      ],
      "source": [
        "# Imprimimos los elementos del array 2D\n",
        "for i in d2:\n",
        "  print(i)"
      ]
    },
    {
      "cell_type": "code",
      "execution_count": 38,
      "metadata": {
        "colab": {
          "base_uri": "https://localhost:8080/"
        },
        "id": "Da4Gcojdag6s",
        "outputId": "3966f026-3d6b-4b4f-af00-07591ec244af"
      },
      "outputs": [
        {
          "name": "stdout",
          "output_type": "stream",
          "text": [
            "a\n",
            "b\n",
            "c\n",
            "1\n",
            "2\n",
            "3\n"
          ]
        }
      ],
      "source": [
        "# Imprimimos los elementos de los arrays 1D\n",
        "for d1 in d2:\n",
        "  for i in d1:\n",
        "    print(i)"
      ]
    },
    {
      "cell_type": "markdown",
      "metadata": {
        "id": "KAQOhCAIauCH"
      },
      "source": [
        "#### Array 3D"
      ]
    },
    {
      "cell_type": "code",
      "execution_count": 39,
      "metadata": {},
      "outputs": [],
      "source": [
        "d3 = np.array([[\"a\", \"b\", \"c\"], [1, 2, 3],[4,5,6]])"
      ]
    },
    {
      "cell_type": "code",
      "execution_count": 40,
      "metadata": {
        "colab": {
          "base_uri": "https://localhost:8080/"
        },
        "id": "YbRGbkQsbPUC",
        "outputId": "01069a39-5073-4ada-daf1-669aa5182dd1"
      },
      "outputs": [
        {
          "name": "stdout",
          "output_type": "stream",
          "text": [
            "['a' 'b' 'c']\n",
            "['1' '2' '3']\n",
            "['4' '5' '6']\n"
          ]
        }
      ],
      "source": [
        "# Imprimimos los elementos del array 3D\n",
        "for d2 in d3:\n",
        "  print(d2)"
      ]
    },
    {
      "cell_type": "code",
      "execution_count": 41,
      "metadata": {
        "colab": {
          "base_uri": "https://localhost:8080/"
        },
        "id": "uLpUwyrIbWqt",
        "outputId": "17c194e0-4b3c-48e4-edc7-6aaa1de9d63d"
      },
      "outputs": [
        {
          "name": "stdout",
          "output_type": "stream",
          "text": [
            "a\n",
            "b\n",
            "c\n",
            "1\n",
            "2\n",
            "3\n",
            "4\n",
            "5\n",
            "6\n"
          ]
        }
      ],
      "source": [
        "# Imprimimos los elementos de los arrays 2D\n",
        "for d2 in d3:\n",
        "  for d1 in d2:\n",
        "    print(d1)"
      ]
    },
    {
      "cell_type": "code",
      "execution_count": 42,
      "metadata": {
        "colab": {
          "base_uri": "https://localhost:8080/"
        },
        "id": "Yao3BMyKbeTP",
        "outputId": "a0a2bd29-be75-4273-f815-3c767bac20eb"
      },
      "outputs": [
        {
          "name": "stdout",
          "output_type": "stream",
          "text": [
            "a\n",
            "b\n",
            "c\n",
            "1\n",
            "2\n",
            "3\n",
            "4\n",
            "5\n",
            "6\n"
          ]
        }
      ],
      "source": [
        "# Imprimimos los elementos de los arrays 1D\n",
        "for d2 in d3:\n",
        "  for d1 in d2:\n",
        "    for i in d1:\n",
        "      print(i)"
      ]
    },
    {
      "cell_type": "markdown",
      "metadata": {
        "id": "M7n3UfDobqwJ"
      },
      "source": [
        "Como vemos, cada vez que aumentamos la dimensión del array, hay que anidar bucles `for` para imprimir cada uno de los elementos de los arrays 1D,  pero dado un array con dimensión suficientemente grande este proceso se vuelve tedioso\n",
        "\n",
        "Como alternativa podríamos hacer un reshape del array multidimensional a un array unidimensional"
      ]
    },
    {
      "cell_type": "code",
      "execution_count": 43,
      "metadata": {
        "colab": {
          "base_uri": "https://localhost:8080/"
        },
        "id": "15CPBbNtcWhh",
        "outputId": "e34c493c-b6e1-412b-9359-3aa6adbfaac3"
      },
      "outputs": [
        {
          "name": "stdout",
          "output_type": "stream",
          "text": [
            "a\n",
            "b\n",
            "c\n",
            "1\n",
            "2\n",
            "3\n",
            "4\n",
            "5\n",
            "6\n"
          ]
        }
      ],
      "source": [
        "for i in d3.reshape(-1):\n",
        "  print(i)"
      ]
    },
    {
      "cell_type": "markdown",
      "metadata": {
        "id": "i75xJF3scww9"
      },
      "source": [
        "#### El método `.nditer()`"
      ]
    },
    {
      "cell_type": "markdown",
      "metadata": {
        "id": "gBt75f7_caWa"
      },
      "source": [
        "Otra alternativa para evitarnos tantas líneas de código y tanto coste computacional (reshape), tenemos el método `.nditer()`, que nos crea un iterable el cual nos permite imprimir todos los elementos de los arrays 1D, tal cuál hemos estado obteniendo hasta ahora:"
      ]
    },
    {
      "cell_type": "code",
      "execution_count": 44,
      "metadata": {
        "colab": {
          "base_uri": "https://localhost:8080/"
        },
        "id": "LAmM9rLFb-zH",
        "outputId": "94c28c97-fca3-42d6-9b6a-4cbc62aa0ca1"
      },
      "outputs": [
        {
          "name": "stdout",
          "output_type": "stream",
          "text": [
            "a\n",
            "b\n",
            "c\n",
            "1\n",
            "2\n",
            "3\n",
            "4\n",
            "5\n",
            "6\n"
          ]
        }
      ],
      "source": [
        "for i in np.nditer(d3):\n",
        "  print(i)"
      ]
    },
    {
      "cell_type": "markdown",
      "metadata": {
        "id": "cJnDPVe8eaIr"
      },
      "source": [
        "#### El método `.ndenumerate()`\n",
        "\n",
        "A veces necesitamos el índice correspondiente al elemento durante la iteración. El método `.ndenumerate()` nos proporciona dicha información.\n",
        "\n"
      ]
    },
    {
      "cell_type": "code",
      "execution_count": 46,
      "metadata": {
        "colab": {
          "base_uri": "https://localhost:8080/"
        },
        "id": "Daqw8nl2fEtI",
        "outputId": "750c36c4-83e4-4021-f89f-cd7b0e143e29"
      },
      "outputs": [
        {
          "name": "stdout",
          "output_type": "stream",
          "text": [
            "Índice: (0,) Elemento: a\n",
            "Índice: (1,) Elemento: b\n",
            "Índice: (2,) Elemento: c\n"
          ]
        }
      ],
      "source": [
        "d1 = np.array([\"a\", \"b\", \"c\"])\n",
        "\n",
        "for idx, i in np.ndenumerate(d1):\n",
        "  print(\"Índice:\", idx,\"Elemento:\", i)"
      ]
    },
    {
      "cell_type": "code",
      "execution_count": 47,
      "metadata": {
        "colab": {
          "base_uri": "https://localhost:8080/"
        },
        "id": "1f_KlfYqexo8",
        "outputId": "9c5c6b27-82c5-4433-a8d8-531359c6f52e"
      },
      "outputs": [
        {
          "name": "stdout",
          "output_type": "stream",
          "text": [
            "Índice: (0, 0) Elemento: 1\n",
            "Índice: (0, 1) Elemento: 2\n",
            "Índice: (1, 0) Elemento: 3\n",
            "Índice: (1, 1) Elemento: 4\n",
            "Índice: (2, 0) Elemento: 5\n",
            "Índice: (2, 1) Elemento: 6\n"
          ]
        }
      ],
      "source": [
        "d2 = np.array([[1, 2], [3, 4], [5, 6]])\n",
        "\n",
        "for idx, i in np.ndenumerate(d2):\n",
        "  print(\"Índice:\", idx,\"Elemento:\", i)"
      ]
    },
    {
      "cell_type": "code",
      "execution_count": 48,
      "metadata": {
        "colab": {
          "base_uri": "https://localhost:8080/"
        },
        "id": "sqRgpIpYfFav",
        "outputId": "6e979145-a17a-4950-e9f1-9ec6fc8eeb03"
      },
      "outputs": [
        {
          "name": "stdout",
          "output_type": "stream",
          "text": [
            "Índice: (0, 0, 0) Elemento: a\n",
            "Índice: (0, 0, 1) Elemento: b\n",
            "Índice: (0, 0, 2) Elemento: c\n",
            "Índice: (0, 0, 3) Elemento: d\n",
            "Índice: (0, 1, 0) Elemento: e\n",
            "Índice: (0, 1, 1) Elemento: f\n",
            "Índice: (0, 1, 2) Elemento: g\n",
            "Índice: (0, 1, 3) Elemento: h\n",
            "Índice: (1, 0, 0) Elemento: 1\n",
            "Índice: (1, 0, 1) Elemento: 2\n",
            "Índice: (1, 0, 2) Elemento: 3\n",
            "Índice: (1, 0, 3) Elemento: 4\n",
            "Índice: (1, 1, 0) Elemento: 5\n",
            "Índice: (1, 1, 1) Elemento: 6\n",
            "Índice: (1, 1, 2) Elemento: 7\n",
            "Índice: (1, 1, 3) Elemento: 8\n"
          ]
        }
      ],
      "source": [
        "d3 = np.array([[[\"a\", \"b\", \"c\", \"d\"], [\"e\", \"f\", \"g\", \"h\"]], [[1, 2, 3, 4], [5, 6, 7, 8]]])\n",
        "\n",
        "for idx, i in np.ndenumerate(d3):\n",
        "  print(\"Índice:\", idx,\"Elemento:\", i)"
      ]
    },
    {
      "cell_type": "markdown",
      "metadata": {
        "id": "AkafJcV-juN0"
      },
      "source": [
        "### Concatenación de arrays"
      ]
    },
    {
      "cell_type": "markdown",
      "metadata": {
        "id": "zFsWd91SzQ3Z"
      },
      "source": [
        "Para concatenar arrays, es decir, juntar dos o más arrays en un único array, usamos el método `.concatenate()`"
      ]
    },
    {
      "cell_type": "code",
      "execution_count": 49,
      "metadata": {
        "colab": {
          "base_uri": "https://localhost:8080/"
        },
        "id": "EkrUswDbzaCy",
        "outputId": "9ffacf8b-2d0e-40fa-8158-99fbbf53231c"
      },
      "outputs": [
        {
          "name": "stdout",
          "output_type": "stream",
          "text": [
            "[-3 -2 -1  1  2  3]\n"
          ]
        }
      ],
      "source": [
        "# Conatenamos arrays 1D\n",
        "a1 = np.array([-3, -2, -1])\n",
        "a2 = np.array([1, 2, 3])\n",
        "a = np.concatenate((a1, a2))\n",
        "print(a)"
      ]
    },
    {
      "cell_type": "code",
      "execution_count": 54,
      "metadata": {
        "colab": {
          "base_uri": "https://localhost:8080/"
        },
        "id": "Ka_kv89uz1RI",
        "outputId": "18a55d4d-3eaf-4100-b3b5-1ac92449c7cc"
      },
      "outputs": [
        {
          "name": "stdout",
          "output_type": "stream",
          "text": [
            "[[-6 -5]\n",
            " [-4 -3]\n",
            " [-2 -1]]\n",
            "axis = 0 nos devuelve\n",
            " [[-6 -5]\n",
            " [-4 -3]\n",
            " [-2 -1]\n",
            " [ 1  2]\n",
            " [ 3  4]\n",
            " [ 5  6]]\n",
            "\n",
            "axis = 1 nos devuelve\n",
            " [[-6 -5  1  2]\n",
            " [-4 -3  3  4]\n",
            " [-2 -1  5  6]]\n"
          ]
        }
      ],
      "source": [
        "# Concatenamos arrays 2D\n",
        "b1 = np.array([[-6, -5], [-4, -3], [-2, -1]])\n",
        "b2 = np.array([[1, 2], [3, 4], [5, 6]])\n",
        "print(b1)\n",
        "# Con axis = 0\n",
        "b = np.concatenate((b1, b2), axis = 0)\n",
        "print(\"axis = 0 nos devuelve\\n\", b)\n",
        "\n",
        "# Con axis = 1\n",
        "b = np.concatenate((b1, b2), axis = 1)\n",
        "print(\"\\naxis = 1 nos devuelve\\n\", b)"
      ]
    },
    {
      "cell_type": "markdown",
      "metadata": {
        "id": "mxbU_Lqghkzk"
      },
      "source": [
        "### Buscando elementos en un array\n",
        "\n",
        "Podemos buscar elementos en concreto de un array con el método `.where()` que nos devolverá un array de índices en los cuales se encuentra el elemento que estamos buscando.\n",
        "\n",
        "Por ejemplo, dado el siguiente array 1D `x`, busquemos en qué posiciones éste toma el valor 0. "
      ]
    },
    {
      "cell_type": "code",
      "execution_count": 55,
      "metadata": {
        "colab": {
          "base_uri": "https://localhost:8080/"
        },
        "id": "Vyp-hqXshy9y",
        "outputId": "e90b90a7-3afe-475c-86e8-13a63c6a12d8"
      },
      "outputs": [
        {
          "name": "stdout",
          "output_type": "stream",
          "text": [
            "(array([1, 3, 5, 7], dtype=int64),)\n"
          ]
        }
      ],
      "source": [
        "x = np.array([1, 0, -1, 0, 2, 0, -2, 0])\n",
        "idx0 = np.where(x == 0) \n",
        "\n",
        "print(idx0)"
      ]
    },
    {
      "cell_type": "markdown",
      "metadata": {
        "id": "Ljmv3UfSiD9q"
      },
      "source": [
        "Como resultado hemos obtenido que en los índices 1, 3, 5 y 7 del array `x` se toma el valor 0."
      ]
    },
    {
      "cell_type": "markdown",
      "metadata": {
        "id": "KAEldycbiOhd"
      },
      "source": [
        "**Observación.** Podemos poner cualquier tipo de condición a modo de argumento del método `.where()`.\n",
        "\n",
        "Dado el siguiente array 1D `y`, busquemos en qué índices se toman valores pares."
      ]
    },
    {
      "cell_type": "code",
      "execution_count": 84,
      "metadata": {
        "colab": {
          "base_uri": "https://localhost:8080/"
        },
        "id": "1QZcd8iPiCSr",
        "outputId": "f906e5e6-83c6-484e-a9ec-b6f89cf85cfd"
      },
      "outputs": [
        {
          "name": "stdout",
          "output_type": "stream",
          "text": [
            "(array([0, 2, 4, 6], dtype=int64),)\n"
          ]
        }
      ],
      "source": [
        "y = np.array([2, 3, 6, 7, 14, 15, 30, 31])\n",
        "z = np.where(y % 2 == 0)\n",
        "\n",
        "print(z)"
      ]
    },
    {
      "cell_type": "markdown",
      "metadata": {
        "id": "OnUtcdCwXb3W"
      },
      "source": [
        "### Ordenando arrays\n",
        "\n",
        "Ordenar arrays implica reordenar los elementos siguiendo una secuencia ordenada.\n",
        "\n",
        "A su vez, una secuencia ordenada es cualquier sucesión que tiene un orden ciuos elementos siguen, como por ejemplo el orden alfabético o numérico, tanto ascendente como descendente.\n",
        "\n",
        "Para ordenar los elementos de un array, disponemos del método `.sort()`"
      ]
    },
    {
      "cell_type": "code",
      "execution_count": 85,
      "metadata": {
        "colab": {
          "base_uri": "https://localhost:8080/"
        },
        "id": "JKIQN9EnXzo-",
        "outputId": "bd0f180c-6ace-4108-8776-e31e74bf3d56"
      },
      "outputs": [
        {
          "name": "stdout",
          "output_type": "stream",
          "text": [
            "['a' 'c' 'k' 'm' 'z']\n"
          ]
        }
      ],
      "source": [
        "x = np.array([\"c\", \"m\", \"k\", \"z\", \"a\"])\n",
        "print(np.sort(x))"
      ]
    },
    {
      "cell_type": "code",
      "execution_count": 86,
      "metadata": {
        "colab": {
          "base_uri": "https://localhost:8080/"
        },
        "id": "QfpVtbmWX7hm",
        "outputId": "d6c52236-1583-4ff7-8786-713b2194e162"
      },
      "outputs": [
        {
          "name": "stdout",
          "output_type": "stream",
          "text": [
            "['armadillo' 'caracol' 'escarabajo' 'mariposa' 'perezoso']\n"
          ]
        }
      ],
      "source": [
        "x = np.array([\"caracol\", \"mariposa\", \"escarabajo\", \"perezoso\", \"armadillo\"])\n",
        "print(np.sort(x))"
      ]
    },
    {
      "cell_type": "code",
      "execution_count": 87,
      "metadata": {
        "colab": {
          "base_uri": "https://localhost:8080/"
        },
        "id": "MEZimUTQYFbZ",
        "outputId": "cecee5f3-e2fa-49a9-96c6-fde0cc9f2bcf"
      },
      "outputs": [
        {
          "name": "stdout",
          "output_type": "stream",
          "text": [
            "[-10  -5  -2   0   2   5  10]\n"
          ]
        }
      ],
      "source": [
        "x = np.array([2, -2, 5, -5, 10, -10, 0])\n",
        "print(np.sort(x))"
      ]
    },
    {
      "cell_type": "code",
      "execution_count": 88,
      "metadata": {
        "colab": {
          "base_uri": "https://localhost:8080/"
        },
        "id": "S3As5IdHYMHJ",
        "outputId": "6f19e1df-3d0c-465f-9f09-26b1c5667d19"
      },
      "outputs": [
        {
          "name": "stdout",
          "output_type": "stream",
          "text": [
            "[-10.6  -5.7  -2.3   0.4   2.5   5.1  10.9]\n"
          ]
        }
      ],
      "source": [
        "x = np.array([2.5, -2.3, 5.1, -5.7, 10.9, -10.6, 0.4])\n",
        "print(np.sort(x))"
      ]
    },
    {
      "cell_type": "code",
      "execution_count": 89,
      "metadata": {
        "colab": {
          "base_uri": "https://localhost:8080/"
        },
        "id": "yW8PhfBdYgUS",
        "outputId": "21cf94b6-d252-4e77-c390-35695190ceb8"
      },
      "outputs": [
        {
          "name": "stdout",
          "output_type": "stream",
          "text": [
            "[False False  True  True]\n"
          ]
        }
      ],
      "source": [
        "x = np.array([True, False, True, False])\n",
        "print(np.sort(x))"
      ]
    },
    {
      "cell_type": "markdown",
      "metadata": {},
      "source": [
        "---"
      ]
    },
    {
      "cell_type": "markdown",
      "metadata": {},
      "source": [
        "De manera similar a como se hacía con range, NumPy también cuenta con un método que permite crear un array con un rango de elementos.np.arange()"
      ]
    },
    {
      "cell_type": "code",
      "execution_count": 92,
      "metadata": {},
      "outputs": [
        {
          "name": "stdout",
          "output_type": "stream",
          "text": [
            "[0 1 2 3 4 5 6 7 8 9]\n",
            "[ 1  2  3  4  5  6  7  8  9 10]\n",
            "[ 0  2  4  6  8 10]\n"
          ]
        }
      ],
      "source": [
        "a = np.arange(10)\n",
        "b = np.arange(1, 11)\n",
        "c = np.arange(0, 11, 2)\n",
        "\n",
        "print(a)\n",
        "print(b)\n",
        "print(c)"
      ]
    },
    {
      "cell_type": "code",
      "execution_count": 93,
      "metadata": {},
      "outputs": [
        {
          "name": "stdout",
          "output_type": "stream",
          "text": [
            "[0, 1, 2, 3, 4, 5, 6, 7, 8, 9]\n",
            "[1, 2, 3, 4, 5, 6, 7, 8, 9, 10]\n",
            "[0, 2, 4, 6, 8, 10]\n"
          ]
        }
      ],
      "source": [
        "print(list(range(10)))  \n",
        "print(list(range(1, 11)))\n",
        "print(list(range(0, 11, 2)))"
      ]
    },
    {
      "cell_type": "markdown",
      "metadata": {},
      "source": [
        "También se podría usar np.linspace() para crerar un array con valores que están espacias en un intervalo establecido.\n",
        "\n",
        "El primer y segundo parámetro indicar el primer y último elemento del array respectivamente mientras que el tercer parámetro indica la cantidad de elementos que tendrá el array."
      ]
    },
    {
      "cell_type": "code",
      "execution_count": 111,
      "metadata": {},
      "outputs": [
        {
          "name": "stdout",
          "output_type": "stream",
          "text": [
            "[  0.    0.5   1.    1.5   2.    2.5   3.    3.5   4.    4.5   5.    5.5\n",
            "   6.    6.5   7.    7.5   8.    8.5   9.    9.5  10.   10.5  11.   11.5\n",
            "  12.   12.5  13.   13.5  14.   14.5  15.   15.5  16.   16.5  17.   17.5\n",
            "  18.   18.5  19.   19.5  20.   20.5  21.   21.5  22.   22.5  23.   23.5\n",
            "  24.   24.5  25.   25.5  26.   26.5  27.   27.5  28.   28.5  29.   29.5\n",
            "  30.   30.5  31.   31.5  32.   32.5  33.   33.5  34.   34.5  35.   35.5\n",
            "  36.   36.5  37.   37.5  38.   38.5  39.   39.5  40.   40.5  41.   41.5\n",
            "  42.   42.5  43.   43.5  44.   44.5  45.   45.5  46.   46.5  47.   47.5\n",
            "  48.   48.5  49.   49.5  50.   50.5  51.   51.5  52.   52.5  53.   53.5\n",
            "  54.   54.5  55.   55.5  56.   56.5  57.   57.5  58.   58.5  59.   59.5\n",
            "  60.   60.5  61.   61.5  62.   62.5  63.   63.5  64.   64.5  65.   65.5\n",
            "  66.   66.5  67.   67.5  68.   68.5  69.   69.5  70.   70.5  71.   71.5\n",
            "  72.   72.5  73.   73.5  74.   74.5  75.   75.5  76.   76.5  77.   77.5\n",
            "  78.   78.5  79.   79.5  80.   80.5  81.   81.5  82.   82.5  83.   83.5\n",
            "  84.   84.5  85.   85.5  86.   86.5  87.   87.5  88.   88.5  89.   89.5\n",
            "  90.   90.5  91.   91.5  92.   92.5  93.   93.5  94.   94.5  95.   95.5\n",
            "  96.   96.5  97.   97.5  98.   98.5  99.   99.5 100. ]\n"
          ]
        }
      ],
      "source": [
        "a = np.linspace(0,100, num = 201)\n",
        "print(a)"
      ]
    },
    {
      "cell_type": "code",
      "execution_count": 113,
      "metadata": {},
      "outputs": [
        {
          "name": "stdout",
          "output_type": "stream",
          "text": [
            "[  0.    0.5   1.    1.5   2.    2.5   3.    3.5   4.    4.5   5.    5.5\n",
            "   6.    6.5   7.    7.5   8.    8.5   9.    9.5  10.   10.5  11.   11.5\n",
            "  12.   12.5  13.   13.5  14.   14.5  15.   15.5  16.   16.5  17.   17.5\n",
            "  18.   18.5  19.   19.5  20.   20.5  21.   21.5  22.   22.5  23.   23.5\n",
            "  24.   24.5  25.   25.5  26.   26.5  27.   27.5  28.   28.5  29.   29.5\n",
            "  30.   30.5  31.   31.5  32.   32.5  33.   33.5  34.   34.5  35.   35.5\n",
            "  36.   36.5  37.   37.5  38.   38.5  39.   39.5  40.   40.5  41.   41.5\n",
            "  42.   42.5  43.   43.5  44.   44.5  45.   45.5  46.   46.5  47.   47.5\n",
            "  48.   48.5  49.   49.5  50.   50.5  51.   51.5  52.   52.5  53.   53.5\n",
            "  54.   54.5  55.   55.5  56.   56.5  57.   57.5  58.   58.5  59.   59.5\n",
            "  60.   60.5  61.   61.5  62.   62.5  63.   63.5  64.   64.5  65.   65.5\n",
            "  66.   66.5  67.   67.5  68.   68.5  69.   69.5  70.   70.5  71.   71.5\n",
            "  72.   72.5  73.   73.5  74.   74.5  75.   75.5  76.   76.5  77.   77.5\n",
            "  78.   78.5  79.   79.5  80.   80.5  81.   81.5  82.   82.5  83.   83.5\n",
            "  84.   84.5  85.   85.5  86.   86.5  87.   87.5  88.   88.5  89.   89.5\n",
            "  90.   90.5  91.   91.5  92.   92.5  93.   93.5  94.   94.5  95.   95.5\n",
            "  96.   96.5  97.   97.5  98.   98.5  99.   99.5 100. ]\n"
          ]
        }
      ],
      "source": [
        "c = np.arange(0, 100.5, 0.5)\n",
        "print(c)\n"
      ]
    },
    {
      "cell_type": "markdown",
      "metadata": {
        "id": "NHmbVPwUfqJo"
      },
      "source": [
        "### Elementos aleatorios en `numpy`\n",
        "\n",
        "**Número aleatorio.** Un número aleatorio singifica que se trata de un número que no puede ser predicho lógicamente.\n",
        "\n",
        "**¡Cuidado!** No hay que confundir número aleatorio con que se genere un número diferente cada vez que ejecutemos.\n",
        "\n",
        "Como los ordenadores trabajan mediante algoritmos, un programa destinado a generar números aleatorios implica que los números no serán realmente aleatorios. Los números aleatorios generados mediante un algoritmo son conocidos como **números pseudoaleatorios**.\n",
        "\n",
        "En este apartado trabajaremos con números pseudoaleatorios y veremos como generarlos.\n",
        "\n"
      ]
    },
    {
      "cell_type": "markdown",
      "metadata": {
        "id": "9WUzoMhKg9eB"
      },
      "source": [
        "#### El módulo `random`\n",
        "\n",
        "`numpy` tiene el módulo `random` dedicado a trabajar con números aleatorios\n",
        "\n",
        "Para generar números enteros aleatorios, usamos el método `.randint()`\n"
      ]
    },
    {
      "cell_type": "code",
      "execution_count": 115,
      "metadata": {
        "id": "aRCcROTtbKz5"
      },
      "outputs": [],
      "source": [
        "from numpy import random"
      ]
    },
    {
      "cell_type": "code",
      "execution_count": 129,
      "metadata": {
        "colab": {
          "base_uri": "https://localhost:8080/"
        },
        "id": "bFN7O7oHhJin",
        "outputId": "4a346679-e42c-4922-d79c-38d7730f90b0"
      },
      "outputs": [
        {
          "name": "stdout",
          "output_type": "stream",
          "text": [
            "12\n"
          ]
        }
      ],
      "source": [
        "# Generamos un número entero aleatorio del 1 al 20\n",
        "n = random.randint(1, 20)\n",
        "print(n)"
      ]
    },
    {
      "cell_type": "code",
      "execution_count": 142,
      "metadata": {
        "colab": {
          "base_uri": "https://localhost:8080/"
        },
        "id": "nsUMXOAphVWB",
        "outputId": "0a4ed194-ca7b-40ea-d337-dbb176adcf7f"
      },
      "outputs": [
        {
          "name": "stdout",
          "output_type": "stream",
          "text": [
            "6\n"
          ]
        }
      ],
      "source": [
        "# Generamos un número entero aleatorio del 0 al 10\n",
        "m = random.randint(10)\n",
        "print(m)"
      ]
    },
    {
      "cell_type": "markdown",
      "metadata": {
        "id": "NRpnodAkhjDo"
      },
      "source": [
        "Para generar números reales aleatorios dentro del intervalo $[0, 1]$, usamos el método `.rand()`"
      ]
    },
    {
      "cell_type": "code",
      "execution_count": 211,
      "metadata": {
        "colab": {
          "base_uri": "https://localhost:8080/"
        },
        "id": "ZONsA67fharJ",
        "outputId": "0bbc8937-7aeb-4e7e-8022-63dc4a33cf42"
      },
      "outputs": [
        {
          "name": "stdout",
          "output_type": "stream",
          "text": [
            "0.9582654491680295\n"
          ]
        }
      ],
      "source": [
        "# Generamos un número real aleatorio entre el 0 y el 1\n",
        "x = random.rand()\n",
        "print(x)"
      ]
    },
    {
      "cell_type": "markdown",
      "metadata": {
        "id": "-N1BS6noiFdf"
      },
      "source": [
        "#### Arrays aleatorios\n",
        "\n",
        "Podemos generar arrays aleatorios tanto con el método `.randint()` como con el método `.rand()`"
      ]
    },
    {
      "cell_type": "code",
      "execution_count": 218,
      "metadata": {
        "colab": {
          "base_uri": "https://localhost:8080/"
        },
        "id": "_2aM6VEZh214",
        "outputId": "56991ef2-bc2a-4a5e-bc95-db9f2b315721"
      },
      "outputs": [
        {
          "name": "stdout",
          "output_type": "stream",
          "text": [
            "[77 32 24 31 50]\n"
          ]
        }
      ],
      "source": [
        "# Generamos un array 1D de 5 elementos enteros aleatorios\n",
        "a = random.randint(100, size = 5)\n",
        "print(a)"
      ]
    },
    {
      "cell_type": "code",
      "execution_count": 230,
      "metadata": {},
      "outputs": [
        {
          "name": "stdout",
          "output_type": "stream",
          "text": [
            "[65 91 86 90 90]\n"
          ]
        }
      ],
      "source": [
        "a = random.randint(50, 100, size = 5)\n",
        "print(a)"
      ]
    },
    {
      "cell_type": "code",
      "execution_count": 254,
      "metadata": {
        "colab": {
          "base_uri": "https://localhost:8080/"
        },
        "id": "ulnO_Cvwib5l",
        "outputId": "a76e8a09-452f-4f4c-d2fb-1d7eccb1d2f0"
      },
      "outputs": [
        {
          "name": "stdout",
          "output_type": "stream",
          "text": [
            "[0.62801946 0.46974226 0.42933373]\n"
          ]
        }
      ],
      "source": [
        "# Generamos un array 1D de 3 elementos reales aleatorios\n",
        "b = random.rand(3)\n",
        "print(b)"
      ]
    },
    {
      "cell_type": "code",
      "execution_count": 303,
      "metadata": {
        "colab": {
          "base_uri": "https://localhost:8080/"
        },
        "id": "O6-11x2fiifb",
        "outputId": "270555af-1d77-4d73-fc2f-c257a9f30da4"
      },
      "outputs": [
        {
          "name": "stdout",
          "output_type": "stream",
          "text": [
            "[[31 13 44 25]\n",
            " [34 33  9 15]\n",
            " [ 9 38 43 25]\n",
            " [ 3 44 43 15]\n",
            " [42  0 17 45]]\n"
          ]
        }
      ],
      "source": [
        "# Generamos un array 2D de 5 arrays 1D cada uno con 4 enteros aleatorios\n",
        "c = random.randint(50, size = (5, 4))\n",
        "print(c)"
      ]
    },
    {
      "cell_type": "code",
      "execution_count": 336,
      "metadata": {
        "colab": {
          "base_uri": "https://localhost:8080/"
        },
        "id": "iXoNyurdisZn",
        "outputId": "0f8ac8c8-4ca3-4f1f-de67-d039251a2cc8"
      },
      "outputs": [
        {
          "name": "stdout",
          "output_type": "stream",
          "text": [
            "[[[0.50035412 0.39612592 0.22690447]\n",
            "  [0.10980757 0.11949833 0.89952319]\n",
            "  [0.73522563 0.94663065 0.83105085]\n",
            "  [0.47577977 0.28790333 0.8481363 ]]\n",
            "\n",
            " [[0.85503373 0.27071951 0.31260277]\n",
            "  [0.62917433 0.89422595 0.12885321]\n",
            "  [0.85610162 0.944144   0.97690381]\n",
            "  [0.61878291 0.95710768 0.73790162]]]\n"
          ]
        }
      ],
      "source": [
        "# Generamos un array 3D de 2 arrays 2D cada uno con 4 arrays 1D\n",
        "#   cada uno con 3 reales aleatorios\n",
        "d = random.rand(2, 4, 3)\n",
        "print(d)"
      ]
    },
    {
      "cell_type": "markdown",
      "metadata": {
        "id": "Mm_4umkJjI_-"
      },
      "source": [
        "#### Elegir un elemento aleatorio de un array\n",
        "\n",
        "Dado un array, podemos elegir aleatoriamente un elemento suyo con el método `.choice()`"
      ]
    },
    {
      "cell_type": "code",
      "execution_count": 343,
      "metadata": {
        "colab": {
          "base_uri": "https://localhost:8080/"
        },
        "id": "jZTvsIL0jA_V",
        "outputId": "585013fb-2aed-4574-cf7f-73e351f3970c"
      },
      "outputs": [
        {
          "name": "stdout",
          "output_type": "stream",
          "text": [
            "5\n"
          ]
        }
      ],
      "source": [
        "x = np.array([1, 2, 3, 4, 5, -5, -4, -3, -2, -1])\n",
        "print(random.choice(x))"
      ]
    },
    {
      "cell_type": "markdown",
      "metadata": {
        "id": "yJrriJDgjh-r"
      },
      "source": [
        "El método `.choice()` también consta del parámetro `size`, con lo cual podemos generar un array aleatorio con los elementos de un array dado:"
      ]
    },
    {
      "cell_type": "code",
      "execution_count": 344,
      "metadata": {
        "colab": {
          "base_uri": "https://localhost:8080/"
        },
        "id": "Zaq-KcLHjbjP",
        "outputId": "ae4c5449-beb6-436c-f8a9-41b98637042e"
      },
      "outputs": [
        {
          "name": "stdout",
          "output_type": "stream",
          "text": [
            "[[ 2 -2  1 -2 -1  4]\n",
            " [-3 -3  2 -2 -3 -2]\n",
            " [-3 -1  2  5  5  5]]\n"
          ]
        }
      ],
      "source": [
        "print(random.choice(x, size = (3, 6)))"
      ]
    },
    {
      "cell_type": "markdown",
      "metadata": {
        "id": "zbOew4_Ij7lH"
      },
      "source": [
        "**¡Cuidado!** El método `.choice()` solamente toma como parámetro arrays unidimensionales"
      ]
    },
    {
      "cell_type": "markdown",
      "metadata": {
        "id": "STDkSuc9lE3F"
      },
      "source": [
        "Existe otro parámetro del método `.choice()` que nos permite modificar las probabilidades de cada elemento. Éste es el parámetro `p`, al que le tendremos que proporcionar una lista de probabilidades (todos los elementos deben ser menores o iguales a 1 y la suma de todos ellos debe ser 1).\n",
        "\n",
        "**Observación.** Por defecto, todos los elementos son equiprobables, es decir, tienen la misma probabilidad que es $\\frac{1}{n}$, siendo $n$ el número de elementos del array."
      ]
    },
    {
      "cell_type": "code",
      "execution_count": 345,
      "metadata": {
        "colab": {
          "base_uri": "https://localhost:8080/"
        },
        "id": "oUK1Bv-rlXm7",
        "outputId": "8998dc6f-b056-416c-d8da-d66602639865"
      },
      "outputs": [
        {
          "name": "stdout",
          "output_type": "stream",
          "text": [
            "[[ 2  1 -5  5 -1  2]\n",
            " [-1  5 -3 -4  2 -3]]\n"
          ]
        }
      ],
      "source": [
        "x = np.array([1, 2, 3, 4, 5, -5, -4, -3, -2, -1])\n",
        "print(random.choice(x, \n",
        "                    p = [0.2, 0.2, 0.05, 0.05, 0.05, 0.05, 0.1, 0.1, 0.05, 0.15],\n",
        "                    size = (2, 6)))"
      ]
    },
    {
      "cell_type": "markdown",
      "metadata": {
        "id": "BtCUS1vgmBCr"
      },
      "source": [
        "se ha generado un array 2D con 2 arrays 1D cada uno con 6 elementos, donde las probabilidades para los elementos del array original son:\n",
        "\n",
        "* Los elementos `1` y `2` tienen probabilidad 0.2 de salir\n",
        "* El elemento `-1` tiene probabilidad 0.15\n",
        "* Los elementos `-4` y `-3` tienen probabilidad 0.1 de salir\n",
        "* Los elementos `3`, `4`, `5`, `6` y `-2` tienen probabilidad 0.05\n",
        "\n",
        "Todas las probabilidades se encuentran en el intervalo $[0, 1]$ y si las sumamos dan 1."
      ]
    },
    {
      "cell_type": "markdown",
      "metadata": {
        "id": "t4hsNgnim2Lc"
      },
      "source": [
        "#### Permutaciones aleatorias\n",
        "\n",
        "**Permutación.** Una permutación de un array se refiere a la reordenación de sus elementos.\n",
        "\n",
        "El módulo `random` de `numpy` nos proporciona dos métodos para crear permutaciones aleatorias de un array dado:\n",
        "\n",
        "* `.shuffle()` modifica el array original\n",
        "* `.permutation()` que crea una copia\n"
      ]
    },
    {
      "cell_type": "code",
      "execution_count": 368,
      "metadata": {
        "colab": {
          "base_uri": "https://localhost:8080/"
        },
        "id": "c6JyERwfl_R6",
        "outputId": "bd089c5a-585a-4a76-92dc-31ea4cab9b67"
      },
      "outputs": [
        {
          "name": "stdout",
          "output_type": "stream",
          "text": [
            "Array original permutado: [4 1 2 3]\n"
          ]
        }
      ],
      "source": [
        "a = np.array([1, 2, 3, 4])\n",
        "random.shuffle(a)\n",
        "\n",
        "print(\"Array original permutado:\", a)"
      ]
    },
    {
      "cell_type": "code",
      "execution_count": 369,
      "metadata": {
        "colab": {
          "base_uri": "https://localhost:8080/"
        },
        "id": "Un9yJnDLpml6",
        "outputId": "5de3a2a5-901c-40a9-db03-fe8a8a3a347f"
      },
      "outputs": [
        {
          "name": "stdout",
          "output_type": "stream",
          "text": [
            "Array original permutado: [2 4 1 3]\n",
            "Array original: [1 2 3 4]\n"
          ]
        }
      ],
      "source": [
        "a = np.array([1, 2, 3, 4])\n",
        "b = random.permutation(a)\n",
        "\n",
        "print(\"Array original permutado:\", b)\n",
        "print(\"Array original:\", a)"
      ]
    },
    {
      "cell_type": "markdown",
      "metadata": {
        "id": "fRE51UGhqkCh"
      },
      "source": [
        "### Funciones universales\n",
        "\n",
        "Las funciones universales son aquellas que operan sobre el objeto ndarray\n",
        "\n",
        "Podemos comprobar si un método se trata de una función universal con la función `type`. Cuando se trata de una función universal, obtenemos que es de tipo `np.ufunc`"
      ]
    },
    {
      "cell_type": "code",
      "execution_count": 370,
      "metadata": {
        "colab": {
          "base_uri": "https://localhost:8080/"
        },
        "id": "kySYHm3PsQvH",
        "outputId": "e235e14c-856a-43d8-eb39-c7568dce1eee"
      },
      "outputs": [
        {
          "name": "stdout",
          "output_type": "stream",
          "text": [
            "<class 'numpy.ufunc'>\n"
          ]
        }
      ],
      "source": [
        "# Es una función universal\n",
        "print(type(np.multiply))"
      ]
    },
    {
      "cell_type": "code",
      "execution_count": 371,
      "metadata": {
        "colab": {
          "base_uri": "https://localhost:8080/"
        },
        "id": "a1E9M6IMs2Bt",
        "outputId": "62b8e629-f420-419f-c904-c2db6927f211"
      },
      "outputs": [
        {
          "data": {
            "text/plain": [
              "True"
            ]
          },
          "execution_count": 371,
          "metadata": {},
          "output_type": "execute_result"
        }
      ],
      "source": [
        "type(np.multiply) == np.ufunc"
      ]
    },
    {
      "cell_type": "code",
      "execution_count": 372,
      "metadata": {
        "colab": {
          "base_uri": "https://localhost:8080/"
        },
        "id": "6W7x51u9sLZD",
        "outputId": "7aa92544-accb-42eb-9fff-9aaed29f30e8"
      },
      "outputs": [
        {
          "name": "stdout",
          "output_type": "stream",
          "text": [
            "<class 'function'>\n"
          ]
        }
      ],
      "source": [
        "# No es una función universal\n",
        "print(type(np.concatenate))"
      ]
    },
    {
      "cell_type": "code",
      "execution_count": 373,
      "metadata": {
        "colab": {
          "base_uri": "https://localhost:8080/"
        },
        "id": "a2pXuSfZs7J3",
        "outputId": "6d8d7cff-8543-4f98-837d-d129fb70511e"
      },
      "outputs": [
        {
          "data": {
            "text/plain": [
              "False"
            ]
          },
          "execution_count": 373,
          "metadata": {},
          "output_type": "execute_result"
        }
      ],
      "source": [
        "type(np.concatenate) == np.ufunc"
      ]
    },
    {
      "cell_type": "markdown",
      "metadata": {
        "id": "sq0dnZcStDUF"
      },
      "source": [
        "#### Aritmética"
      ]
    },
    {
      "cell_type": "code",
      "execution_count": 374,
      "metadata": {
        "id": "V0FwLLiMtig-"
      },
      "outputs": [],
      "source": [
        "a = np.array([12, 0, 7])\n",
        "b = np.array([8, 2, 5])"
      ]
    },
    {
      "cell_type": "markdown",
      "metadata": {
        "id": "wUY04PQXtG9U"
      },
      "source": [
        "El método `.add()` suma arrays elemento a elemento"
      ]
    },
    {
      "cell_type": "code",
      "execution_count": 375,
      "metadata": {
        "colab": {
          "base_uri": "https://localhost:8080/"
        },
        "id": "DAGzTDjHsm8K",
        "outputId": "1b366206-7493-4bfe-ee38-434099ff342b"
      },
      "outputs": [
        {
          "name": "stdout",
          "output_type": "stream",
          "text": [
            "[20  2 12]\n"
          ]
        }
      ],
      "source": [
        "print(np.add(a, b))"
      ]
    },
    {
      "cell_type": "markdown",
      "metadata": {
        "id": "ndLenDpJtarZ"
      },
      "source": [
        "El método `.subtract()` resta arrays elemento a elemento\n"
      ]
    },
    {
      "cell_type": "code",
      "execution_count": 376,
      "metadata": {
        "colab": {
          "base_uri": "https://localhost:8080/"
        },
        "id": "Gv_lwATztxEO",
        "outputId": "6d5aa22e-1911-4c44-b7e3-30e96fd37202"
      },
      "outputs": [
        {
          "name": "stdout",
          "output_type": "stream",
          "text": [
            "[ 4 -2  2]\n"
          ]
        }
      ],
      "source": [
        "print(np.subtract(a, b))"
      ]
    },
    {
      "cell_type": "markdown",
      "metadata": {
        "id": "5zjDL_TEt99L"
      },
      "source": [
        "El método `.multiply()` multiplica arrays elemento a elemento"
      ]
    },
    {
      "cell_type": "code",
      "execution_count": 377,
      "metadata": {
        "colab": {
          "base_uri": "https://localhost:8080/"
        },
        "id": "TxW1U-RZtzCe",
        "outputId": "891e4af6-dcca-4dcd-fbfa-51a9a0d366f6"
      },
      "outputs": [
        {
          "name": "stdout",
          "output_type": "stream",
          "text": [
            "[96  0 35]\n"
          ]
        }
      ],
      "source": [
        "print(np.multiply(a, b))"
      ]
    },
    {
      "cell_type": "markdown",
      "metadata": {
        "id": "0bbljeruuXhi"
      },
      "source": [
        "El método `.divide()` divide arrays elemento a elemento"
      ]
    },
    {
      "cell_type": "code",
      "execution_count": 378,
      "metadata": {
        "colab": {
          "base_uri": "https://localhost:8080/"
        },
        "id": "CjTsfUIAuVl0",
        "outputId": "a9a8b375-fe2a-4eef-9b24-838790264484"
      },
      "outputs": [
        {
          "name": "stdout",
          "output_type": "stream",
          "text": [
            "[1.5 0.  1.4]\n"
          ]
        }
      ],
      "source": [
        "print(np.divide(a, b))"
      ]
    },
    {
      "cell_type": "markdown",
      "metadata": {
        "id": "4nJ3rEhqupkX"
      },
      "source": [
        "El método `.power()` calcula la potencia del primer array elevado al segundo elemento a elemento "
      ]
    },
    {
      "cell_type": "code",
      "execution_count": 379,
      "metadata": {
        "colab": {
          "base_uri": "https://localhost:8080/"
        },
        "id": "Bp3nbY0JufQk",
        "outputId": "d056fb56-db32-4c51-8e67-da0a9e84679c"
      },
      "outputs": [
        {
          "name": "stdout",
          "output_type": "stream",
          "text": [
            "[429981696         0     16807]\n"
          ]
        }
      ],
      "source": [
        "print(np.power(a, b))"
      ]
    },
    {
      "cell_type": "markdown",
      "metadata": {
        "id": "AI3bxfs-u8dA"
      },
      "source": [
        "Tanto el método `.mod()` como el método `.remainder()` calculan el resto de la división entera del primer array entre el segundo, elemento a elemento"
      ]
    },
    {
      "cell_type": "code",
      "execution_count": 380,
      "metadata": {
        "colab": {
          "base_uri": "https://localhost:8080/"
        },
        "id": "QMg3YX-NuyLj",
        "outputId": "a8c931da-8cd3-4322-8ffd-8e6ff92afe89"
      },
      "outputs": [
        {
          "name": "stdout",
          "output_type": "stream",
          "text": [
            "[4 0 2]\n",
            "[4 0 2]\n"
          ]
        }
      ],
      "source": [
        "print(np.mod(a, b))\n",
        "print(np.remainder(a, b))"
      ]
    },
    {
      "cell_type": "markdown",
      "metadata": {
        "id": "2SKk39eGvaOe"
      },
      "source": [
        "El método `.divmod()` devuelve una tupla con 2 arrays, el primero contiene los cocientes y el segundo los restos de las divisiones enteras elemento a elemento "
      ]
    },
    {
      "cell_type": "code",
      "execution_count": 381,
      "metadata": {
        "colab": {
          "base_uri": "https://localhost:8080/"
        },
        "id": "xxj-TwfxvJQP",
        "outputId": "e35cd1fb-c668-45b8-82f3-29b3e4f8a09a"
      },
      "outputs": [
        {
          "name": "stdout",
          "output_type": "stream",
          "text": [
            "(array([1, 0, 1]), array([4, 0, 2]))\n"
          ]
        }
      ],
      "source": [
        "print(np.divmod(a, b))"
      ]
    },
    {
      "cell_type": "markdown",
      "metadata": {
        "id": "pR3BhPcnv4AJ"
      },
      "source": [
        "El método `.absolute()` devuelve el valor absoluto de cada elemento de un array"
      ]
    },
    {
      "cell_type": "code",
      "execution_count": 382,
      "metadata": {
        "colab": {
          "base_uri": "https://localhost:8080/"
        },
        "id": "HB4oQZw5vzt9",
        "outputId": "74c79c28-a798-44ef-c005-84f44a84fee3"
      },
      "outputs": [
        {
          "name": "stdout",
          "output_type": "stream",
          "text": [
            "[1 0 2 1 2]\n"
          ]
        }
      ],
      "source": [
        "print(np.absolute(np.array([-1, 0, -2, 1, 2])))"
      ]
    },
    {
      "cell_type": "markdown",
      "metadata": {
        "id": "AYlHpKkwfpXT"
      },
      "source": [
        "#### Redondeando decimales\n",
        "\n",
        "En `numpy` tenemos 5 formas de redondear los decimales de un número\n",
        "\n",
        "* `.trunc()` para truncar\n",
        "* `.fix()` también para truncar\n",
        "* `.round()` para redondear\n",
        "* `.floor()` para redondear a la baja\n",
        "* `.ceil()` para redondear a la alza"
      ]
    },
    {
      "cell_type": "code",
      "execution_count": 389,
      "metadata": {
        "id": "QDh6w8rXwGOW"
      },
      "outputs": [],
      "source": [
        "a = np.array([-5.1777, 5.7778, 5.5134])   "
      ]
    },
    {
      "cell_type": "code",
      "execution_count": 385,
      "metadata": {
        "colab": {
          "base_uri": "https://localhost:8080/"
        },
        "id": "k00osHyRgZOU",
        "outputId": "e79aa666-5780-4b97-b5d6-912f999deef5"
      },
      "outputs": [
        {
          "name": "stdout",
          "output_type": "stream",
          "text": [
            "Si truncamos con .trunc(), obtendremos [-5.  5.  5.]\n",
            "Si truncamos con .fix(), obtendremos [-5.  5.  5.]\n"
          ]
        }
      ],
      "source": [
        "print(\"Si truncamos con .trunc(), obtendremos {}\".format(np.trunc(a)))\n",
        "print(\"Si truncamos con .fix(), obtendremos {}\".format(np.fix(a)))"
      ]
    },
    {
      "cell_type": "code",
      "execution_count": 390,
      "metadata": {
        "colab": {
          "base_uri": "https://localhost:8080/"
        },
        "id": "6hAXO7fMgtnk",
        "outputId": "31e8f970-fdef-4f14-9978-758600ebc13f"
      },
      "outputs": [
        {
          "name": "stdout",
          "output_type": "stream",
          "text": [
            "Si rendondeamos con .around(), obtendremos [-5.  6.  6.]\n"
          ]
        }
      ],
      "source": [
        "print(\"Si rendondeamos con .around(), obtendremos {}\".format(np.around(a)))"
      ]
    },
    {
      "cell_type": "markdown",
      "metadata": {
        "id": "VrMrpkBCg81C"
      },
      "source": [
        "**Observación.** Como segundo parámetro, podemos indicar a cuántas cifras decimales queremos redondear"
      ]
    },
    {
      "cell_type": "code",
      "execution_count": 391,
      "metadata": {
        "colab": {
          "base_uri": "https://localhost:8080/"
        },
        "id": "xjicgCI0g1xe",
        "outputId": "8f7ffa8a-0921-4e3e-97da-4f6fd2dd6d68"
      },
      "outputs": [
        {
          "name": "stdout",
          "output_type": "stream",
          "text": [
            "Si rendondeamos con .round() a 3 cifras decimales, obtendremos [-5.178  5.778  5.513]\n"
          ]
        }
      ],
      "source": [
        "print(\"Si rendondeamos con .round() a 3 cifras decimales, obtendremos {}\".\n",
        "      format(np.round(a, 3)))"
      ]
    },
    {
      "cell_type": "code",
      "execution_count": 392,
      "metadata": {
        "colab": {
          "base_uri": "https://localhost:8080/"
        },
        "id": "xjgNAcYDhHp0",
        "outputId": "6af12dd8-9f4b-4916-d550-cf728474073d"
      },
      "outputs": [
        {
          "name": "stdout",
          "output_type": "stream",
          "text": [
            "Si rendondeamos a la baja con .floor(), obtendremos [-6.  5.  5.]\n"
          ]
        }
      ],
      "source": [
        "print(\"Si rendondeamos a la baja con .floor(), obtendremos {}\".format(np.floor(a)))"
      ]
    },
    {
      "cell_type": "code",
      "execution_count": 393,
      "metadata": {
        "colab": {
          "base_uri": "https://localhost:8080/"
        },
        "id": "_fVSaRzYhM7e",
        "outputId": "8a67af45-5154-4d17-e67f-81dcc4290daf"
      },
      "outputs": [
        {
          "name": "stdout",
          "output_type": "stream",
          "text": [
            "Si rendondeamos con a la alza .ceil(), obtendremos [-5.  6.  6.]\n"
          ]
        }
      ],
      "source": [
        "print(\"Si rendondeamos con a la alza .ceil(), obtendremos {}\".format(np.ceil(a)))"
      ]
    },
    {
      "cell_type": "markdown",
      "metadata": {
        "id": "_vHqBMzPhVWh"
      },
      "source": [
        "#### Sumas y Diferencias\n",
        "\n",
        "Ya concoemos el método `.add()` que dados dos arrays los suma elemento a elemento"
      ]
    },
    {
      "cell_type": "code",
      "execution_count": 396,
      "metadata": {
        "id": "VdG_u-juhQSf"
      },
      "outputs": [],
      "source": [
        "x = np.array([2, 3, 7])\n",
        "y = np.array([-1, 5, 0])"
      ]
    },
    {
      "cell_type": "code",
      "execution_count": 397,
      "metadata": {
        "colab": {
          "base_uri": "https://localhost:8080/"
        },
        "id": "FDHZO1UhhqSK",
        "outputId": "da0e84b8-97ba-4d94-d0e1-d873f46c0aa6"
      },
      "outputs": [
        {
          "name": "stdout",
          "output_type": "stream",
          "text": [
            "[1 8 7]\n"
          ]
        }
      ],
      "source": [
        "print(np.add(x, y))"
      ]
    },
    {
      "cell_type": "markdown",
      "metadata": {
        "id": "1dh7Hty2h0d-"
      },
      "source": [
        "El método `.sum()` nos calcula la suma de los elementos de un array"
      ]
    },
    {
      "cell_type": "code",
      "execution_count": 398,
      "metadata": {
        "colab": {
          "base_uri": "https://localhost:8080/"
        },
        "id": "Hk6fQhvehtBl",
        "outputId": "209fe1dc-d051-4175-d3b6-fd9ec1c1c239"
      },
      "outputs": [
        {
          "name": "stdout",
          "output_type": "stream",
          "text": [
            "La suma de los elementos de x es 12\n",
            "La suma de los elementos de y es 4\n"
          ]
        }
      ],
      "source": [
        "print(\"La suma de los elementos de x es\", np.sum(x))\n",
        "print(\"La suma de los elementos de y es\", np.sum(y))"
      ]
    },
    {
      "cell_type": "markdown",
      "metadata": {
        "id": "xFHeTdsejlpg"
      },
      "source": [
        "Para calcular la suma acumulada de los elementos de un array, disponemos del método `.cumsum()`"
      ]
    },
    {
      "cell_type": "code",
      "execution_count": 399,
      "metadata": {
        "colab": {
          "base_uri": "https://localhost:8080/"
        },
        "id": "gb2ibXHqjs72",
        "outputId": "cd0a25af-a68b-4381-d055-6f4bc297e424"
      },
      "outputs": [
        {
          "name": "stdout",
          "output_type": "stream",
          "text": [
            "La suma acumulada de los elementos de x es [ 2  5 12]\n",
            "La suma acumulada de los elementos de y es [-1  4  4]\n"
          ]
        }
      ],
      "source": [
        "print(\"La suma acumulada de los elementos de x es\", np.cumsum(x))\n",
        "print(\"La suma acumulada de los elementos de y es\", np.cumsum(y))"
      ]
    },
    {
      "cell_type": "markdown",
      "metadata": {
        "id": "m4Dx-NaUkyo8"
      },
      "source": [
        "Para calcular las diferencias entre los elementos de un array, disponemos del método `.diff()`"
      ]
    },
    {
      "cell_type": "code",
      "execution_count": 401,
      "metadata": {
        "colab": {
          "base_uri": "https://localhost:8080/"
        },
        "id": "IYRXRu0MkEI4",
        "outputId": "0fc7158a-c0b3-4637-c1cf-8ad2b53fc5d6"
      },
      "outputs": [
        {
          "name": "stdout",
          "output_type": "stream",
          "text": [
            "La diferencia de elementos sucesivos de x es [1 4]\n",
            "La diferencia de elementos sucesivos de y es [ 6 -5]\n"
          ]
        }
      ],
      "source": [
        "print(\"La diferencia de elementos sucesivos de x es\", np.diff(x))\n",
        "print(\"La diferencia de elementos sucesivos de y es\", np.diff(y))"
      ]
    },
    {
      "cell_type": "markdown",
      "metadata": {
        "id": "_EYwUgE5whaq"
      },
      "source": [
        "El parámetro `n` nos permite elegir cuántas veces queremos calcular la diferencia entre los elementos sucesivos de un array:"
      ]
    },
    {
      "cell_type": "code",
      "execution_count": 402,
      "metadata": {
        "colab": {
          "base_uri": "https://localhost:8080/"
        },
        "id": "XYMOSA8vwRdE",
        "outputId": "0654b8e8-cee4-4e75-83bf-e2c89b9b33f7"
      },
      "outputs": [
        {
          "name": "stdout",
          "output_type": "stream",
          "text": [
            "x = [2 3 7]\n",
            "Realizando la diferencia entre sus elementos sucesivos obtenemos [1 4]\n",
            "Realizando 2 veces la diferencia entre sus elementos sucesivos obtenemos [3]\n"
          ]
        }
      ],
      "source": [
        "print(\"x =\", x)\n",
        "print(\"Realizando la diferencia entre sus elementos sucesivos obtenemos\", np.diff(x))\n",
        "print(\"Realizando 2 veces la diferencia entre sus elementos sucesivos obtenemos\", np.diff(x, n = 2))"
      ]
    },
    {
      "cell_type": "code",
      "execution_count": 403,
      "metadata": {
        "colab": {
          "base_uri": "https://localhost:8080/"
        },
        "id": "Lz55Sb10w75m",
        "outputId": "f9ce1f80-77fd-4780-d545-4d3398001ac0"
      },
      "outputs": [
        {
          "name": "stdout",
          "output_type": "stream",
          "text": [
            "y = [-1  5  0]\n",
            "Realizando la diferencia entre sus elementos sucesivos obtenemos [ 6 -5]\n",
            "Realizando 2 veces la diferencia entre sus elementos sucesivos obtenemos [-11]\n"
          ]
        }
      ],
      "source": [
        "print(\"y =\", y)\n",
        "print(\"Realizando la diferencia entre sus elementos sucesivos obtenemos\", np.diff(y))\n",
        "print(\"Realizando 2 veces la diferencia entre sus elementos sucesivos obtenemos\", np.diff(y, n = 2))"
      ]
    },
    {
      "cell_type": "markdown",
      "metadata": {
        "id": "cgVSH9eExLIg"
      },
      "source": [
        "#### Productos\n",
        "\n",
        "El método `.prod()` calcula el producto de los elementos de un array"
      ]
    },
    {
      "cell_type": "code",
      "execution_count": 404,
      "metadata": {
        "colab": {
          "base_uri": "https://localhost:8080/"
        },
        "id": "oe5Jy23IxD_m",
        "outputId": "ed680902-e261-49bf-aca8-811275416d47"
      },
      "outputs": [
        {
          "data": {
            "text/plain": [
              "384"
            ]
          },
          "execution_count": 404,
          "metadata": {},
          "output_type": "execute_result"
        }
      ],
      "source": [
        "a = np.array([2, 4, 6, 8])\n",
        "np.prod(a)"
      ]
    },
    {
      "cell_type": "markdown",
      "metadata": {
        "id": "WDvO_syhyD3b"
      },
      "source": [
        "Con el método `.cumprod()` podemos calcular el producto acumulado de un array"
      ]
    },
    {
      "cell_type": "code",
      "execution_count": 406,
      "metadata": {
        "colab": {
          "base_uri": "https://localhost:8080/"
        },
        "id": "yJOwTsxGx63e",
        "outputId": "4343f1f9-715b-442a-a556-47b7d3e7487a"
      },
      "outputs": [
        {
          "data": {
            "text/plain": [
              "array([  2,   8,  48, 384])"
            ]
          },
          "execution_count": 406,
          "metadata": {},
          "output_type": "execute_result"
        }
      ],
      "source": [
        "a = np.array([2, 4, 6, 8])\n",
        "np.cumprod(a)"
      ]
    },
    {
      "cell_type": "markdown",
      "metadata": {
        "id": "9l2LrbmA0ita"
      },
      "source": [
        "#### Trigonometría\n",
        "\n",
        "En `numpy` el número $\\pi$ se obtiene con `np.pi`.\n",
        "\n",
        "En `numpy` disponemos de los métodos:\n",
        "\n",
        "* `.sin()`\n",
        "* `.cos()`\n",
        "* `.tan()`\n",
        "\n",
        "para calcular el seno, coseno y tangente de los elementos de un array (los valores se consideran en radianes)\n",
        "\n",
        "* `.deg2rad()`\n",
        "* `.rad2deg()`\n",
        "\n",
        "para calcular conversión de ángulos a radianes y de radianes a ángulos respectivamente\n",
        "\n",
        "* `.arcsin()`\n",
        "* `.arccos()`\n",
        "* `.arctan()`\n",
        "\n",
        "para calcular el arcoseno, arcocoseno y arcotangente y hallar ángulos (el resultado es devuelto en radianes)"
      ]
    },
    {
      "cell_type": "markdown",
      "metadata": {
        "id": "oUPLPsLG0lAp"
      },
      "source": [
        "#### Funciones hiperbólicas\n",
        "\n",
        "En `numpy` disponemos de los métodos:\n",
        "\n",
        "* `.sinh()`\n",
        "* `.cosh()`\n",
        "* `.tanh()`\n",
        "\n",
        "para calcular el seno, coseno y tangente hiperbólicos de los elementos de un array (los valores se consideran en radianes)\n",
        "\n",
        "* `.arcsinh()`\n",
        "* `.arccosh()`\n",
        "* `.arctanh()`\n",
        "\n",
        "para calcular el arcoseno, arcocoseno y arcotangente hiperbólicos y hallar ángulos (el resultado es devuelto en radianes)"
      ]
    },
    {
      "cell_type": "markdown",
      "metadata": {
        "id": "Kbn9ilSX0nh5"
      },
      "source": [
        "#### Conjuntos en `numpy`\n",
        "\n",
        "Para crear un conjunto a partir de un array, usamos el método `.unique()`:  "
      ]
    },
    {
      "cell_type": "code",
      "execution_count": 409,
      "metadata": {
        "colab": {
          "base_uri": "https://localhost:8080/"
        },
        "id": "R1duUxYI1i2j",
        "outputId": "1c701ed2-2d9c-4995-ddcd-46d9edcc8fb5"
      },
      "outputs": [
        {
          "name": "stdout",
          "output_type": "stream",
          "text": [
            "[-1  1  2  4  5  6]\n"
          ]
        }
      ],
      "source": [
        "a = np.array([1, 2, -1, 1, 5, 6, 2, 4, -1, 2])\n",
        "set_a = np.unique(a)\n",
        "print(set_a)"
      ]
    },
    {
      "cell_type": "markdown",
      "metadata": {
        "id": "jWonCV2B2cex"
      },
      "source": [
        "unión entre dos arrays 1D, usamos el método `.union1d()`"
      ]
    },
    {
      "cell_type": "code",
      "execution_count": 411,
      "metadata": {
        "colab": {
          "base_uri": "https://localhost:8080/"
        },
        "id": "KXCxPjsp2W1l",
        "outputId": "cef87f7c-cb22-4283-9cb3-c7a021a42c37"
      },
      "outputs": [
        {
          "name": "stdout",
          "output_type": "stream",
          "text": [
            "[-2 -1  0  1  2  3  4]\n"
          ]
        }
      ],
      "source": [
        "x = np.array([1, 2, 3, 4])\n",
        "y = np.array([-2, -1, 0, 1])\n",
        "print(np.union1d(x, y))"
      ]
    },
    {
      "cell_type": "markdown",
      "metadata": {
        "id": "iXwnm2CG2ypz"
      },
      "source": [
        "Para hallar la intersección entre dos arrays 1D, usamos el método `.intersect1d()` "
      ]
    },
    {
      "cell_type": "code",
      "execution_count": 412,
      "metadata": {
        "colab": {
          "base_uri": "https://localhost:8080/"
        },
        "id": "vw2ssToe2u6c",
        "outputId": "bd57d032-3991-43b8-8d81-b689dda24168"
      },
      "outputs": [
        {
          "name": "stdout",
          "output_type": "stream",
          "text": [
            "[1]\n"
          ]
        }
      ],
      "source": [
        "print(np.intersect1d(x, y))"
      ]
    },
    {
      "cell_type": "markdown",
      "metadata": {
        "id": "rUq3jndq3CZB"
      },
      "source": [
        "Para hallar la diferencia entre dos arrays 1D, disponemos del método `.setdiff1d()`"
      ]
    },
    {
      "cell_type": "code",
      "execution_count": 414,
      "metadata": {
        "colab": {
          "base_uri": "https://localhost:8080/"
        },
        "id": "eBGuFG0V28bk",
        "outputId": "a63f5e8c-c088-444a-fd9d-da71f908058f"
      },
      "outputs": [
        {
          "name": "stdout",
          "output_type": "stream",
          "text": [
            "[2 3 4]\n",
            "[-2 -1  0]\n"
          ]
        }
      ],
      "source": [
        "print(np.setdiff1d(x, y))\n",
        "print(np.setdiff1d(y, x))"
      ]
    },
    {
      "cell_type": "markdown",
      "metadata": {
        "id": "KB--3Jju3PJ4"
      },
      "source": [
        "Para hallar la diferencia simétrica entre dos arrays 1D, usamos el método `.setxor1d()`"
      ]
    },
    {
      "cell_type": "code",
      "execution_count": 416,
      "metadata": {
        "colab": {
          "base_uri": "https://localhost:8080/"
        },
        "id": "6k-uIwGw3MAy",
        "outputId": "9ec9e9b3-2c7e-41c7-fcc3-00f8eea2b8c3"
      },
      "outputs": [
        {
          "name": "stdout",
          "output_type": "stream",
          "text": [
            "[-2 -1  0  2  3  4]\n"
          ]
        }
      ],
      "source": [
        "print(np.setxor1d(x, y))"
      ]
    }
  ],
  "metadata": {
    "colab": {
      "provenance": [],
      "toc_visible": true
    },
    "kernelspec": {
      "display_name": "Python 3",
      "name": "python3"
    },
    "language_info": {
      "codemirror_mode": {
        "name": "ipython",
        "version": 3
      },
      "file_extension": ".py",
      "mimetype": "text/x-python",
      "name": "python",
      "nbconvert_exporter": "python",
      "pygments_lexer": "ipython3",
      "version": "3.9.13"
    }
  },
  "nbformat": 4,
  "nbformat_minor": 0
}
