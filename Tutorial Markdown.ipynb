{
 "cells": [
  {
   "cell_type": "markdown",
   "metadata": {},
   "source": [
    "---\n",
    "Texto de enfasis\n",
    "---\n",
    "\n",
    "*Cursiva*  o _texto en cursiva_ \n",
    "\n",
    "**Negrita** \n",
    "\n",
    "***Negrita y Cursiva*** \n",
    "\n",
    "~~Tachado.~~\n",
    "\n",
    "---"
   ]
  },
  {
   "cell_type": "markdown",
   "metadata": {},
   "source": [
    "**SECCIONES**\n",
    "\n",
    "```markdown\n",
    "# Seccion 1\n",
    "# Seccion  2\n",
    "## Sub-seccion debajo de la seccion 2\n",
    "### Sub-seccion debajo de la sub-seccion 2 2\n",
    "# seccion 3\n",
    "```\n",
    "\n",
    "---"
   ]
  },
  {
   "cell_type": "markdown",
   "metadata": {},
   "source": [
    "# Seccion 1\n"
   ]
  },
  {
   "cell_type": "markdown",
   "metadata": {},
   "source": [
    "# Seccion  2\n"
   ]
  },
  {
   "cell_type": "markdown",
   "metadata": {},
   "source": [
    "## Sub-seccion debajo de la seccion 2\n"
   ]
  },
  {
   "cell_type": "markdown",
   "metadata": {},
   "source": [
    "### Sub-seccion debajo de la sub-seccion 2 2\n"
   ]
  },
  {
   "cell_type": "markdown",
   "metadata": {},
   "source": [
    "# Seccion 3"
   ]
  },
  {
   "cell_type": "markdown",
   "metadata": {},
   "source": [
    "---\n",
    "\n",
    "**LISTAS**"
   ]
  },
  {
   "cell_type": "markdown",
   "metadata": {},
   "source": [
    "\n",
    "Las listas son tipos compuestos (pueden contener más de un valor), se definen separando los valores con comas, encerrados entre corchetes. En general las listas pueden contener diferentes tipos, y pueden no ser todos iguales, tales como: números, cadenas, booleanos, ...y tambien listas. Sin embargo, suelen utilizarse con ítems del mismo tipo para mantener un orden y por buenas prácticas de codificación.\n",
    "\n",
    "- Los elementos no son necesariamente homogéneos en tipo\n",
    "- Elementos ordenados\n",
    "- Acceso mediante un índice\n",
    "- Están definidas operaciones entre Listas, así como algunos métodos:\n",
    "    - x in L (¿x es un elemento de L?)\n",
    "    - x not in L (¿x no es un elemento de L?)\n",
    "    - L1 + L2 (concatenar L1 y L2)\n",
    "    - n*L1 (n veces L1)\n",
    "        - L1*n (n veces L1)\n",
    "        - L[i] (Elemento i-ésimo)\n",
    "        - L[i:j] (Elementos i a j)\n",
    "        - L[i:j:k] (Elementos i a j, elegidos uno de cada k)\n",
    "        - len(L) (longitud de L)\n",
    "\n",
    "\n",
    "1. Los elementos no son necesariamente homogéneos en tipo\n",
    "1. Elementos ordenados\n",
    "1. Acceso mediante un índice\n",
    "1. Están definidas operaciones entre Listas, así como algunos métodos:\n",
    "    1. x in L (¿x es un elemento de L?)\n",
    "    1. x not in L (¿x no es un elemento de L?)\n",
    "    1. L1 + L2 (concatenar L1 y L2)\n",
    "    1. n*L1 (n veces L1)\n",
    "    1. L1*n (n veces L1)\n",
    "    1. L[i] (Elemento i-ésimo)"
   ]
  },
  {
   "cell_type": "markdown",
   "metadata": {},
   "source": [
    "1. Los elementos no son necesariamente homogéneos en tipo\n",
    "1. Elementos ordenados\n",
    "1. Acceso mediante un índice\n",
    "1. Están definidas operaciones entre Listas, así como algunos métodos:\n",
    "    - x in L (¿x es un elemento de L?)\n",
    "    - x not in L (¿x no es un elemento de L?)\n",
    "    - L1 + L2 (concatenar L1 y L2)\n",
    "    - n*L1 (n veces L1)\n",
    "    - L1*n (n veces L1)\n",
    "    - L[i] (Elemento i-ésimo)\n",
    "\n",
    "---"
   ]
  },
  {
   "cell_type": "markdown",
   "metadata": {},
   "source": [
    "**BLOQUE DE CODIGO**"
   ]
  },
  {
   "cell_type": "markdown",
   "metadata": {},
   "source": [
    "Si quieres crear un bloque entero que contenga código. Lo único que tienes que hacer es encerrar dicho párrafo entre dos líneas formadas por tres ` ."
   ]
  },
  {
   "cell_type": "markdown",
   "metadata": {},
   "source": [
    "```python\n",
    "\n",
    "def nombre_funcion(input1, input2, ..., inputn):\n",
    "  cuerpo de la función\n",
    "  return output\n",
    "  \n",
    "```"
   ]
  },
  {
   "cell_type": "markdown",
   "metadata": {},
   "source": [
    "```python\n",
    "lista = [expresión for elemento in iterable if condición]\n",
    "```"
   ]
  },
  {
   "cell_type": "markdown",
   "metadata": {},
   "source": [
    "---"
   ]
  },
  {
   "cell_type": "markdown",
   "metadata": {},
   "source": [
    "**LINKS DE ENLACES**"
   ]
  },
  {
   "cell_type": "markdown",
   "metadata": {},
   "source": [
    "Son los enlaces de toda la vida. Como su nombre indica, se encuentran en línea con el texto.\n",
    "\n",
    "```markdown\n",
    "\n",
    "[nombre de tu referencia] (http:www.tuenlace.com)\n",
    "\n",
    "```"
   ]
  },
  {
   "cell_type": "markdown",
   "metadata": {},
   "source": [
    "[forma del punto](https://matplotlib.org/3.2.1/api/markers_api.html#module-matplotlib.markers)"
   ]
  },
  {
   "cell_type": "markdown",
   "metadata": {},
   "source": [
    "[aquí](https://matplotlib.org/stable/gallery/color/named_colors.html)"
   ]
  },
  {
   "cell_type": "markdown",
   "metadata": {},
   "source": [
    "---\n",
    "\n",
    "**IMAGENES**"
   ]
  },
  {
   "cell_type": "markdown",
   "metadata": {},
   "source": [
    "Insertar una imagen con Markdown se realiza de una manera prácticamente idéntica a insertar links.\n",
    "\n",
    "\n",
    "Solo que en este caso, deberás añadir un símbolo de ! exclamación al principio y el enlace no será otro que la ubicación de la imagen\n",
    "\n",
    "```markdown\n",
    "![Texto alternativo](/ruta/a/la/imagen.jpg)"
   ]
  },
  {
   "cell_type": "markdown",
   "metadata": {},
   "source": [
    "![python](https://www.python.org/static/community_logos/python-logo-master-v3-TM.png)"
   ]
  },
  {
   "cell_type": "markdown",
   "metadata": {},
   "source": [
    "---\n",
    "\n",
    "**TABLAS**"
   ]
  },
  {
   "cell_type": "markdown",
   "metadata": {},
   "source": [
    " How | To | Make | a table\n",
    " --- | --- | --- | --- \n",
    " in  |  Jupyter |  Notebook| Markdown \n",
    " It | is | really| cool "
   ]
  },
  {
   "cell_type": "markdown",
   "metadata": {},
   "source": [
    "---"
   ]
  },
  {
   "cell_type": "markdown",
   "metadata": {},
   "source": [
    "**INDENTACION**\n",
    "\n",
    "Para generar citas"
   ]
  },
  {
   "cell_type": "markdown",
   "metadata": {},
   "source": [
    "```markdown\n",
    ">Un nivel de Indentacion\n",
    "```\n",
    "\n",
    ">Un nivel de Indentacion\n",
    "\n",
    "\n",
    "```markdown\n",
    ">>Dos niveles de indentacion\n",
    "```\n",
    "\n",
    ">>Dos niveles de indentacion"
   ]
  },
  {
   "cell_type": "markdown",
   "metadata": {},
   "source": [
    "> 1 Blockquotes\n",
    ">> 2 Blockquotes\n",
    ">>> 3 Blockquotes\n",
    ">>>> 4 Blockquotes\n",
    ">>>>>>>> 8 Blockquotes"
   ]
  },
  {
   "cell_type": "markdown",
   "metadata": {},
   "source": [
    "Si la cita en cuestión se compone de varios párrafos, deberás añadir el mismo símbolo > al comienzo de cada uno de ellos."
   ]
  },
  {
   "cell_type": "markdown",
   "metadata": {},
   "source": [
    "> Creo que los animales ven en el hombre un ser igual a ellos que ha perdido de forma extraordinariamente peligrosa el sano intelecto animal.\n",
    ">\n",
    "> Es decir, que ven en él al animal irracional, al animal que ríe, al animal que llora, al animal infeliz. — Friedrich Nietzsche"
   ]
  },
  {
   "cell_type": "markdown",
   "metadata": {},
   "source": [
    "Incluso puedes concatenar varios >> para crear citas anidadas."
   ]
  },
  {
   "cell_type": "markdown",
   "metadata": {},
   "source": [
    "> Esto sería una cita como la que acabas de ver.\n",
    "> \n",
    "> > Dentro de ella puedes anidar otra cita.\n",
    "> \n",
    "> La cita principal llegaría hasta aquí. "
   ]
  },
  {
   "cell_type": "markdown",
   "metadata": {},
   "source": [
    "---"
   ]
  },
  {
   "cell_type": "markdown",
   "metadata": {},
   "source": [
    "# Respuesta en el tiempo.\n",
    "\n",
    "https://latex.codecogs.com/eqneditor/editor.php?lang=es-es\n",
    "\n",
    "El sistema de ecuaciones diferenciales que es usado en los problemas dinamicos define la ecuación:\n",
    "\n",
    "$M \\ddot{x} + C\\dot{x}+ K x = M J a(t)$\n",
    "\n"
   ]
  },
  {
   "cell_type": "markdown",
   "metadata": {},
   "source": [
    "$\\rho=\\frac{0.85 \\cdot fc}{fy}\\cdot\\Bigl(1-\\sqrt{1-\\frac{2 \\cdot Rn}{0.85 \\cdot fc}}\\Bigr)$"
   ]
  },
  {
   "cell_type": "markdown",
   "metadata": {},
   "source": [
    "$y=x^2$\n",
    "\n",
    "$e^{i\\pi} + 1 = 0$\n",
    "\n",
    "$e^x=\\sum_{i=0}^\\infty \\frac{1}{i!}x^i$\n",
    "\n",
    "$\\frac{n!}{k!(n-k)!} = {n \\choose k}$\n",
    "\n",
    "\n",
    "\n",
    "**Matriz.** Una matriz de dimensiones $m\\times n$ es una tabla formada por elementos dispuestos en $m$ filas y $n$ columnas de la forma\n",
    "\n",
    "\n",
    "$A= \\displaystyle\\begin{pmatrix} 1 & 2 & 3\\\\ 4 & 5 & 6\\\\ 7 & 8 & 9\\end{pmatrix}$\n",
    "\n",
    "$A= \\displaystyle\\begin{pmatrix} \n",
    "1 & 2 & 3\\\\ \n",
    "4 & 5 & 6\\\\ \n",
    "7 & 8 & 9\\end{pmatrix}$\n"
   ]
  },
  {
   "cell_type": "markdown",
   "metadata": {},
   "source": [
    "$${n\\choose k} = \\frac{n!}{k!(n-k)!}$$\n",
    "\n",
    "$$||x|| = \\sqrt{x_1^2 + x_2^2}$$\n",
    "\n",
    "$$\\Gamma(x) = \\int_0^{\\infty}y^{x-1}e^{-y}dy$$\n",
    "\n",
    "$\\Gamma(x) = (x-1)!$ si $x$ es un número entero\n",
    "\n",
    "$$n = r\\cdot (q + 1) + (m - r)\\cdot q = qr + r + mq - qr = mq + r $$"
   ]
  },
  {
   "cell_type": "markdown",
   "metadata": {},
   "source": []
  },
  {
   "cell_type": "markdown",
   "metadata": {},
   "source": [
    "<center><strong> Sismo de Piso 2007 </strong></center>\n",
    "<center><em>Esacion UNICA (ICA) </em></center>\n",
    "\n",
    "\n",
    "\n",
    "<center>\n",
    "\n",
    "| Time | EW(cm/s²) | NS(cm/s²) | Z(cm/s²) |\n",
    "|:-----|:--------- |:----------|:---------|\n",
    "| 0.00 |  -0.2015  |  -0.7075  |  1.3257  |\n",
    "| 0.01 |  -0.2015  |  -0.7075  |  1.3257  |\n",
    "| 0.02 |  -0.2015  |  -0.7075  |  1.3257  |\n",
    "| 0.03 |  -0.2015  |  -0.7075  |  1.3257  |\n",
    "| ...  |     ...   |    ...    |   ...    |\n",
    "|218.05|  -0.6190  |  -0.4306  |  -0.1228 |\n",
    "|218.06|  -0.4554  |  -0.1593  |  -0.0147 |\n",
    "\n",
    "</center>"
   ]
  }
 ],
 "metadata": {
  "kernelspec": {
   "display_name": "Python 3",
   "language": "python",
   "name": "python3"
  },
  "language_info": {
   "codemirror_mode": {
    "name": "ipython",
    "version": 3
   },
   "file_extension": ".py",
   "mimetype": "text/x-python",
   "name": "python",
   "nbconvert_exporter": "python",
   "pygments_lexer": "ipython3",
   "version": "3.9.13"
  },
  "orig_nbformat": 4
 },
 "nbformat": 4,
 "nbformat_minor": 2
}
